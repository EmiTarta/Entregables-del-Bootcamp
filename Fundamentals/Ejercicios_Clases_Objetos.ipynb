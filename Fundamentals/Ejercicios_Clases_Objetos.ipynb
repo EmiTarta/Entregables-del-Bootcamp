{
 "cells": [
  {
   "cell_type": "markdown",
   "metadata": {},
   "source": [
    "![imagen](./img/ejercicios.png)\n",
    "\n",
    "# Ejercicios Clases y Objetos"
   ]
  },
  {
   "attachments": {},
   "cell_type": "markdown",
   "metadata": {},
   "source": [
    "## Ejercicio 1\n",
    "Somos una empresa que tiene varias tiendas de electrodomésticos. Necesitamos un programa para manejar las tiendas, ver las ventas que han tenido, cuántos empleados hay, etc... Para ello vamos a modelizar la tienda en una clase, que tendrá las siguientes características:\n",
    "* Nombre clase: \"Tienda\"\n",
    "* Atributos comunes:\n",
    "    * Tipo: \"Electrodomésticos\"\n",
    "    * Abierta: True\n",
    "* Atributos propios de cada tienda:\n",
    "    * Nombre - String\n",
    "    * Dirección - String\n",
    "    * Número de empleados - int\n",
    "    * Ventas últimos 3 meses - Lista de 3 numeros\n",
    "* Método para calcular las ventas de todos los meses, que devuelva un número con todas las ventas.\n",
    "* Método que calcula la media de ventas de los últimos meses, por empleado\n",
    "* Método que devuelve en un string el nombre de la tienda, junto con su dirección.\n",
    "* Método que obtiene las ventas del último mes.\n",
    "* Método para dar una proyección de las ventas en caso de haber invertido X dinero en marketing en esa tienda. Siendo X el parámetro de entrada. Si X es menor de 1000, las ventas de los ultimos 3 meses hubiesen sido de (1.2 x ventas), si es mayor o igual de 1000, las ventas hubiesen sido de (1.5 x venta). El método reescribe el atributo de ventas en los últimos 3 meses, y además devuelve las ventas con el aumento.\n",
    "\n",
    "Se pide:\n",
    "1. Implementar la clase \"Tienda\"\n",
    "2. Crear tres tiendas con datos inventados\n",
    "3. Comprueba en al menos una de ellas, todo lo implementado en la clase tienda (sus atributos, media de ventas, ventas/empleado...)\n",
    "3. Calcular las ventas del último mes de todas las tiendas. Para ello usa el bucle `for`\n",
    "4. Imprime por pantalla los nombres de las tiendas cuya dirección lleve el string \"Avenida\"\n",
    "5. Seguro que ya has hecho este apartado... Documenta la clase :)"
   ]
  },
  {
   "cell_type": "code",
   "execution_count": 3,
   "metadata": {},
   "outputs": [],
   "source": [
    "class Tienda:\n",
    "    \"\"\"\n",
    "    Clase que representa una tienda de electrodomésticos.\n",
    "    \n",
    "    Atributos:\n",
    "    ----------\n",
    "    tipo : str\n",
    "        Tipo de productos que vende la tienda (por defecto 'electrodomesticos').\n",
    "    abierta : bool\n",
    "        Indica si la tienda está abierta (por defecto True)\n",
    "    \"\"\"\n",
    "    tipo = \"electrodomesticos\"\n",
    "    abierta = True\n",
    "\n",
    "    def __init__(self, nombre, direccion, n_empleados, ventas_3m):\n",
    "        \"\"\"\n",
    "        Inicializa una nueva instancia de la clase Tienda.\n",
    "        \n",
    "        Parámetros:\n",
    "        -----------\n",
    "        nombre : str\n",
    "            El nombre de la tienda.\n",
    "        direccion : str\n",
    "            La dirección de la tienda.\n",
    "        n_empleados : int\n",
    "            Número de empleados que trabajan en la tienda.\n",
    "        ventas_3m : list\n",
    "            Lista que contiene las ventas de los últimos tres meses.\n",
    "        \"\"\"\n",
    "        self.nombre = nombre\n",
    "        self.direccion = direccion\n",
    "        self.n_empleados = n_empleados\n",
    "        self.ventas_3m = ventas_3m\n",
    "\n",
    "\n",
    "    def ventas_tot(self): \n",
    "        \"\"\"\n",
    "        Calcula el total de ventas de los últimos tres meses.\n",
    "        \n",
    "        Retorna:\n",
    "        --------\n",
    "        total : int\n",
    "            La suma de las ventas en los últimos tres meses.\n",
    "        \"\"\"    \n",
    "        total = sum(self.ventas_3m)\n",
    "        return total\n",
    "    \n",
    "\n",
    "    def media_ventas (self):\n",
    "        \"\"\"\n",
    "        Calcula la media de ventas del último mes por empleado.\n",
    "        \n",
    "        Retorna:\n",
    "        --------\n",
    "        media_por_empleado : float\n",
    "            La media de ventas por empleado en el último mes, redondeada a dos decimales.\n",
    "        \"\"\"\n",
    "        media_por_empleado = ((self.ventas_3m)[-1]) / self.n_empleados\n",
    "        return round(media_por_empleado, 2)\n",
    "\n",
    "\n",
    "    def nombre_dir(self):\n",
    "        \"\"\"\n",
    "        Retorna una cadena con el nombre y la dirección de la tienda.\n",
    "        \n",
    "        Retorna:\n",
    "        --------\n",
    "        str:\n",
    "            Una cadena con el nombre de la tienda y su dirección.\n",
    "        \"\"\"\n",
    "        return f\"Tu tienda es '{self.nombre}' y queda en la direccion {self.direccion}\"\n",
    "    \n",
    "\n",
    "    def ultimo_mes(self):\n",
    "        \"\"\"\n",
    "        Retorna las ventas del último mes.\n",
    "        \n",
    "        Retorna:\n",
    "        --------\n",
    "        ventas_ultimo_mes : int\n",
    "            Las ventas registradas en el último mes.\n",
    "        \"\"\"\n",
    "        ventas_ultimo_mes = self.ventas_3m[-1]\n",
    "        return ventas_ultimo_mes\n",
    "\n",
    "\n",
    "    def proyeccion(self, inversion):\n",
    "        \"\"\"\n",
    "        Calcula una proyección de ventas basada en la inversión realizada.\n",
    "        \n",
    "        Parámetros:\n",
    "        -----------\n",
    "        inversion : float\n",
    "            Monto de la inversión a realizar.\n",
    "        \n",
    "        Retorna:\n",
    "        --------\n",
    "        str:\n",
    "            Una cadena con el total proyectado de ventas basadas en la inversión.\n",
    "        \"\"\"\n",
    "        total=sum(self.ventas_3m)\n",
    "        if inversion < 1000:\n",
    "            total = total * 1.2\n",
    "        elif inversion >= 1000:\n",
    "            total = total * 1.5\n",
    "        return f\"Las ventas de los ultimos 3 meses con una inversion de {inversion}, nos dan un total de {total}\""
   ]
  },
  {
   "cell_type": "code",
   "execution_count": 4,
   "metadata": {},
   "outputs": [
    {
     "name": "stdout",
     "output_type": "stream",
     "text": [
      "67670\n",
      "299.67\n",
      "Tu tienda es 'Los picapiedras' y queda en la direccion Calle La Pampa 535\n",
      "22600\n",
      "Las ventas de los ultimos 3 meses con una inversion de 790, nos dan un total de 32844.0\n"
     ]
    }
   ],
   "source": [
    "# Creación de instancias de la clase Tienda\n",
    "\n",
    "los_picapiedras = Tienda(\"Los picapiedras\", \"Calle La Pampa 535\", 65, [20980, 21950, 17660])\n",
    "los_supersonicos = Tienda(\"Los supersonicos\", \"Avenida Chaco 1690\", 30, [8440, 9940, 8990])\n",
    "los_brady = Tienda(\"Los brady\", \"Paseo Lorenzatti 387\", 87, [23990, 21080, 22600])\n",
    "\n",
    "# Llamadas a métodos de las instancias\n",
    "print(los_brady.ventas_tot())  # Total de ventas de los últimos tres meses para los Brady\n",
    "print(los_supersonicos.media_ventas())  # Media de ventas por empleado para los Supersónicos\n",
    "print(los_picapiedras.nombre_dir())  # Nombre y dirección de los Picapiedras\n",
    "print(los_brady.ultimo_mes())  # Ventas del último mes para los Brady\n",
    "print(los_supersonicos.proyeccion(790))  # Proyección de ventas con una inversión de 790 para los Supersónicos"
   ]
  },
  {
   "cell_type": "code",
   "execution_count": 9,
   "metadata": {},
   "outputs": [
    {
     "name": "stdout",
     "output_type": "stream",
     "text": [
      "Este mes la empresa ha facturado: 49250\n",
      "la tienda Los supersonicos queda sobre una Avenida\n"
     ]
    }
   ],
   "source": [
    "# Lista de tiendas\n",
    "tiendas = [los_picapiedras, los_supersonicos, los_brady]\n",
    "ventas_ultimo_mes = 0\n",
    "\n",
    "# Suma de las ventas del último mes de todas las tiendas\n",
    "for tienda in tiendas:\n",
    "    ventas_ultimo_mes += tienda.ultimo_mes()\n",
    "print(\"Este mes la empresa ha facturado:\", ventas_ultimo_mes)\n",
    "\n",
    "\n",
    "# Iteración sobre las tiendas para encontrar aquellas que están en una avenida\n",
    "for tienda in tiendas:\n",
    "    if \"Avenida\" in tienda.direccion:\n",
    "        print(f\"la tienda {tienda.nombre} queda sobre una Avenida\")"
   ]
  },
  {
   "cell_type": "markdown",
   "metadata": {},
   "source": [
    "## Ejercicio 2\n",
    "En este ejercicio vamos a implementar una clase *Perro* en Python. La clase tiene las siguientes características:\n",
    "* Cosas que sabemos seguro que tiene un perro\n",
    "    * Tiene 4 patas\n",
    "    * 2 orejas\n",
    "    * 2 ojos\n",
    "    * Una velocidad de 0. Por defecto, el perro está parado\n",
    "* Cuando se inicialice:\n",
    "    * El perro será de una determinada raza\n",
    "    * Por defecto tendrá pelo \"Marrón\", a no ser que se diga lo contrario.\n",
    "    * Por defecto no tendrá dueño, a no ser que se diga lo contrario.\n",
    "    \n",
    "* Dispondrá también de un método llamado andar, que tiene un argumento de entrada (aumento_velocidad). Este valor se le sumará a la velocidad que ya llevaba el perro.\n",
    "* Necesita otro método (parar), donde pondremos la velocidad a 0.\n",
    "* Otro método llamado \"ladrar\", que tendrá un argumento de entrada, y la salida será el siguiente string: \"GUAU!\" + el argumento de entrada.\n",
    "\n",
    "\n",
    "Se pide:\n",
    "* Implementa la clase *Perro*\n",
    "* Crea un objeto de tipo *Perro*, sin dueño\n",
    "* Comprueba que están bien todos sus atributos\n",
    "* Prueba que ande, y comprueba su velocidad\n",
    "* Páralo\n",
    "* Documenta la clase *Perro*"
   ]
  },
  {
   "cell_type": "code",
   "execution_count": 171,
   "metadata": {},
   "outputs": [],
   "source": [
    "class Perro:\n",
    "    \"\"\"\n",
    "    Clase que representa a un perro.\n",
    "    \n",
    "    Atributos de clase:\n",
    "    -------------------\n",
    "    patas : int\n",
    "        Número de patas del perro (por defecto 4).\n",
    "    orejas : int\n",
    "        Número de orejas del perro (por defecto 2).\n",
    "    ojos : int\n",
    "        Número de ojos del perro (por defecto 2).\n",
    "    velocidad : int\n",
    "        Velocidad actual del perro (por defecto 0).\n",
    "    \n",
    "    Atributos de instancia:\n",
    "    -----------------------\n",
    "    raza : str\n",
    "        La raza del perro.\n",
    "    pelo : str\n",
    "        El color del pelo del perro (por defecto 'marron').\n",
    "    owner : str\n",
    "        El nombre del dueño del perro (por defecto 'No').\n",
    "    \"\"\"\n",
    "    patas = 4\n",
    "    orejas = 2\n",
    "    ojos = 2\n",
    "    velocidad = 0\n",
    "\n",
    "    def __init__(self, raza, pelo=\"marron\", owner=\"No\"):\n",
    "        \"\"\"\n",
    "        Inicializa una nueva instancia de la clase Perro.\n",
    "        \n",
    "        Parámetros:\n",
    "        -----------\n",
    "        raza : str\n",
    "            La raza del perro.\n",
    "        pelo : str, opcional\n",
    "            El color del pelo del perro (por defecto 'marron').\n",
    "        owner : str, opcional\n",
    "            El nombre del dueño del perro (por defecto 'No').\n",
    "        \"\"\"\n",
    "        self.raza = raza\n",
    "        self.pelo = pelo\n",
    "        self.owner = owner\n",
    "\n",
    "    def andar(self, aumento_velocidad):\n",
    "        \"\"\"\n",
    "        Incrementa la velocidad del perro para simular que está andando.\n",
    "        \n",
    "        Parámetros:\n",
    "        -----------\n",
    "        aumento_velocidad : int\n",
    "            La cantidad en la que aumenta la velocidad del perro.\n",
    "        \n",
    "        Retorna:\n",
    "        --------\n",
    "        str:\n",
    "            Una cadena que indica que el perro está andando.\n",
    "        \"\"\"\n",
    "        self.velocidad = self.velocidad + aumento_velocidad\n",
    "        return \"El perro esta andando\"\n",
    "\n",
    "    def parar(self):\n",
    "        \"\"\"\n",
    "        Simula que el perro ha parado al establecer su velocidad a 0.\n",
    "        \n",
    "        Retorna:\n",
    "        --------\n",
    "        str:\n",
    "            Una cadena que indica que el perro ha parado.\n",
    "        \"\"\"\n",
    "        self.velocidad = 0  # Esta línea no cambia la velocidad, debería ser self.velocidad = 0\n",
    "        return \"El perro ha parado\"\n",
    "\n",
    "    def ladrar(self, ladra):\n",
    "        \"\"\"\n",
    "        Simula el ladrido del perro.\n",
    "        \n",
    "        Parámetros:\n",
    "        -----------\n",
    "        ladra : str\n",
    "            Un sonido adicional que el perro hace al ladrar.\n",
    "        \n",
    "        Retorna:\n",
    "        --------\n",
    "        str:\n",
    "            Una cadena que simula el sonido del ladrido del perro.\n",
    "        \"\"\"\n",
    "        return \"Guau!\" + ladra\n"
   ]
  },
  {
   "cell_type": "code",
   "execution_count": 172,
   "metadata": {},
   "outputs": [
    {
     "data": {
      "text/plain": [
       "'No'"
      ]
     },
     "execution_count": 172,
     "metadata": {},
     "output_type": "execute_result"
    }
   ],
   "source": [
    "pichicho = Perro(\"De la calle\", \"negro manchado\")\n",
    "pichicho.patas\n",
    "pichicho.orejas\n",
    "pichicho.ojos\n",
    "pichicho.velocidad\n",
    "pichicho.raza\n",
    "pichicho.pelo\n",
    "pichicho.owner"
   ]
  },
  {
   "cell_type": "code",
   "execution_count": 173,
   "metadata": {},
   "outputs": [
    {
     "data": {
      "text/plain": [
       "'El perro esta andando'"
      ]
     },
     "execution_count": 173,
     "metadata": {},
     "output_type": "execute_result"
    }
   ],
   "source": [
    "pichicho.andar(5)"
   ]
  },
  {
   "cell_type": "code",
   "execution_count": 174,
   "metadata": {},
   "outputs": [
    {
     "data": {
      "text/plain": [
       "'El perro ha parado'"
      ]
     },
     "execution_count": 174,
     "metadata": {},
     "output_type": "execute_result"
    }
   ],
   "source": [
    "pichicho.parar()"
   ]
  },
  {
   "cell_type": "code",
   "execution_count": 175,
   "metadata": {},
   "outputs": [
    {
     "data": {
      "text/plain": [
       "'Guau!Guauggg'"
      ]
     },
     "execution_count": 175,
     "metadata": {},
     "output_type": "execute_result"
    }
   ],
   "source": [
    "pichicho.ladrar(\"Guauggg\")"
   ]
  }
 ],
 "metadata": {
  "kernelspec": {
   "display_name": "fundamentals_env",
   "language": "python",
   "name": "python3"
  },
  "language_info": {
   "codemirror_mode": {
    "name": "ipython",
    "version": 3
   },
   "file_extension": ".py",
   "mimetype": "text/x-python",
   "name": "python",
   "nbconvert_exporter": "python",
   "pygments_lexer": "ipython3",
   "version": "3.11.9"
  }
 },
 "nbformat": 4,
 "nbformat_minor": 4
}
