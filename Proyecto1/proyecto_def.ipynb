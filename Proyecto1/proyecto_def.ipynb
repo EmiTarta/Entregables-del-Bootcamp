{
 "cells": [
  {
   "cell_type": "markdown",
   "metadata": {},
   "source": [
    "Un emprendimiento de pastelería llamado \"Algo Dulce\" quiere digitalizar el control de su inventario. Tiene una lista de insumos en su inventario, la receta de cada uno y calculados los gastos fijos por cada producto (luz, agua, envoltorio, insumos). "
   ]
  },
  {
   "cell_type": "markdown",
   "metadata": {},
   "source": [
    "DICCIONARIO CON RECETAS: Primero he hecho una lista que se llama \"recetas\" que almacena 6 diccionarios correspondientes a los 6 productos que vende \"Algo Dulce\", son todos budines. \n",
    "Cada diccionario tiene dos elementos: el nombre del producto, y otro elemento 'ingredientes'. Este último elemento es a su vez un diccionario con todos los ingredientes de la receta de cada producto, y las cantidades en gramos (salvo los huevos, que es por unidad)."
   ]
  },
  {
   "cell_type": "code",
   "execution_count": 173,
   "metadata": {},
   "outputs": [],
   "source": [
    "# lista que contiene los diccionarios con las recetas del emprendimiento\n",
    "recetas = [\n",
    "    {'nombre': 'budin_carrot', # Nombre de la receta\n",
    "     'ingredientes': # Ingredientes necesarios para la receta\n",
    "     {'harina_integral': 0.45, \n",
    "      'harina_000': 0.3, \n",
    "      'azucar_mascabo': 0.36, \n",
    "      'azucar_blanca': 0.4, \n",
    "      'aceite': 0.27, \n",
    "      'zanahoria': 0.6, \n",
    "      'manzana': 0.3, \n",
    "      'jengibre': 0.015, \n",
    "      'polvo_hornear': 0.01, \n",
    "      'bicarbonato': 0.015, \n",
    "      'vainilla': 0.01, \n",
    "      'nueces': 0.2, \n",
    "      'huevo': 8, \n",
    "      'semillas': 0.03}},\n",
    "    {'nombre': 'budin_citrico', # Nombre de la receta\n",
    "     'ingredientes': # Ingredientes necesarios para la receta\n",
    "     {'harina_integral': 0.45, \n",
    "      'harina_000': 0.45, \n",
    "      'azucar_mascabo': 0.27, \n",
    "      'azucar_blanca': 0.3, \n",
    "      'aceite': 0.18, \n",
    "      'mandarina': 0.8, \n",
    "      'naranja': 0.68, \n",
    "      'jengibre': 0.015, \n",
    "      'bicarbonato': 0.015, \n",
    "      'huevo': 4, \n",
    "      'semillas': 0.02}},\n",
    "    {'nombre': 'budin_banana', # Nombre de la receta\n",
    "     'ingredientes': # Ingredientes necesarios para la receta\n",
    "     {'harina_integral': 0.225, \n",
    "      'harina_000': 0.15, \n",
    "      'azucar_mascabo': 0.18, \n",
    "      'azucar_blanca': 0.2, \n",
    "      'aceite': 0.18, \n",
    "      'banana': 0.6, \n",
    "      'almendra': 0.14, \n",
    "      'polvo_hornear': 0.01, \n",
    "      'bicarbonato': 0.005, \n",
    "      'huevo': 4, \n",
    "      'semillas': 0.015}},\n",
    "    {'nombre': 'budin_pera', # Nombre de la receta\n",
    "     'ingredientes': # Ingredientes necesarios para la receta\n",
    "     {'harina_integral': 0.225, \n",
    "      'harina_000': 0.225, \n",
    "      'azucar_mascabo': 0.18, \n",
    "      'azucar_blanca': 0.2, \n",
    "      'aceite': 0.135, \n",
    "      'pera': 0.36, \n",
    "      'polvo_hornear': 0.01, \n",
    "      'bicarbonato': 0.01, \n",
    "      'huevo': 4, \n",
    "      'semillas': 0.015, \n",
    "      'cacao_amargo': 0.06, \n",
    "      'chips': 0.14}},\n",
    "    {'nombre': 'budin_avena', # Nombre de la receta\n",
    "     'ingredientes': # Ingredientes necesarios para la receta\n",
    "     {'avena': 0.16, \n",
    "      'harina_000': 0.21, \n",
    "      'azucar_mascabo': 0.135, \n",
    "      'azucar_blanca': 0.05, \n",
    "      'aceite': 0.09, \n",
    "      'arandanos': 0.1, \n",
    "      'polvo_hornear': 0.005, \n",
    "      'bicarbonato': 0.015, \n",
    "      'huevo': 2, \n",
    "      'choco_blanco': 0.08, \n",
    "      'leche': 0.25, \n",
    "      'limon': 0.07}},\n",
    "    {'nombre': 'budin_manzana', # Nombre de la receta\n",
    "     'ingredientes': # Ingredientes necesarios para la receta\n",
    "     {'avena': 0.225, \n",
    "      'harina_000': 0.225, \n",
    "      'azucar_mascabo': 0.18, \n",
    "      'azucar_blanca': 0.2, \n",
    "      'aceite': 0.15, \n",
    "      'polvo_hornear': 0.01, \n",
    "      'bicarbonato': 0.005, \n",
    "      'huevo': 6, \n",
    "      'manzana': 0.9}},\n",
    "]\n"
   ]
  },
  {
   "cell_type": "markdown",
   "metadata": {},
   "source": [
    "CANTIDADES POR BUDÍN (POR UNIDAD): Las recetas que tenemos almacenadas en los diccionarios de ingredientes alcanza para una determinada cantidad de budines (dependiendo de cual sea), por lo que he creado una función (`cantidades_por_budin`) que calcula los ingredientes por por unidad. Es importante tener estos datos por unidad de producto, para que luego sea más fácil el cálculo de precios. Esta función se hara solo esta vez, ya que es un número que no varía. Pero hemos decidido crearla para poder utilizarla en futuros productos que se incorporen al emprendimiento.\n",
    "\n",
    "`Cantidades_por_budin` usa dos argumentos de entrada: la cantidad de budines que salen por receta(`cuantos_budines`), y cual es la receta (`producto`, indicada por el índice en la lista de recetas). \n",
    "\n",
    "Se ejecuta la función una vez para cada producto, conforme la cantidad de budines que salen por receta, y se almacenan los resultados en distintas variables (ej: carrot) y se almacenan las 6 variables en una lista que se llama: `budines`. "
   ]
  },
  {
   "cell_type": "code",
   "execution_count": 174,
   "metadata": {},
   "outputs": [],
   "source": [
    "\n",
    "# Definición de la función para calcular las cantidades de ingredientes por budín\n",
    "def cantidades_por_budin(cuantos_budines, producto):  \n",
    "    cant_por_receta = {} # Diccionario para almacenar las cantidades por budín\n",
    "    for clave, valor in producto['ingredientes'].items():  # Itera sobre los ingredientes del diccionario\n",
    "        cant_por_receta[clave] = round(valor / cuantos_budines, 2)  # Calcula la cantidad por budín\n",
    "    return cant_por_receta  # Devuelve el diccionario con las cantidades por budín\n"
   ]
  },
  {
   "cell_type": "code",
   "execution_count": 175,
   "metadata": {},
   "outputs": [],
   "source": [
    "# Llamadas a la función para cada receta y el número de budines a preparar\n",
    "\n",
    "carrot = cantidades_por_budin(6, recetas[0])\n",
    "citrico = cantidades_por_budin(4.5, recetas[1])\n",
    "banana = cantidades_por_budin(3, recetas[2])\n",
    "pera = cantidades_por_budin(3, recetas[3])\n",
    "avena = cantidades_por_budin(4, recetas[4])\n",
    "manzana = cantidades_por_budin(3, recetas[5])\n",
    "\n",
    "budines = [\n",
    "    carrot, \n",
    "    citrico, \n",
    "    banana, \n",
    "    pera, \n",
    "    avena, \n",
    "    manzana]"
   ]
  },
  {
   "cell_type": "code",
   "execution_count": 176,
   "metadata": {},
   "outputs": [
    {
     "name": "stdout",
     "output_type": "stream",
     "text": [
      "{'harina_integral': 0.07, 'harina_000': 0.05, 'azucar_mascabo': 0.06, 'azucar_blanca': 0.07, 'aceite': 0.05, 'zanahoria': 0.1, 'manzana': 0.05, 'jengibre': 0.0, 'polvo_hornear': 0.0, 'bicarbonato': 0.0, 'vainilla': 0.0, 'nueces': 0.03, 'huevo': 1.33, 'semillas': 0.01}\n"
     ]
    }
   ],
   "source": [
    "print(carrot)"
   ]
  },
  {
   "cell_type": "markdown",
   "metadata": {},
   "source": [
    "A continuación hemos hecho un bucle for para poder extraer junto con la función `items()` un listado de todos los ingredientes utilizados en las recetas, ya que estos en muchas se repiten, pero otras recetas tienen ingredientes únicos. Con esa línea de código, nos aseguramos que esta lista contenga todos los ingredientes que utilizamos en todas las recetas. "
   ]
  },
  {
   "cell_type": "code",
   "execution_count": 177,
   "metadata": {},
   "outputs": [
    {
     "name": "stdout",
     "output_type": "stream",
     "text": [
      "{'harina_integral': 'x', 'harina_000': 'x', 'azucar_mascabo': 'x', 'azucar_blanca': 'x', 'aceite': 'x', 'zanahoria': 'x', 'manzana': 'x', 'jengibre': 'x', 'polvo_hornear': 'x', 'bicarbonato': 'x', 'vainilla': 'x', 'nueces': 'x', 'huevo': 'x', 'semillas': 'x', 'mandarina': 'x', 'naranja': 'x', 'banana': 'x', 'almendra': 'x', 'pera': 'x', 'cacao_amargo': 'x', 'chips': 'x', 'avena': 'x', 'arandanos': 'x', 'choco_blanco': 'x', 'leche': 'x', 'limon': 'x'}\n"
     ]
    }
   ],
   "source": [
    "# Diccionario para almacenar los precios de los ingredientes\n",
    "\n",
    "precios_ingredientes = {}\n",
    "\n",
    "# Iterar sobre las recetas para llenar el diccionario de precios\n",
    "for receta in recetas:\n",
    "    # Iterar sobre los ingredientes de cada receta\n",
    "    for ingrediente, cantidad in receta['ingredientes'].items():\n",
    "        # Agregar el ingrediente al diccionario de precios si no está ya presente\n",
    "        if ingrediente not in precios_ingredientes:\n",
    "             precios_ingredientes[ingrediente] = 'x'  # Inicializa con un valor placeholder\n",
    "             \n",
    "# Imprimir el diccionario de precios antes de llenarlo correctamente\n",
    "print(precios_ingredientes)"
   ]
  },
  {
   "cell_type": "markdown",
   "metadata": {},
   "source": [
    "Con este código obtuvimos un diccionario con la clave de ingrediente, y valor 'x', que fue modificado manualmente con los datos proporcionados por el cliente."
   ]
  },
  {
   "cell_type": "code",
   "execution_count": 178,
   "metadata": {},
   "outputs": [],
   "source": [
    "# Asignar los precios reales de los ingredientes a un diccionario\n",
    "\n",
    "precios_ingredientes = {\n",
    "'harina_integral': 1.25, \n",
    " 'harina_000': 0.67, \n",
    " 'azucar_mascabo': 2.25, \n",
    " 'azucar_blanca': 0.7, \n",
    " 'aceite': 1.76, \n",
    " 'zanahoria': 1.5, \n",
    " 'manzana': 2.5, \n",
    " 'jengibre': 17, \n",
    " 'polvo_hornear': 6.21, \n",
    " 'bicarbonato': 3.96, \n",
    " 'vainilla': 4.5, \n",
    " 'nueces': 10.61, \n",
    " 'huevo': 128, \n",
    " 'semillas': 2.26, \n",
    " 'mandarina': 3, \n",
    " 'naranja': 1.5, \n",
    " 'banana': 2.3, \n",
    " 'almendra': 16.22, \n",
    " 'pera': 2.7, \n",
    " 'cacao_amargo': 7.94, \n",
    " 'avena': 1.75, \n",
    " 'arandanos': 13, \n",
    " 'choco_blanco': 8.1, \n",
    " 'leche': 1.5, \n",
    " 'limon': 2.9, \n",
    " 'chips': 8.1}\n"
   ]
  },
  {
   "cell_type": "markdown",
   "metadata": {},
   "source": [
    "Una vez almacenados todos los precios en un diccionario, y con las cantidades de cada receta almacenadas en `recetas`, es hora de calcular el coste de cada budín. Lo hacemos con la función  `calcular_costo`. "
   ]
  },
  {
   "cell_type": "code",
   "execution_count": 179,
   "metadata": {},
   "outputs": [
    {
     "name": "stdout",
     "output_type": "stream",
     "text": [
      "[{'budin_carrot': 1030.59}, {'budin_citrico': 517.78}, {'budin_banana': 517.01}, {'budin_pera': 515.93}, {'budin_avena': 259.53}, {'budin_manzana': 771.69}]\n"
     ]
    }
   ],
   "source": [
    "# Crear una función para calcular el costo de una receta\n",
    "def calcular_costo(receta, precios_ingredientes):\n",
    "    costo_total = 0\n",
    "    for ingrediente, cantidad in receta['ingredientes'].items():\n",
    "        # Multiplicar la cantidad del ingrediente por su precio y sumar al costo total\n",
    "        costo_total = costo_total + cantidad * precios_ingredientes.get(ingrediente, 0) \n",
    "      # Redondear el costo total a 2 decimales\n",
    "    return round(costo_total, 2)\n",
    "\n",
    "# Crear una lista para almacenar el costo de cada budín\n",
    "costos_budines = []\n",
    "\n",
    "# Calcular el costo de cada receta\n",
    "for receta in recetas:\n",
    "    costo = calcular_costo(receta, precios_ingredientes) # Llama a la función para calcular el costo\n",
    "    costos_budines.append({receta['nombre']: costo}) # Agrega el costo a la lista con el nombre de la receta\n",
    "\n",
    "# Mostrar los costos de cada budín\n",
    "print(costos_budines)"
   ]
  },
  {
   "cell_type": "markdown",
   "metadata": {},
   "source": [
    "Tambien hemos creado una función calcula el total de insumos para “X” productos, para los casos que “Algo dulce” tenga un encargo grande de budines, o simplemente quiera calcular cuántos insumos requieren una cierta cantidad de unidades. \n",
    "La función `insumos_por_budines`, tendrá como primer argumento `budines_vendidos` (el número de budines cuyos ingredientes queremos calcular) y el segundo argumento es sobre qué budín queremos hacer el cálculo. Esto devolverá en un diccionario los insumos totales para ese tipo de budín, según la cantidad de unidades que se quieran calcular (será igual que el diccionario de `budin_por_unidad`, pero que calcule para más unidades)"
   ]
  },
  {
   "cell_type": "code",
   "execution_count": 180,
   "metadata": {},
   "outputs": [
    {
     "data": {
      "text/plain": [
       "{'harina_integral': 9.0,\n",
       " 'harina_000': 6.0,\n",
       " 'azucar_mascabo': 7.199999999999999,\n",
       " 'azucar_blanca': 8.0,\n",
       " 'aceite': 5.4,\n",
       " 'zanahoria': 12.0,\n",
       " 'manzana': 6.0,\n",
       " 'jengibre': 0.3,\n",
       " 'polvo_hornear': 0.2,\n",
       " 'bicarbonato': 0.3,\n",
       " 'vainilla': 0.2,\n",
       " 'nueces': 4.0,\n",
       " 'huevo': 160,\n",
       " 'semillas': 0.6}"
      ]
     },
     "execution_count": 180,
     "metadata": {},
     "output_type": "execute_result"
    }
   ],
   "source": [
    "# Función para calcular los insumos necesarios para un número determinado de budines vendidos\n",
    "\n",
    "def insumos_por_budines(budin_vendidos, receta):\n",
    "    insumos_totales = {} # Diccionario para almacenar la cantidad total necesaria de cada insumo\n",
    "    for ingrediente, cantidad in receta['ingredientes'].items():  # Itera sobre los ingredientes del diccionario\n",
    "        insumos_totales[ingrediente] = cantidad * budin_vendidos  # Calcula la cantidad total necesaria\n",
    "    return insumos_totales  # Devuelve el diccionario con las cantidades totales necesarias\n",
    "\n",
    "# Ejemplo de uso de la función insumos_por_budines\n",
    "insumos_por_budines(20, recetas[0])"
   ]
  }
 ],
 "metadata": {
  "kernelspec": {
   "display_name": "fundamentals_env",
   "language": "python",
   "name": "python3"
  },
  "language_info": {
   "codemirror_mode": {
    "name": "ipython",
    "version": 3
   },
   "file_extension": ".py",
   "mimetype": "text/x-python",
   "name": "python",
   "nbconvert_exporter": "python",
   "pygments_lexer": "ipython3",
   "version": "3.11.9"
  }
 },
 "nbformat": 4,
 "nbformat_minor": 2
}
