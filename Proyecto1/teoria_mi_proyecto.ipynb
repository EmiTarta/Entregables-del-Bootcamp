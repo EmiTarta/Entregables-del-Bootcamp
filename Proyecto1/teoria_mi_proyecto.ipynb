{
 "cells": [
  {
   "cell_type": "markdown",
   "metadata": {},
   "source": [
    "# Teoria sobre proyecto de \"Algo Dulce\" "
   ]
  },
  {
   "cell_type": "markdown",
   "metadata": {},
   "source": [
    "## String"
   ]
  },
  {
   "cell_type": "markdown",
   "metadata": {},
   "source": [
    "### Métodos mas utiles"
   ]
  },
  {
   "cell_type": "markdown",
   "metadata": {},
   "source": [
    "1. *Métodos para modificar mayúsculas o minúsculas:*\n",
    "\n",
    "`capitalize()`: Convierte la primera letra de la cadena a mayúscula y el resto a minúsculas.\n",
    "\n",
    "`lower()`: Convierte todas las letras de la cadena a minúsculas.\n",
    "\n",
    "`title()`: Convierte la primera letra de cada palabra a mayúscula.\n",
    "\n",
    "`upper()`: Convierte todas las letras de la cadena a mayúsculas.\n",
    "\n",
    "**Comentario**: son muy útiles cuando se quiere estandarizar el formato del texto, especialmente en tareas como el preprocesamiento de datos.\n",
    "\n",
    "2. *Métodos para comprobar el tipo de contenido:*\n",
    "\n",
    "`isdigit()`: Verifica si todos los caracteres de la cadena son dígitos.\n",
    "\n",
    "`isalpha()`: Verifica si todos los caracteres de la cadena son letras del alfabeto.\n",
    "\n",
    "**Comentario**: útiles cuando necesitas validar entradas, como verificar si un valor es numérico o si está compuesto solo por letras.\n",
    "\n",
    "3. *Métodos para buscar subcadenas:*\n",
    "\n",
    "`find()`: Devuelve el índice de la primera aparición de una subcadena o -1 si no se encuentra.\n",
    "\n",
    "`index()`: Similar a find(), pero lanza un error si la subcadena no se encuentra.\n",
    "\n",
    "`endswith()`: Verifica si la cadena termina con una subcadena específica.\n",
    "\n",
    "`startswith()`: Verifica si la cadena comienza con una subcadena específica.\n",
    "\n",
    "**Comentario**: Son esenciales para tareas de búsqueda o validación de patrones en una cadena de texto.\n",
    "\n",
    "4. *Métodos para manipular cadenas de texto (devuelven nuevas cadenas sin modificar la original):*\n",
    "\n",
    "`join()`: Une los elementos de un iterable (como una lista) en una sola cadena, con un separador entre ellos.\n",
    "\n",
    "`replace()`: Reemplaza todas las apariciones de una subcadena por otra.\n",
    "\n",
    "`split()`: Divide una cadena en una lista de subcadenas.\n",
    "\n",
    "`strip()`: Elimina los espacios en blanco (u otros caracteres específicos) al principio y al final de una cadena.\n",
    "\n",
    "**Comentario**: muy comunes cuando se necesita limpiar, formatear o dividir texto, especialmente en tareas como el preprocesamiento de datos o la manipulación de archivos de texto."
   ]
  },
  {
   "cell_type": "markdown",
   "metadata": {},
   "source": [
    "## Lista"
   ]
  },
  {
   "cell_type": "markdown",
   "metadata": {},
   "source": [
    "### Métodos mas utiles"
   ]
  },
  {
   "cell_type": "markdown",
   "metadata": {},
   "source": [
    "1. *Métodos para modificar listas:* cambian la lista original.\n",
    "\n",
    "`append()`: Agrega un elemento al final de la lista.\n",
    "\n",
    "`extend()`: Agrega todos los elementos de un iterable al final de la lista.\n",
    "\n",
    "`insert()`: Inserta un elemento en una posición específica de la lista.\n",
    "\n",
    "`remove()`: Elimina la primera aparición de un elemento específico.\n",
    "\n",
    "`pop()`: Elimina y devuelve un elemento en un índice específico (o el último elemento si no se especifica).\n",
    "\n",
    "`clear()`: Elimina todos los elementos de la lista.\n",
    "\n",
    "2.  *Métodos para acceder y contar elementos*: permiten interactuar con los elementos de la lista.\n",
    "\n",
    "`count()`: Devuelve el número de veces que un elemento aparece en la lista.\n",
    "\n",
    "` index()`: Devuelve el índice de la primera aparición de un elemento.\n",
    "\n",
    "3. *Métodos para copiar y ordenar listas*: se utilizan para la gestión y el orden de las listas\n",
    "\n",
    "`copy()`: Devuelve una copia superficial de la lista.\n",
    "\n",
    "`reverse()`: Invierte el orden de los elementos en la lista\n",
    "\n",
    "`sort()`: Ordena los elementos de la lista en su lugar."
   ]
  },
  {
   "cell_type": "markdown",
   "metadata": {},
   "source": [
    "## Diccionario"
   ]
  },
  {
   "cell_type": "markdown",
   "metadata": {},
   "source": [
    "### Métodos mas utiles"
   ]
  },
  {
   "cell_type": "markdown",
   "metadata": {},
   "source": [
    "1. *Métodos para modificar diccionarios*: cambian el contenido del diccionario.\n",
    "\n",
    "`clear()`: Elimina todos los elementos del diccionario.\n",
    "\n",
    "`pop()`: Elimina y devuelve el valor asociado a una clave específica. Si la clave no existe, se puede especificar un valor predeterminado.\n",
    "\n",
    "`popitem()`: Elimina y devuelve el último par clave-valor añadido al diccionario. \n",
    "\n",
    "`update()`: Actualiza el diccionario agregando pares clave-valor de otro diccionario o de un iterable de pares.\n",
    "\n",
    "2. *Métodos para acceder a elementos del diccionario*: permiten interactuar con los elementos del diccionario.\n",
    "\n",
    "`get()`: Devuelve el valor asociado a una clave específica. Si la clave no existe, devuelve None o un valor predeterminado si se proporciona.\n",
    "\n",
    "`keys()`: Devuelve un objeto vista de las claves del diccionario.\n",
    "\n",
    "`values()`: Devuelve un objeto vista de los valores del diccionario.\n",
    "\n",
    "`items()`: Devuelve un objeto vista de los pares clave-valor del diccionario."
   ]
  },
  {
   "cell_type": "markdown",
   "metadata": {},
   "source": [
    "### Métodos compartidos\n",
    "\n",
    "De todos estos metodos, algunos son comaprtidos por distintos tipos:\n",
    "\n",
    "`count()`: es compartido por string, listas y tuplas\n",
    "\n",
    "`index()`: es compartido por string, listas y tuplas\n",
    "\n",
    "`pop()`: es compartido por listas, diccionarios (tambien `popitem()`) y sets\n",
    "\n",
    "`remove()`: es compartido por listas y sets\n",
    "\n",
    "`clear()`: es compartido por diccionario y sets\n",
    "\n",
    "`copy()`: es compartido por diccionario y sets"
   ]
  },
  {
   "cell_type": "markdown",
   "metadata": {},
   "source": [
    "### Funciones del proyecto definidas por el usuario:\n",
    "\n",
    "En el proyecto de \"Aldo dulce\", he creado 3 funciones para llegar a los objetivos planteados"
   ]
  },
  {
   "cell_type": "markdown",
   "metadata": {},
   "source": [
    "1. `cantidades_por_budin (cuantos_budines, producto)`\n",
    "\n",
    "Esta función calcula la cantidad de cada ingrediente necesarios para preparar una porción de budín, dividiendo la cantidad original de cada ingrediente por el número de budines.\n",
    "\n",
    "Es útil para ajustar las recetas según la cantidad de porciones que desees hacer, permitiendo la flexibilidad en la producción."
   ]
  },
  {
   "cell_type": "code",
   "execution_count": 3,
   "metadata": {},
   "outputs": [],
   "source": [
    "def cantidades_por_budin(cuantos_budines, producto):  \n",
    "    cant_por_receta = {} \n",
    "    for clave, valor in producto['ingredientes'].items():  \n",
    "        cant_por_receta[clave] = round(valor / cuantos_budines, 2)  \n",
    "    return cant_por_receta "
   ]
  },
  {
   "cell_type": "markdown",
   "metadata": {},
   "source": [
    "2. `calcular_costo (receta, precios_ingredientes)`\n",
    "\n",
    "Calcula el costo total de una receta multiplicando la cantidad de cada ingrediente por su precio correspondiente.\n",
    "\n",
    "Es fundamental para estimar el costo de producción y está bien implementada. Permite conocer el costo de cada receta, lo cual es esencial para la gestión de un emprendimiento."
   ]
  },
  {
   "cell_type": "code",
   "execution_count": 4,
   "metadata": {},
   "outputs": [],
   "source": [
    "def calcular_costo(receta, precios_ingredientes):\n",
    "    costo_total = 0\n",
    "    for ingrediente, cantidad in receta['ingredientes'].items():\n",
    "        costo_total = costo_total + cantidad * precios_ingredientes.get(ingrediente, 0) \n",
    "    return round(costo_total, 2)"
   ]
  },
  {
   "cell_type": "markdown",
   "metadata": {},
   "source": [
    "3. `insumos_por_budines (budin_vendidos, receta)`\n",
    "\n",
    "Calcula la cantidad total de cada ingrediente necesario para producir una cantidad específica de budines vendidos, multiplicando la cantidad de cada ingrediente por la cantidad de budines vendidos.\n",
    "\n",
    "Es muy útil para la planificación de insumos, ya que permite prever las cantidades necesarias para cumplir con la demanda.\n",
    "\n",
    "Calcula el costo total de una receta multiplicando la cantidad de cada ingrediente por su precio correspondiente."
   ]
  },
  {
   "cell_type": "code",
   "execution_count": 5,
   "metadata": {},
   "outputs": [],
   "source": [
    "def insumos_por_budines(budin_vendidos, receta):\n",
    "    insumos_totales = {} \n",
    "    for ingrediente, cantidad in receta['ingredientes'].items():  \n",
    "        insumos_totales[ingrediente] = cantidad * budin_vendidos  \n",
    "    return insumos_totales "
   ]
  },
  {
   "cell_type": "markdown",
   "metadata": {},
   "source": [
    "### Métodos deutilizados en el proyecto:\n",
    "\n",
    "1. En este pryecto he utilizado principalmente diccionarios, y los métodos fueron: \n",
    "\n",
    "`items()`: Devuelve una vista de los pares clave-valor del diccionario. Se utiliza para iterar sobre los ingredientes y sus cantidades en las recetas y precios.\n",
    "\n",
    "`get()`: Devuelve el valor de la clave especificada en el diccionario, o un valor predeterminado (0 en este caso) si la clave no existe. Se utiliza para calcular el costo de los ingredientes."
   ]
  },
  {
   "cell_type": "markdown",
   "metadata": {},
   "source": [
    "2. Tambien utilicé un método de Lista:\n",
    "\n",
    "`append()`: para añadir el costo de cada receta a la lista costos_budines."
   ]
  },
  {
   "cell_type": "code",
   "execution_count": null,
   "metadata": {},
   "outputs": [],
   "source": [
    "# Calcular el costo de cada receta\n",
    "for receta in recetas:\n",
    "    costo = calcular_costo(receta, precios_ingredientes)\n",
    "    costos_budines.append({receta['nombre']: costo})"
   ]
  },
  {
   "cell_type": "markdown",
   "metadata": {},
   "source": [
    "3. Como función built-in de Python he utilizado la de:\n",
    "\n",
    "`round()`: con la que redondeo el número dado a un número específico de decimales (2 en este caso), utilizado para mostrar los costos con dos decimales."
   ]
  },
  {
   "cell_type": "markdown",
   "metadata": {},
   "source": [
    "En este proyecto he utilizado bucle for para:\n",
    "\n",
    "1. Iterar sobre cada ingrediente y su cantidad en un diccionario que representa una receta. Se utiliza para calcular la cantidad de cada ingrediente por budín y el costo total de cada receta."
   ]
  },
  {
   "cell_type": "code",
   "execution_count": null,
   "metadata": {},
   "outputs": [],
   "source": [
    "for ingrediente, cantidad in receta['ingredientes'].items():"
   ]
  },
  {
   "cell_type": "markdown",
   "metadata": {},
   "source": [
    "2. Calcular Cantidades por budín: para dividir la cantidad total de cada ingrediente por la cantidad de budines, almacenando el resultado en un nuevo diccionario."
   ]
  },
  {
   "cell_type": "code",
   "execution_count": null,
   "metadata": {},
   "outputs": [],
   "source": [
    "for receta in recetas:\n",
    "    costo = calcular_costo(receta, precios_ingredientes)\n",
    "    costos_budines.append({receta['nombre']: costo})"
   ]
  },
  {
   "cell_type": "markdown",
   "metadata": {},
   "source": [
    "3. Calcular el Costo Total de Cada Receta: Este bucle itera sobre la lista de recetas y para cada receta calcula el costo total llamando a la función calcular_costo y luego agrega el resultado a la lista"
   ]
  },
  {
   "cell_type": "code",
   "execution_count": null,
   "metadata": {},
   "outputs": [],
   "source": [
    "for receta in recetas:\n",
    "    costo = calcular_costo(receta, precios_ingredientes)\n",
    "    costos_budines.append({receta['nombre']: costo})"
   ]
  },
  {
   "cell_type": "markdown",
   "metadata": {},
   "source": [
    "4. Calcular Insumos Totales para Budines Vendidos: para calcular la cantidad total de cada ingrediente necesario, multiplicando la cantidad por la cantidad de budines vendidos y almacenando el resultado en un nuevo diccionario."
   ]
  },
  {
   "cell_type": "code",
   "execution_count": null,
   "metadata": {},
   "outputs": [],
   "source": [
    "for ingrediente, cantidad in receta['ingredientes'].items():\n",
    "    insumos_totales[ingrediente] = cantidad * budin_vendidos"
   ]
  }
 ],
 "metadata": {
  "kernelspec": {
   "display_name": "fundamentals_env",
   "language": "python",
   "name": "python3"
  },
  "language_info": {
   "codemirror_mode": {
    "name": "ipython",
    "version": 3
   },
   "file_extension": ".py",
   "mimetype": "text/x-python",
   "name": "python",
   "nbconvert_exporter": "python",
   "pygments_lexer": "ipython3",
   "version": "3.11.9"
  }
 },
 "nbformat": 4,
 "nbformat_minor": 2
}
