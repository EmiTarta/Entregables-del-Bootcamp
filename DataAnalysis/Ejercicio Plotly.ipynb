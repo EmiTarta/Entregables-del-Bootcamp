{
 "cells": [
  {
   "attachments": {},
   "cell_type": "markdown",
   "metadata": {
    "id": "fBwh3Bypimha"
   },
   "source": [
    "# Interactive Visualization Lab - Superstore Dataset\n",
    "\n",
    "Complete the following set of exercises to solidify your knowledge of interactive visualization using Plotly, Cufflinks, and IPyWidgets."
   ]
  },
  {
   "cell_type": "code",
   "execution_count": 18,
   "metadata": {},
   "outputs": [],
   "source": [
    "import pandas as pd\n",
    "import numpy as np\n",
    "import plotly.graph_objects as go\n",
    "\n",
    "# word cloud library\n",
    "from wordcloud import WordCloud\n",
    "\n",
    "# matplotlib\n",
    "import matplotlib.pyplot as plt\n",
    "# Input data files are available in the \"../input/\" directory.\n",
    "# For example, running this (by clicking run or pressing Shift+Enter) will list the files in the input directory\n",
    "\n",
    "import os\n",
    "\n",
    "# Any results you write to the current directory are saved as output.\n",
    "\n",
    "import warnings\n",
    "warnings.filterwarnings(\"ignore\")"
   ]
  },
  {
   "cell_type": "code",
   "execution_count": 26,
   "metadata": {
    "id": "b-CJJ-68imhb",
    "outputId": "8ea87b64-66a4-4dd8-d905-2e4e1f387c0b"
   },
   "outputs": [],
   "source": [
    "\n",
    "df = pd.read_csv('C:/Users/emita/Bootcamp/REPO PROFE/COPIA REPO/repo-clase-dsvlcsep24/4-Visualización/3-Plotly/Ejercicios/data/data.visualizacion.csv',encoding=\"latin1\")  # Cambia 'nombre_hoja' según corresponda"
   ]
  },
  {
   "cell_type": "markdown",
   "metadata": {},
   "source": [
    "Acostumbraros a realizar siempre estas 3 comprobaciones del df"
   ]
  },
  {
   "cell_type": "code",
   "execution_count": 27,
   "metadata": {
    "id": "LGyibx0Fimhl",
    "outputId": "b866a0ac-1391-4005-9286-43a4691386e4"
   },
   "outputs": [
    {
     "name": "stdout",
     "output_type": "stream",
     "text": [
      "<class 'pandas.core.frame.DataFrame'>\n",
      "RangeIndex: 9994 entries, 0 to 9993\n",
      "Data columns (total 20 columns):\n",
      " #   Column         Non-Null Count  Dtype  \n",
      "---  ------         --------------  -----  \n",
      " 0   Order ID       9994 non-null   object \n",
      " 1   Order Date     9994 non-null   object \n",
      " 2   Ship Date      9994 non-null   object \n",
      " 3   Ship Mode      9994 non-null   object \n",
      " 4   Customer ID    9994 non-null   object \n",
      " 5   Customer Name  9994 non-null   object \n",
      " 6   Segment        9994 non-null   object \n",
      " 7   Country        9994 non-null   object \n",
      " 8   City           9994 non-null   object \n",
      " 9   State          9994 non-null   object \n",
      " 10  Postal Code    9994 non-null   int64  \n",
      " 11  Region         9994 non-null   object \n",
      " 12  Product ID     9994 non-null   object \n",
      " 13  Category       9994 non-null   object \n",
      " 14  Sub-Category   9994 non-null   object \n",
      " 15  Product Name   9994 non-null   object \n",
      " 16  Sales          9994 non-null   float64\n",
      " 17  Quantity       9994 non-null   int64  \n",
      " 18  Discount       9994 non-null   float64\n",
      " 19  Profit         9994 non-null   float64\n",
      "dtypes: float64(3), int64(2), object(15)\n",
      "memory usage: 1.5+ MB\n"
     ]
    }
   ],
   "source": [
    "df.info()"
   ]
  },
  {
   "cell_type": "code",
   "execution_count": 28,
   "metadata": {},
   "outputs": [
    {
     "data": {
      "text/html": [
       "<div>\n",
       "<style scoped>\n",
       "    .dataframe tbody tr th:only-of-type {\n",
       "        vertical-align: middle;\n",
       "    }\n",
       "\n",
       "    .dataframe tbody tr th {\n",
       "        vertical-align: top;\n",
       "    }\n",
       "\n",
       "    .dataframe thead th {\n",
       "        text-align: right;\n",
       "    }\n",
       "</style>\n",
       "<table border=\"1\" class=\"dataframe\">\n",
       "  <thead>\n",
       "    <tr style=\"text-align: right;\">\n",
       "      <th></th>\n",
       "      <th>Postal Code</th>\n",
       "      <th>Sales</th>\n",
       "      <th>Quantity</th>\n",
       "      <th>Discount</th>\n",
       "      <th>Profit</th>\n",
       "    </tr>\n",
       "  </thead>\n",
       "  <tbody>\n",
       "    <tr>\n",
       "      <th>count</th>\n",
       "      <td>9994.000000</td>\n",
       "      <td>9994.000000</td>\n",
       "      <td>9994.000000</td>\n",
       "      <td>9994.000000</td>\n",
       "      <td>9994.000000</td>\n",
       "    </tr>\n",
       "    <tr>\n",
       "      <th>mean</th>\n",
       "      <td>55190.379428</td>\n",
       "      <td>229.858001</td>\n",
       "      <td>3.789574</td>\n",
       "      <td>0.156203</td>\n",
       "      <td>28.656896</td>\n",
       "    </tr>\n",
       "    <tr>\n",
       "      <th>std</th>\n",
       "      <td>32063.693350</td>\n",
       "      <td>623.245101</td>\n",
       "      <td>2.225110</td>\n",
       "      <td>0.206452</td>\n",
       "      <td>234.260108</td>\n",
       "    </tr>\n",
       "    <tr>\n",
       "      <th>min</th>\n",
       "      <td>1040.000000</td>\n",
       "      <td>0.444000</td>\n",
       "      <td>1.000000</td>\n",
       "      <td>0.000000</td>\n",
       "      <td>-6599.978000</td>\n",
       "    </tr>\n",
       "    <tr>\n",
       "      <th>25%</th>\n",
       "      <td>23223.000000</td>\n",
       "      <td>17.280000</td>\n",
       "      <td>2.000000</td>\n",
       "      <td>0.000000</td>\n",
       "      <td>1.728750</td>\n",
       "    </tr>\n",
       "    <tr>\n",
       "      <th>50%</th>\n",
       "      <td>56430.500000</td>\n",
       "      <td>54.490000</td>\n",
       "      <td>3.000000</td>\n",
       "      <td>0.200000</td>\n",
       "      <td>8.666500</td>\n",
       "    </tr>\n",
       "    <tr>\n",
       "      <th>75%</th>\n",
       "      <td>90008.000000</td>\n",
       "      <td>209.940000</td>\n",
       "      <td>5.000000</td>\n",
       "      <td>0.200000</td>\n",
       "      <td>29.364000</td>\n",
       "    </tr>\n",
       "    <tr>\n",
       "      <th>max</th>\n",
       "      <td>99301.000000</td>\n",
       "      <td>22638.480000</td>\n",
       "      <td>14.000000</td>\n",
       "      <td>0.800000</td>\n",
       "      <td>8399.976000</td>\n",
       "    </tr>\n",
       "  </tbody>\n",
       "</table>\n",
       "</div>"
      ],
      "text/plain": [
       "        Postal Code         Sales     Quantity     Discount       Profit\n",
       "count   9994.000000   9994.000000  9994.000000  9994.000000  9994.000000\n",
       "mean   55190.379428    229.858001     3.789574     0.156203    28.656896\n",
       "std    32063.693350    623.245101     2.225110     0.206452   234.260108\n",
       "min     1040.000000      0.444000     1.000000     0.000000 -6599.978000\n",
       "25%    23223.000000     17.280000     2.000000     0.000000     1.728750\n",
       "50%    56430.500000     54.490000     3.000000     0.200000     8.666500\n",
       "75%    90008.000000    209.940000     5.000000     0.200000    29.364000\n",
       "max    99301.000000  22638.480000    14.000000     0.800000  8399.976000"
      ]
     },
     "execution_count": 28,
     "metadata": {},
     "output_type": "execute_result"
    }
   ],
   "source": [
    "df.describe()"
   ]
  },
  {
   "cell_type": "code",
   "execution_count": 29,
   "metadata": {},
   "outputs": [
    {
     "data": {
      "text/html": [
       "<div>\n",
       "<style scoped>\n",
       "    .dataframe tbody tr th:only-of-type {\n",
       "        vertical-align: middle;\n",
       "    }\n",
       "\n",
       "    .dataframe tbody tr th {\n",
       "        vertical-align: top;\n",
       "    }\n",
       "\n",
       "    .dataframe thead th {\n",
       "        text-align: right;\n",
       "    }\n",
       "</style>\n",
       "<table border=\"1\" class=\"dataframe\">\n",
       "  <thead>\n",
       "    <tr style=\"text-align: right;\">\n",
       "      <th></th>\n",
       "      <th>Order ID</th>\n",
       "      <th>Order Date</th>\n",
       "      <th>Ship Date</th>\n",
       "      <th>Ship Mode</th>\n",
       "      <th>Customer ID</th>\n",
       "      <th>Customer Name</th>\n",
       "      <th>Segment</th>\n",
       "      <th>Country</th>\n",
       "      <th>City</th>\n",
       "      <th>State</th>\n",
       "      <th>Postal Code</th>\n",
       "      <th>Region</th>\n",
       "      <th>Product ID</th>\n",
       "      <th>Category</th>\n",
       "      <th>Sub-Category</th>\n",
       "      <th>Product Name</th>\n",
       "      <th>Sales</th>\n",
       "      <th>Quantity</th>\n",
       "      <th>Discount</th>\n",
       "      <th>Profit</th>\n",
       "    </tr>\n",
       "  </thead>\n",
       "  <tbody>\n",
       "    <tr>\n",
       "      <th>0</th>\n",
       "      <td>CA-2016-152156</td>\n",
       "      <td>8/11/2016</td>\n",
       "      <td>11/11/2016</td>\n",
       "      <td>Second Class</td>\n",
       "      <td>CG-12520</td>\n",
       "      <td>Claire Gute</td>\n",
       "      <td>Consumer</td>\n",
       "      <td>United States</td>\n",
       "      <td>Henderson</td>\n",
       "      <td>Kentucky</td>\n",
       "      <td>42420</td>\n",
       "      <td>South</td>\n",
       "      <td>FUR-BO-10001798</td>\n",
       "      <td>Furniture</td>\n",
       "      <td>Bookcases</td>\n",
       "      <td>Bush Somerset Collection Bookcase</td>\n",
       "      <td>261.9600</td>\n",
       "      <td>2</td>\n",
       "      <td>0.00</td>\n",
       "      <td>41.9136</td>\n",
       "    </tr>\n",
       "    <tr>\n",
       "      <th>1</th>\n",
       "      <td>CA-2016-152156</td>\n",
       "      <td>8/11/2016</td>\n",
       "      <td>11/11/2016</td>\n",
       "      <td>Second Class</td>\n",
       "      <td>CG-12520</td>\n",
       "      <td>Claire Gute</td>\n",
       "      <td>Consumer</td>\n",
       "      <td>United States</td>\n",
       "      <td>Henderson</td>\n",
       "      <td>Kentucky</td>\n",
       "      <td>42420</td>\n",
       "      <td>South</td>\n",
       "      <td>FUR-CH-10000454</td>\n",
       "      <td>Furniture</td>\n",
       "      <td>Chairs</td>\n",
       "      <td>Hon Deluxe Fabric Upholstered Stacking Chairs,...</td>\n",
       "      <td>731.9400</td>\n",
       "      <td>3</td>\n",
       "      <td>0.00</td>\n",
       "      <td>219.5820</td>\n",
       "    </tr>\n",
       "    <tr>\n",
       "      <th>2</th>\n",
       "      <td>CA-2016-138688</td>\n",
       "      <td>12/6/2016</td>\n",
       "      <td>16/6/2016</td>\n",
       "      <td>Second Class</td>\n",
       "      <td>DV-13045</td>\n",
       "      <td>Darrin Van Huff</td>\n",
       "      <td>Corporate</td>\n",
       "      <td>United States</td>\n",
       "      <td>Los Angeles</td>\n",
       "      <td>California</td>\n",
       "      <td>90036</td>\n",
       "      <td>West</td>\n",
       "      <td>OFF-LA-10000240</td>\n",
       "      <td>Office Supplies</td>\n",
       "      <td>Labels</td>\n",
       "      <td>Self-Adhesive Address Labels for Typewriters b...</td>\n",
       "      <td>14.6200</td>\n",
       "      <td>2</td>\n",
       "      <td>0.00</td>\n",
       "      <td>6.8714</td>\n",
       "    </tr>\n",
       "    <tr>\n",
       "      <th>3</th>\n",
       "      <td>US-2015-108966</td>\n",
       "      <td>11/10/2015</td>\n",
       "      <td>18/10/2015</td>\n",
       "      <td>Standard Class</td>\n",
       "      <td>SO-20335</td>\n",
       "      <td>Sean O'Donnell</td>\n",
       "      <td>Consumer</td>\n",
       "      <td>United States</td>\n",
       "      <td>Fort Lauderdale</td>\n",
       "      <td>Florida</td>\n",
       "      <td>33311</td>\n",
       "      <td>South</td>\n",
       "      <td>FUR-TA-10000577</td>\n",
       "      <td>Furniture</td>\n",
       "      <td>Tables</td>\n",
       "      <td>Bretford CR4500 Series Slim Rectangular Table</td>\n",
       "      <td>957.5775</td>\n",
       "      <td>5</td>\n",
       "      <td>0.45</td>\n",
       "      <td>-383.0310</td>\n",
       "    </tr>\n",
       "    <tr>\n",
       "      <th>4</th>\n",
       "      <td>US-2015-108966</td>\n",
       "      <td>11/10/2015</td>\n",
       "      <td>18/10/2015</td>\n",
       "      <td>Standard Class</td>\n",
       "      <td>SO-20335</td>\n",
       "      <td>Sean O'Donnell</td>\n",
       "      <td>Consumer</td>\n",
       "      <td>United States</td>\n",
       "      <td>Fort Lauderdale</td>\n",
       "      <td>Florida</td>\n",
       "      <td>33311</td>\n",
       "      <td>South</td>\n",
       "      <td>OFF-ST-10000760</td>\n",
       "      <td>Office Supplies</td>\n",
       "      <td>Storage</td>\n",
       "      <td>Eldon Fold 'N Roll Cart System</td>\n",
       "      <td>22.3680</td>\n",
       "      <td>2</td>\n",
       "      <td>0.20</td>\n",
       "      <td>2.5164</td>\n",
       "    </tr>\n",
       "  </tbody>\n",
       "</table>\n",
       "</div>"
      ],
      "text/plain": [
       "         Order ID  Order Date   Ship Date       Ship Mode Customer ID  \\\n",
       "0  CA-2016-152156   8/11/2016  11/11/2016    Second Class    CG-12520   \n",
       "1  CA-2016-152156   8/11/2016  11/11/2016    Second Class    CG-12520   \n",
       "2  CA-2016-138688   12/6/2016   16/6/2016    Second Class    DV-13045   \n",
       "3  US-2015-108966  11/10/2015  18/10/2015  Standard Class    SO-20335   \n",
       "4  US-2015-108966  11/10/2015  18/10/2015  Standard Class    SO-20335   \n",
       "\n",
       "     Customer Name    Segment        Country             City       State  \\\n",
       "0      Claire Gute   Consumer  United States        Henderson    Kentucky   \n",
       "1      Claire Gute   Consumer  United States        Henderson    Kentucky   \n",
       "2  Darrin Van Huff  Corporate  United States      Los Angeles  California   \n",
       "3   Sean O'Donnell   Consumer  United States  Fort Lauderdale     Florida   \n",
       "4   Sean O'Donnell   Consumer  United States  Fort Lauderdale     Florida   \n",
       "\n",
       "   Postal Code Region       Product ID         Category Sub-Category  \\\n",
       "0        42420  South  FUR-BO-10001798        Furniture    Bookcases   \n",
       "1        42420  South  FUR-CH-10000454        Furniture       Chairs   \n",
       "2        90036   West  OFF-LA-10000240  Office Supplies       Labels   \n",
       "3        33311  South  FUR-TA-10000577        Furniture       Tables   \n",
       "4        33311  South  OFF-ST-10000760  Office Supplies      Storage   \n",
       "\n",
       "                                        Product Name     Sales  Quantity  \\\n",
       "0                  Bush Somerset Collection Bookcase  261.9600         2   \n",
       "1  Hon Deluxe Fabric Upholstered Stacking Chairs,...  731.9400         3   \n",
       "2  Self-Adhesive Address Labels for Typewriters b...   14.6200         2   \n",
       "3      Bretford CR4500 Series Slim Rectangular Table  957.5775         5   \n",
       "4                     Eldon Fold 'N Roll Cart System   22.3680         2   \n",
       "\n",
       "   Discount    Profit  \n",
       "0      0.00   41.9136  \n",
       "1      0.00  219.5820  \n",
       "2      0.00    6.8714  \n",
       "3      0.45 -383.0310  \n",
       "4      0.20    2.5164  "
      ]
     },
     "execution_count": 29,
     "metadata": {},
     "output_type": "execute_result"
    }
   ],
   "source": [
    "df.head(5)"
   ]
  },
  {
   "attachments": {},
   "cell_type": "markdown",
   "metadata": {
    "id": "0vbpV0ARimho"
   },
   "source": [
    "## 1. Create an interactive bar chart showing total sales by State for2014."
   ]
  },
  {
   "cell_type": "code",
   "execution_count": 65,
   "metadata": {},
   "outputs": [
    {
     "data": {
      "text/html": [
       "<div>\n",
       "<style scoped>\n",
       "    .dataframe tbody tr th:only-of-type {\n",
       "        vertical-align: middle;\n",
       "    }\n",
       "\n",
       "    .dataframe tbody tr th {\n",
       "        vertical-align: top;\n",
       "    }\n",
       "\n",
       "    .dataframe thead th {\n",
       "        text-align: right;\n",
       "    }\n",
       "</style>\n",
       "<table border=\"1\" class=\"dataframe\">\n",
       "  <thead>\n",
       "    <tr style=\"text-align: right;\">\n",
       "      <th></th>\n",
       "      <th>Order ID</th>\n",
       "      <th>Order Date</th>\n",
       "      <th>Ship Date</th>\n",
       "      <th>Ship Mode</th>\n",
       "      <th>Customer ID</th>\n",
       "      <th>Customer Name</th>\n",
       "      <th>Segment</th>\n",
       "      <th>Country</th>\n",
       "      <th>City</th>\n",
       "      <th>State</th>\n",
       "      <th>Postal Code</th>\n",
       "      <th>Region</th>\n",
       "      <th>Product ID</th>\n",
       "      <th>Category</th>\n",
       "      <th>Sub-Category</th>\n",
       "      <th>Product Name</th>\n",
       "      <th>Sales</th>\n",
       "      <th>Quantity</th>\n",
       "      <th>Discount</th>\n",
       "      <th>Profit</th>\n",
       "    </tr>\n",
       "  </thead>\n",
       "  <tbody>\n",
       "    <tr>\n",
       "      <th>5</th>\n",
       "      <td>CA-2014-115812</td>\n",
       "      <td>2014-06-09</td>\n",
       "      <td>14/6/2014</td>\n",
       "      <td>Standard Class</td>\n",
       "      <td>BH-11710</td>\n",
       "      <td>Brosina Hoffman</td>\n",
       "      <td>Consumer</td>\n",
       "      <td>United States</td>\n",
       "      <td>Los Angeles</td>\n",
       "      <td>California</td>\n",
       "      <td>90032</td>\n",
       "      <td>West</td>\n",
       "      <td>FUR-FU-10001487</td>\n",
       "      <td>Furniture</td>\n",
       "      <td>Furnishings</td>\n",
       "      <td>Eldon Expressions Wood and Plastic Desk Access...</td>\n",
       "      <td>48.860</td>\n",
       "      <td>7</td>\n",
       "      <td>0.0</td>\n",
       "      <td>14.1694</td>\n",
       "    </tr>\n",
       "    <tr>\n",
       "      <th>6</th>\n",
       "      <td>CA-2014-115812</td>\n",
       "      <td>2014-06-09</td>\n",
       "      <td>14/6/2014</td>\n",
       "      <td>Standard Class</td>\n",
       "      <td>BH-11710</td>\n",
       "      <td>Brosina Hoffman</td>\n",
       "      <td>Consumer</td>\n",
       "      <td>United States</td>\n",
       "      <td>Los Angeles</td>\n",
       "      <td>California</td>\n",
       "      <td>90032</td>\n",
       "      <td>West</td>\n",
       "      <td>OFF-AR-10002833</td>\n",
       "      <td>Office Supplies</td>\n",
       "      <td>Art</td>\n",
       "      <td>Newell 322</td>\n",
       "      <td>7.280</td>\n",
       "      <td>4</td>\n",
       "      <td>0.0</td>\n",
       "      <td>1.9656</td>\n",
       "    </tr>\n",
       "    <tr>\n",
       "      <th>7</th>\n",
       "      <td>CA-2014-115812</td>\n",
       "      <td>2014-06-09</td>\n",
       "      <td>14/6/2014</td>\n",
       "      <td>Standard Class</td>\n",
       "      <td>BH-11710</td>\n",
       "      <td>Brosina Hoffman</td>\n",
       "      <td>Consumer</td>\n",
       "      <td>United States</td>\n",
       "      <td>Los Angeles</td>\n",
       "      <td>California</td>\n",
       "      <td>90032</td>\n",
       "      <td>West</td>\n",
       "      <td>TEC-PH-10002275</td>\n",
       "      <td>Technology</td>\n",
       "      <td>Phones</td>\n",
       "      <td>Mitel 5320 IP Phone VoIP phone</td>\n",
       "      <td>907.152</td>\n",
       "      <td>6</td>\n",
       "      <td>0.2</td>\n",
       "      <td>90.7152</td>\n",
       "    </tr>\n",
       "    <tr>\n",
       "      <th>8</th>\n",
       "      <td>CA-2014-115812</td>\n",
       "      <td>2014-06-09</td>\n",
       "      <td>14/6/2014</td>\n",
       "      <td>Standard Class</td>\n",
       "      <td>BH-11710</td>\n",
       "      <td>Brosina Hoffman</td>\n",
       "      <td>Consumer</td>\n",
       "      <td>United States</td>\n",
       "      <td>Los Angeles</td>\n",
       "      <td>California</td>\n",
       "      <td>90032</td>\n",
       "      <td>West</td>\n",
       "      <td>OFF-BI-10003910</td>\n",
       "      <td>Office Supplies</td>\n",
       "      <td>Binders</td>\n",
       "      <td>DXL Angle-View Binders with Locking Rings by S...</td>\n",
       "      <td>18.504</td>\n",
       "      <td>3</td>\n",
       "      <td>0.2</td>\n",
       "      <td>5.7825</td>\n",
       "    </tr>\n",
       "    <tr>\n",
       "      <th>9</th>\n",
       "      <td>CA-2014-115812</td>\n",
       "      <td>2014-06-09</td>\n",
       "      <td>14/6/2014</td>\n",
       "      <td>Standard Class</td>\n",
       "      <td>BH-11710</td>\n",
       "      <td>Brosina Hoffman</td>\n",
       "      <td>Consumer</td>\n",
       "      <td>United States</td>\n",
       "      <td>Los Angeles</td>\n",
       "      <td>California</td>\n",
       "      <td>90032</td>\n",
       "      <td>West</td>\n",
       "      <td>OFF-AP-10002892</td>\n",
       "      <td>Office Supplies</td>\n",
       "      <td>Appliances</td>\n",
       "      <td>Belkin F5C206VTEL 6 Outlet Surge</td>\n",
       "      <td>114.900</td>\n",
       "      <td>5</td>\n",
       "      <td>0.0</td>\n",
       "      <td>34.4700</td>\n",
       "    </tr>\n",
       "    <tr>\n",
       "      <th>...</th>\n",
       "      <td>...</td>\n",
       "      <td>...</td>\n",
       "      <td>...</td>\n",
       "      <td>...</td>\n",
       "      <td>...</td>\n",
       "      <td>...</td>\n",
       "      <td>...</td>\n",
       "      <td>...</td>\n",
       "      <td>...</td>\n",
       "      <td>...</td>\n",
       "      <td>...</td>\n",
       "      <td>...</td>\n",
       "      <td>...</td>\n",
       "      <td>...</td>\n",
       "      <td>...</td>\n",
       "      <td>...</td>\n",
       "      <td>...</td>\n",
       "      <td>...</td>\n",
       "      <td>...</td>\n",
       "      <td>...</td>\n",
       "    </tr>\n",
       "    <tr>\n",
       "      <th>9946</th>\n",
       "      <td>CA-2014-111157</td>\n",
       "      <td>2014-03-02</td>\n",
       "      <td>6/3/2014</td>\n",
       "      <td>Standard Class</td>\n",
       "      <td>NH-18610</td>\n",
       "      <td>Nicole Hansen</td>\n",
       "      <td>Corporate</td>\n",
       "      <td>United States</td>\n",
       "      <td>Philadelphia</td>\n",
       "      <td>Pennsylvania</td>\n",
       "      <td>19120</td>\n",
       "      <td>East</td>\n",
       "      <td>TEC-AC-10004353</td>\n",
       "      <td>Technology</td>\n",
       "      <td>Accessories</td>\n",
       "      <td>Hypercom P1300 Pinpad</td>\n",
       "      <td>151.200</td>\n",
       "      <td>3</td>\n",
       "      <td>0.2</td>\n",
       "      <td>32.1300</td>\n",
       "    </tr>\n",
       "    <tr>\n",
       "      <th>9956</th>\n",
       "      <td>US-2014-143287</td>\n",
       "      <td>2014-11-11</td>\n",
       "      <td>17/11/2014</td>\n",
       "      <td>Standard Class</td>\n",
       "      <td>KN-16705</td>\n",
       "      <td>Kristina Nunn</td>\n",
       "      <td>Home Office</td>\n",
       "      <td>United States</td>\n",
       "      <td>New Rochelle</td>\n",
       "      <td>New York</td>\n",
       "      <td>10801</td>\n",
       "      <td>East</td>\n",
       "      <td>OFF-PA-10001776</td>\n",
       "      <td>Office Supplies</td>\n",
       "      <td>Paper</td>\n",
       "      <td>Wirebound Message Books, Four 2 3/4\" x 5\" Form...</td>\n",
       "      <td>46.350</td>\n",
       "      <td>5</td>\n",
       "      <td>0.0</td>\n",
       "      <td>21.7845</td>\n",
       "    </tr>\n",
       "    <tr>\n",
       "      <th>9957</th>\n",
       "      <td>US-2014-143287</td>\n",
       "      <td>2014-11-11</td>\n",
       "      <td>17/11/2014</td>\n",
       "      <td>Standard Class</td>\n",
       "      <td>KN-16705</td>\n",
       "      <td>Kristina Nunn</td>\n",
       "      <td>Home Office</td>\n",
       "      <td>United States</td>\n",
       "      <td>New Rochelle</td>\n",
       "      <td>New York</td>\n",
       "      <td>10801</td>\n",
       "      <td>East</td>\n",
       "      <td>OFF-PA-10004039</td>\n",
       "      <td>Office Supplies</td>\n",
       "      <td>Paper</td>\n",
       "      <td>Xerox 1882</td>\n",
       "      <td>223.920</td>\n",
       "      <td>4</td>\n",
       "      <td>0.0</td>\n",
       "      <td>109.7208</td>\n",
       "    </tr>\n",
       "    <tr>\n",
       "      <th>9958</th>\n",
       "      <td>US-2014-143287</td>\n",
       "      <td>2014-11-11</td>\n",
       "      <td>17/11/2014</td>\n",
       "      <td>Standard Class</td>\n",
       "      <td>KN-16705</td>\n",
       "      <td>Kristina Nunn</td>\n",
       "      <td>Home Office</td>\n",
       "      <td>United States</td>\n",
       "      <td>New Rochelle</td>\n",
       "      <td>New York</td>\n",
       "      <td>10801</td>\n",
       "      <td>East</td>\n",
       "      <td>OFF-SU-10001574</td>\n",
       "      <td>Office Supplies</td>\n",
       "      <td>Supplies</td>\n",
       "      <td>Acme Value Line Scissors</td>\n",
       "      <td>7.300</td>\n",
       "      <td>2</td>\n",
       "      <td>0.0</td>\n",
       "      <td>2.1900</td>\n",
       "    </tr>\n",
       "    <tr>\n",
       "      <th>9989</th>\n",
       "      <td>CA-2014-110422</td>\n",
       "      <td>2014-01-21</td>\n",
       "      <td>23/1/2014</td>\n",
       "      <td>Second Class</td>\n",
       "      <td>TB-21400</td>\n",
       "      <td>Tom Boeckenhauer</td>\n",
       "      <td>Consumer</td>\n",
       "      <td>United States</td>\n",
       "      <td>Miami</td>\n",
       "      <td>Florida</td>\n",
       "      <td>33180</td>\n",
       "      <td>South</td>\n",
       "      <td>FUR-FU-10001889</td>\n",
       "      <td>Furniture</td>\n",
       "      <td>Furnishings</td>\n",
       "      <td>Ultra Door Pull Handle</td>\n",
       "      <td>25.248</td>\n",
       "      <td>3</td>\n",
       "      <td>0.2</td>\n",
       "      <td>4.1028</td>\n",
       "    </tr>\n",
       "  </tbody>\n",
       "</table>\n",
       "<p>1993 rows × 20 columns</p>\n",
       "</div>"
      ],
      "text/plain": [
       "            Order ID Order Date   Ship Date       Ship Mode Customer ID  \\\n",
       "5     CA-2014-115812 2014-06-09   14/6/2014  Standard Class    BH-11710   \n",
       "6     CA-2014-115812 2014-06-09   14/6/2014  Standard Class    BH-11710   \n",
       "7     CA-2014-115812 2014-06-09   14/6/2014  Standard Class    BH-11710   \n",
       "8     CA-2014-115812 2014-06-09   14/6/2014  Standard Class    BH-11710   \n",
       "9     CA-2014-115812 2014-06-09   14/6/2014  Standard Class    BH-11710   \n",
       "...              ...        ...         ...             ...         ...   \n",
       "9946  CA-2014-111157 2014-03-02    6/3/2014  Standard Class    NH-18610   \n",
       "9956  US-2014-143287 2014-11-11  17/11/2014  Standard Class    KN-16705   \n",
       "9957  US-2014-143287 2014-11-11  17/11/2014  Standard Class    KN-16705   \n",
       "9958  US-2014-143287 2014-11-11  17/11/2014  Standard Class    KN-16705   \n",
       "9989  CA-2014-110422 2014-01-21   23/1/2014    Second Class    TB-21400   \n",
       "\n",
       "         Customer Name      Segment        Country          City  \\\n",
       "5      Brosina Hoffman     Consumer  United States   Los Angeles   \n",
       "6      Brosina Hoffman     Consumer  United States   Los Angeles   \n",
       "7      Brosina Hoffman     Consumer  United States   Los Angeles   \n",
       "8      Brosina Hoffman     Consumer  United States   Los Angeles   \n",
       "9      Brosina Hoffman     Consumer  United States   Los Angeles   \n",
       "...                ...          ...            ...           ...   \n",
       "9946     Nicole Hansen    Corporate  United States  Philadelphia   \n",
       "9956     Kristina Nunn  Home Office  United States  New Rochelle   \n",
       "9957     Kristina Nunn  Home Office  United States  New Rochelle   \n",
       "9958     Kristina Nunn  Home Office  United States  New Rochelle   \n",
       "9989  Tom Boeckenhauer     Consumer  United States         Miami   \n",
       "\n",
       "             State  Postal Code Region       Product ID         Category  \\\n",
       "5       California        90032   West  FUR-FU-10001487        Furniture   \n",
       "6       California        90032   West  OFF-AR-10002833  Office Supplies   \n",
       "7       California        90032   West  TEC-PH-10002275       Technology   \n",
       "8       California        90032   West  OFF-BI-10003910  Office Supplies   \n",
       "9       California        90032   West  OFF-AP-10002892  Office Supplies   \n",
       "...            ...          ...    ...              ...              ...   \n",
       "9946  Pennsylvania        19120   East  TEC-AC-10004353       Technology   \n",
       "9956      New York        10801   East  OFF-PA-10001776  Office Supplies   \n",
       "9957      New York        10801   East  OFF-PA-10004039  Office Supplies   \n",
       "9958      New York        10801   East  OFF-SU-10001574  Office Supplies   \n",
       "9989       Florida        33180  South  FUR-FU-10001889        Furniture   \n",
       "\n",
       "     Sub-Category                                       Product Name    Sales  \\\n",
       "5     Furnishings  Eldon Expressions Wood and Plastic Desk Access...   48.860   \n",
       "6             Art                                         Newell 322    7.280   \n",
       "7          Phones                     Mitel 5320 IP Phone VoIP phone  907.152   \n",
       "8         Binders  DXL Angle-View Binders with Locking Rings by S...   18.504   \n",
       "9      Appliances                   Belkin F5C206VTEL 6 Outlet Surge  114.900   \n",
       "...           ...                                                ...      ...   \n",
       "9946  Accessories                              Hypercom P1300 Pinpad  151.200   \n",
       "9956        Paper  Wirebound Message Books, Four 2 3/4\" x 5\" Form...   46.350   \n",
       "9957        Paper                                         Xerox 1882  223.920   \n",
       "9958     Supplies                           Acme Value Line Scissors    7.300   \n",
       "9989  Furnishings                             Ultra Door Pull Handle   25.248   \n",
       "\n",
       "      Quantity  Discount    Profit  \n",
       "5            7       0.0   14.1694  \n",
       "6            4       0.0    1.9656  \n",
       "7            6       0.2   90.7152  \n",
       "8            3       0.2    5.7825  \n",
       "9            5       0.0   34.4700  \n",
       "...        ...       ...       ...  \n",
       "9946         3       0.2   32.1300  \n",
       "9956         5       0.0   21.7845  \n",
       "9957         4       0.0  109.7208  \n",
       "9958         2       0.0    2.1900  \n",
       "9989         3       0.2    4.1028  \n",
       "\n",
       "[1993 rows x 20 columns]"
      ]
     },
     "execution_count": 65,
     "metadata": {},
     "output_type": "execute_result"
    }
   ],
   "source": [
    "df['Order Date'] = pd.to_datetime(df['Order Date'], format='%d/%m/%Y')\n",
    "df_2014= df[df[\"Order Date\"].dt.year == 2014]\n",
    "df_2014"
   ]
  },
  {
   "cell_type": "code",
   "execution_count": 69,
   "metadata": {},
   "outputs": [],
   "source": [
    "data14=df_2014.groupby(\"State\")[['Sales']].sum()\n",
    "data14 = data14.reset_index()"
   ]
  },
  {
   "cell_type": "code",
   "execution_count": 80,
   "metadata": {},
   "outputs": [],
   "source": [
    "data14=data14.sort_values(\"Sales\", ascending=False)"
   ]
  },
  {
   "cell_type": "code",
   "execution_count": 81,
   "metadata": {},
   "outputs": [
    {
     "data": {
      "application/vnd.plotly.v1+json": {
       "config": {
        "plotlyServerURL": "https://plot.ly"
       },
       "data": [
        {
         "hoverinfo": "x+y",
         "marker": {
          "color": "skyblue"
         },
         "textposition": "auto",
         "type": "bar",
         "x": [
          "California",
          "New York",
          "Texas",
          "Florida",
          "Washington",
          "Virginia",
          "Pennsylvania",
          "Illinois",
          "Minnesota",
          "Ohio",
          "Massachusetts",
          "North Carolina",
          "Arizona",
          "Kentucky",
          "Colorado",
          "Arkansas",
          "Michigan",
          "Alabama",
          "Rhode Island",
          "Wisconsin",
          "Oregon",
          "Delaware",
          "Georgia",
          "New Jersey",
          "Tennessee",
          "Utah",
          "Indiana",
          "Connecticut",
          "Oklahoma",
          "Nevada",
          "Louisiana",
          "South Carolina",
          "Mississippi",
          "Maryland",
          "Missouri",
          "Kansas",
          "Iowa",
          "New Mexico",
          "Maine",
          "New Hampshire",
          "Idaho",
          "Montana",
          "Nebraska",
          "South Dakota"
         ],
         "y": [
          91303.531,
          64788.487,
          50625.1766,
          34248.2605,
          29871.576,
          25802.05,
          20246.148,
          16202.707,
          15883.330000000002,
          14134.85,
          9900.106,
          8620.741,
          8295.235,
          8280.460000000001,
          6502.294,
          6302.6900000000005,
          6172.251,
          6139.09,
          5015.686,
          4847.71,
          4807.783,
          4786.03,
          4540.1,
          4192.28,
          3051.5119999999997,
          2943.688,
          2936.81,
          2794.02,
          2639.35,
          2561.21,
          2534.92,
          2270.86,
          2055.16,
          1701.25,
          1648.03,
          1319.79,
          1190.84,
          708.012,
          617.12,
          504.48,
          465.216,
          424.488,
          210.01999999999998,
          162.15
         ]
        }
       ],
       "layout": {
        "barmode": "group",
        "template": {
         "data": {
          "bar": [
           {
            "error_x": {
             "color": "#2a3f5f"
            },
            "error_y": {
             "color": "#2a3f5f"
            },
            "marker": {
             "line": {
              "color": "#E5ECF6",
              "width": 0.5
             },
             "pattern": {
              "fillmode": "overlay",
              "size": 10,
              "solidity": 0.2
             }
            },
            "type": "bar"
           }
          ],
          "barpolar": [
           {
            "marker": {
             "line": {
              "color": "#E5ECF6",
              "width": 0.5
             },
             "pattern": {
              "fillmode": "overlay",
              "size": 10,
              "solidity": 0.2
             }
            },
            "type": "barpolar"
           }
          ],
          "carpet": [
           {
            "aaxis": {
             "endlinecolor": "#2a3f5f",
             "gridcolor": "white",
             "linecolor": "white",
             "minorgridcolor": "white",
             "startlinecolor": "#2a3f5f"
            },
            "baxis": {
             "endlinecolor": "#2a3f5f",
             "gridcolor": "white",
             "linecolor": "white",
             "minorgridcolor": "white",
             "startlinecolor": "#2a3f5f"
            },
            "type": "carpet"
           }
          ],
          "choropleth": [
           {
            "colorbar": {
             "outlinewidth": 0,
             "ticks": ""
            },
            "type": "choropleth"
           }
          ],
          "contour": [
           {
            "colorbar": {
             "outlinewidth": 0,
             "ticks": ""
            },
            "colorscale": [
             [
              0,
              "#0d0887"
             ],
             [
              0.1111111111111111,
              "#46039f"
             ],
             [
              0.2222222222222222,
              "#7201a8"
             ],
             [
              0.3333333333333333,
              "#9c179e"
             ],
             [
              0.4444444444444444,
              "#bd3786"
             ],
             [
              0.5555555555555556,
              "#d8576b"
             ],
             [
              0.6666666666666666,
              "#ed7953"
             ],
             [
              0.7777777777777778,
              "#fb9f3a"
             ],
             [
              0.8888888888888888,
              "#fdca26"
             ],
             [
              1,
              "#f0f921"
             ]
            ],
            "type": "contour"
           }
          ],
          "contourcarpet": [
           {
            "colorbar": {
             "outlinewidth": 0,
             "ticks": ""
            },
            "type": "contourcarpet"
           }
          ],
          "heatmap": [
           {
            "colorbar": {
             "outlinewidth": 0,
             "ticks": ""
            },
            "colorscale": [
             [
              0,
              "#0d0887"
             ],
             [
              0.1111111111111111,
              "#46039f"
             ],
             [
              0.2222222222222222,
              "#7201a8"
             ],
             [
              0.3333333333333333,
              "#9c179e"
             ],
             [
              0.4444444444444444,
              "#bd3786"
             ],
             [
              0.5555555555555556,
              "#d8576b"
             ],
             [
              0.6666666666666666,
              "#ed7953"
             ],
             [
              0.7777777777777778,
              "#fb9f3a"
             ],
             [
              0.8888888888888888,
              "#fdca26"
             ],
             [
              1,
              "#f0f921"
             ]
            ],
            "type": "heatmap"
           }
          ],
          "heatmapgl": [
           {
            "colorbar": {
             "outlinewidth": 0,
             "ticks": ""
            },
            "colorscale": [
             [
              0,
              "#0d0887"
             ],
             [
              0.1111111111111111,
              "#46039f"
             ],
             [
              0.2222222222222222,
              "#7201a8"
             ],
             [
              0.3333333333333333,
              "#9c179e"
             ],
             [
              0.4444444444444444,
              "#bd3786"
             ],
             [
              0.5555555555555556,
              "#d8576b"
             ],
             [
              0.6666666666666666,
              "#ed7953"
             ],
             [
              0.7777777777777778,
              "#fb9f3a"
             ],
             [
              0.8888888888888888,
              "#fdca26"
             ],
             [
              1,
              "#f0f921"
             ]
            ],
            "type": "heatmapgl"
           }
          ],
          "histogram": [
           {
            "marker": {
             "pattern": {
              "fillmode": "overlay",
              "size": 10,
              "solidity": 0.2
             }
            },
            "type": "histogram"
           }
          ],
          "histogram2d": [
           {
            "colorbar": {
             "outlinewidth": 0,
             "ticks": ""
            },
            "colorscale": [
             [
              0,
              "#0d0887"
             ],
             [
              0.1111111111111111,
              "#46039f"
             ],
             [
              0.2222222222222222,
              "#7201a8"
             ],
             [
              0.3333333333333333,
              "#9c179e"
             ],
             [
              0.4444444444444444,
              "#bd3786"
             ],
             [
              0.5555555555555556,
              "#d8576b"
             ],
             [
              0.6666666666666666,
              "#ed7953"
             ],
             [
              0.7777777777777778,
              "#fb9f3a"
             ],
             [
              0.8888888888888888,
              "#fdca26"
             ],
             [
              1,
              "#f0f921"
             ]
            ],
            "type": "histogram2d"
           }
          ],
          "histogram2dcontour": [
           {
            "colorbar": {
             "outlinewidth": 0,
             "ticks": ""
            },
            "colorscale": [
             [
              0,
              "#0d0887"
             ],
             [
              0.1111111111111111,
              "#46039f"
             ],
             [
              0.2222222222222222,
              "#7201a8"
             ],
             [
              0.3333333333333333,
              "#9c179e"
             ],
             [
              0.4444444444444444,
              "#bd3786"
             ],
             [
              0.5555555555555556,
              "#d8576b"
             ],
             [
              0.6666666666666666,
              "#ed7953"
             ],
             [
              0.7777777777777778,
              "#fb9f3a"
             ],
             [
              0.8888888888888888,
              "#fdca26"
             ],
             [
              1,
              "#f0f921"
             ]
            ],
            "type": "histogram2dcontour"
           }
          ],
          "mesh3d": [
           {
            "colorbar": {
             "outlinewidth": 0,
             "ticks": ""
            },
            "type": "mesh3d"
           }
          ],
          "parcoords": [
           {
            "line": {
             "colorbar": {
              "outlinewidth": 0,
              "ticks": ""
             }
            },
            "type": "parcoords"
           }
          ],
          "pie": [
           {
            "automargin": true,
            "type": "pie"
           }
          ],
          "scatter": [
           {
            "fillpattern": {
             "fillmode": "overlay",
             "size": 10,
             "solidity": 0.2
            },
            "type": "scatter"
           }
          ],
          "scatter3d": [
           {
            "line": {
             "colorbar": {
              "outlinewidth": 0,
              "ticks": ""
             }
            },
            "marker": {
             "colorbar": {
              "outlinewidth": 0,
              "ticks": ""
             }
            },
            "type": "scatter3d"
           }
          ],
          "scattercarpet": [
           {
            "marker": {
             "colorbar": {
              "outlinewidth": 0,
              "ticks": ""
             }
            },
            "type": "scattercarpet"
           }
          ],
          "scattergeo": [
           {
            "marker": {
             "colorbar": {
              "outlinewidth": 0,
              "ticks": ""
             }
            },
            "type": "scattergeo"
           }
          ],
          "scattergl": [
           {
            "marker": {
             "colorbar": {
              "outlinewidth": 0,
              "ticks": ""
             }
            },
            "type": "scattergl"
           }
          ],
          "scattermapbox": [
           {
            "marker": {
             "colorbar": {
              "outlinewidth": 0,
              "ticks": ""
             }
            },
            "type": "scattermapbox"
           }
          ],
          "scatterpolar": [
           {
            "marker": {
             "colorbar": {
              "outlinewidth": 0,
              "ticks": ""
             }
            },
            "type": "scatterpolar"
           }
          ],
          "scatterpolargl": [
           {
            "marker": {
             "colorbar": {
              "outlinewidth": 0,
              "ticks": ""
             }
            },
            "type": "scatterpolargl"
           }
          ],
          "scatterternary": [
           {
            "marker": {
             "colorbar": {
              "outlinewidth": 0,
              "ticks": ""
             }
            },
            "type": "scatterternary"
           }
          ],
          "surface": [
           {
            "colorbar": {
             "outlinewidth": 0,
             "ticks": ""
            },
            "colorscale": [
             [
              0,
              "#0d0887"
             ],
             [
              0.1111111111111111,
              "#46039f"
             ],
             [
              0.2222222222222222,
              "#7201a8"
             ],
             [
              0.3333333333333333,
              "#9c179e"
             ],
             [
              0.4444444444444444,
              "#bd3786"
             ],
             [
              0.5555555555555556,
              "#d8576b"
             ],
             [
              0.6666666666666666,
              "#ed7953"
             ],
             [
              0.7777777777777778,
              "#fb9f3a"
             ],
             [
              0.8888888888888888,
              "#fdca26"
             ],
             [
              1,
              "#f0f921"
             ]
            ],
            "type": "surface"
           }
          ],
          "table": [
           {
            "cells": {
             "fill": {
              "color": "#EBF0F8"
             },
             "line": {
              "color": "white"
             }
            },
            "header": {
             "fill": {
              "color": "#C8D4E3"
             },
             "line": {
              "color": "white"
             }
            },
            "type": "table"
           }
          ]
         },
         "layout": {
          "annotationdefaults": {
           "arrowcolor": "#2a3f5f",
           "arrowhead": 0,
           "arrowwidth": 1
          },
          "autotypenumbers": "strict",
          "coloraxis": {
           "colorbar": {
            "outlinewidth": 0,
            "ticks": ""
           }
          },
          "colorscale": {
           "diverging": [
            [
             0,
             "#8e0152"
            ],
            [
             0.1,
             "#c51b7d"
            ],
            [
             0.2,
             "#de77ae"
            ],
            [
             0.3,
             "#f1b6da"
            ],
            [
             0.4,
             "#fde0ef"
            ],
            [
             0.5,
             "#f7f7f7"
            ],
            [
             0.6,
             "#e6f5d0"
            ],
            [
             0.7,
             "#b8e186"
            ],
            [
             0.8,
             "#7fbc41"
            ],
            [
             0.9,
             "#4d9221"
            ],
            [
             1,
             "#276419"
            ]
           ],
           "sequential": [
            [
             0,
             "#0d0887"
            ],
            [
             0.1111111111111111,
             "#46039f"
            ],
            [
             0.2222222222222222,
             "#7201a8"
            ],
            [
             0.3333333333333333,
             "#9c179e"
            ],
            [
             0.4444444444444444,
             "#bd3786"
            ],
            [
             0.5555555555555556,
             "#d8576b"
            ],
            [
             0.6666666666666666,
             "#ed7953"
            ],
            [
             0.7777777777777778,
             "#fb9f3a"
            ],
            [
             0.8888888888888888,
             "#fdca26"
            ],
            [
             1,
             "#f0f921"
            ]
           ],
           "sequentialminus": [
            [
             0,
             "#0d0887"
            ],
            [
             0.1111111111111111,
             "#46039f"
            ],
            [
             0.2222222222222222,
             "#7201a8"
            ],
            [
             0.3333333333333333,
             "#9c179e"
            ],
            [
             0.4444444444444444,
             "#bd3786"
            ],
            [
             0.5555555555555556,
             "#d8576b"
            ],
            [
             0.6666666666666666,
             "#ed7953"
            ],
            [
             0.7777777777777778,
             "#fb9f3a"
            ],
            [
             0.8888888888888888,
             "#fdca26"
            ],
            [
             1,
             "#f0f921"
            ]
           ]
          },
          "colorway": [
           "#636efa",
           "#EF553B",
           "#00cc96",
           "#ab63fa",
           "#FFA15A",
           "#19d3f3",
           "#FF6692",
           "#B6E880",
           "#FF97FF",
           "#FECB52"
          ],
          "font": {
           "color": "#2a3f5f"
          },
          "geo": {
           "bgcolor": "white",
           "lakecolor": "white",
           "landcolor": "#E5ECF6",
           "showlakes": true,
           "showland": true,
           "subunitcolor": "white"
          },
          "hoverlabel": {
           "align": "left"
          },
          "hovermode": "closest",
          "mapbox": {
           "style": "light"
          },
          "paper_bgcolor": "white",
          "plot_bgcolor": "#E5ECF6",
          "polar": {
           "angularaxis": {
            "gridcolor": "white",
            "linecolor": "white",
            "ticks": ""
           },
           "bgcolor": "#E5ECF6",
           "radialaxis": {
            "gridcolor": "white",
            "linecolor": "white",
            "ticks": ""
           }
          },
          "scene": {
           "xaxis": {
            "backgroundcolor": "#E5ECF6",
            "gridcolor": "white",
            "gridwidth": 2,
            "linecolor": "white",
            "showbackground": true,
            "ticks": "",
            "zerolinecolor": "white"
           },
           "yaxis": {
            "backgroundcolor": "#E5ECF6",
            "gridcolor": "white",
            "gridwidth": 2,
            "linecolor": "white",
            "showbackground": true,
            "ticks": "",
            "zerolinecolor": "white"
           },
           "zaxis": {
            "backgroundcolor": "#E5ECF6",
            "gridcolor": "white",
            "gridwidth": 2,
            "linecolor": "white",
            "showbackground": true,
            "ticks": "",
            "zerolinecolor": "white"
           }
          },
          "shapedefaults": {
           "line": {
            "color": "#2a3f5f"
           }
          },
          "ternary": {
           "aaxis": {
            "gridcolor": "white",
            "linecolor": "white",
            "ticks": ""
           },
           "baxis": {
            "gridcolor": "white",
            "linecolor": "white",
            "ticks": ""
           },
           "bgcolor": "#E5ECF6",
           "caxis": {
            "gridcolor": "white",
            "linecolor": "white",
            "ticks": ""
           }
          },
          "title": {
           "x": 0.05
          },
          "xaxis": {
           "automargin": true,
           "gridcolor": "white",
           "linecolor": "white",
           "ticks": "",
           "title": {
            "standoff": 15
           },
           "zerolinecolor": "white",
           "zerolinewidth": 2
          },
          "yaxis": {
           "automargin": true,
           "gridcolor": "white",
           "linecolor": "white",
           "ticks": "",
           "title": {
            "standoff": 15
           },
           "zerolinecolor": "white",
           "zerolinewidth": 2
          }
         }
        },
        "title": {
         "text": "Total sales in 2014"
        },
        "xaxis": {
         "title": {
          "text": "States"
         }
        }
       }
      }
     },
     "metadata": {},
     "output_type": "display_data"
    }
   ],
   "source": [
    "trace1 = go.Bar(x = data14['State'],\n",
    "                y = data14['Sales'],\n",
    "                textposition = 'auto',\n",
    "                hoverinfo = 'x+y',\n",
    "                marker_color = 'skyblue'\n",
    "               )\n",
    "\n",
    "data = [trace1]\n",
    "\n",
    "layout = go.Layout(barmode = \"group\",\n",
    "                   xaxis = {'title': 'States'},\n",
    "                   title = \"Total sales in 2014\")\n",
    "\n",
    "fig = go.Figure(data = data, layout = layout)\n",
    "\n",
    "fig"
   ]
  },
  {
   "attachments": {},
   "cell_type": "markdown",
   "metadata": {
    "id": "ORjGPnb_imh0"
   },
   "source": [
    "## 2. Create an interactive line chart showing Sales and Profit in 2014."
   ]
  },
  {
   "cell_type": "code",
   "execution_count": 99,
   "metadata": {},
   "outputs": [
    {
     "data": {
      "text/html": [
       "<div>\n",
       "<style scoped>\n",
       "    .dataframe tbody tr th:only-of-type {\n",
       "        vertical-align: middle;\n",
       "    }\n",
       "\n",
       "    .dataframe tbody tr th {\n",
       "        vertical-align: top;\n",
       "    }\n",
       "\n",
       "    .dataframe thead th {\n",
       "        text-align: right;\n",
       "    }\n",
       "</style>\n",
       "<table border=\"1\" class=\"dataframe\">\n",
       "  <thead>\n",
       "    <tr style=\"text-align: right;\">\n",
       "      <th></th>\n",
       "      <th>Order Date</th>\n",
       "      <th>Sales</th>\n",
       "      <th>Profit</th>\n",
       "    </tr>\n",
       "  </thead>\n",
       "  <tbody>\n",
       "    <tr>\n",
       "      <th>0</th>\n",
       "      <td>2014-01-03</td>\n",
       "      <td>16.448</td>\n",
       "      <td>5.5512</td>\n",
       "    </tr>\n",
       "    <tr>\n",
       "      <th>1</th>\n",
       "      <td>2014-01-04</td>\n",
       "      <td>288.060</td>\n",
       "      <td>-65.9901</td>\n",
       "    </tr>\n",
       "    <tr>\n",
       "      <th>2</th>\n",
       "      <td>2014-01-05</td>\n",
       "      <td>19.536</td>\n",
       "      <td>4.8840</td>\n",
       "    </tr>\n",
       "    <tr>\n",
       "      <th>3</th>\n",
       "      <td>2014-01-06</td>\n",
       "      <td>4407.100</td>\n",
       "      <td>1358.0524</td>\n",
       "    </tr>\n",
       "    <tr>\n",
       "      <th>4</th>\n",
       "      <td>2014-01-07</td>\n",
       "      <td>87.158</td>\n",
       "      <td>-71.9621</td>\n",
       "    </tr>\n",
       "    <tr>\n",
       "      <th>...</th>\n",
       "      <td>...</td>\n",
       "      <td>...</td>\n",
       "      <td>...</td>\n",
       "    </tr>\n",
       "    <tr>\n",
       "      <th>300</th>\n",
       "      <td>2014-12-27</td>\n",
       "      <td>2966.388</td>\n",
       "      <td>-336.3251</td>\n",
       "    </tr>\n",
       "    <tr>\n",
       "      <th>301</th>\n",
       "      <td>2014-12-28</td>\n",
       "      <td>3732.296</td>\n",
       "      <td>706.8574</td>\n",
       "    </tr>\n",
       "    <tr>\n",
       "      <th>302</th>\n",
       "      <td>2014-12-29</td>\n",
       "      <td>2072.096</td>\n",
       "      <td>568.0095</td>\n",
       "    </tr>\n",
       "    <tr>\n",
       "      <th>303</th>\n",
       "      <td>2014-12-30</td>\n",
       "      <td>2172.651</td>\n",
       "      <td>-594.5496</td>\n",
       "    </tr>\n",
       "    <tr>\n",
       "      <th>304</th>\n",
       "      <td>2014-12-31</td>\n",
       "      <td>5253.270</td>\n",
       "      <td>1444.5131</td>\n",
       "    </tr>\n",
       "  </tbody>\n",
       "</table>\n",
       "<p>305 rows × 3 columns</p>\n",
       "</div>"
      ],
      "text/plain": [
       "    Order Date     Sales     Profit\n",
       "0   2014-01-03    16.448     5.5512\n",
       "1   2014-01-04   288.060   -65.9901\n",
       "2   2014-01-05    19.536     4.8840\n",
       "3   2014-01-06  4407.100  1358.0524\n",
       "4   2014-01-07    87.158   -71.9621\n",
       "..         ...       ...        ...\n",
       "300 2014-12-27  2966.388  -336.3251\n",
       "301 2014-12-28  3732.296   706.8574\n",
       "302 2014-12-29  2072.096   568.0095\n",
       "303 2014-12-30  2172.651  -594.5496\n",
       "304 2014-12-31  5253.270  1444.5131\n",
       "\n",
       "[305 rows x 3 columns]"
      ]
     },
     "execution_count": 99,
     "metadata": {},
     "output_type": "execute_result"
    }
   ],
   "source": [
    "dataprof_sales=df_2014.groupby('Order Date')[[\"Sales\", \"Profit\"]].sum()\n",
    "dataprof_sales = dataprof_sales.reset_index()\n",
    "dataprof_sales\n"
   ]
  },
  {
   "cell_type": "code",
   "execution_count": 97,
   "metadata": {},
   "outputs": [
    {
     "data": {
      "application/vnd.plotly.v1+json": {
       "config": {
        "plotlyServerURL": "https://plot.ly"
       },
       "data": [
        {
         "marker": {
          "color": "blue"
         },
         "mode": "lines",
         "name": "Sales",
         "type": "scatter",
         "x": [
          "2014-01-03T00:00:00",
          "2014-01-04T00:00:00",
          "2014-01-05T00:00:00",
          "2014-01-06T00:00:00",
          "2014-01-07T00:00:00",
          "2014-01-09T00:00:00",
          "2014-01-10T00:00:00",
          "2014-01-11T00:00:00",
          "2014-01-13T00:00:00",
          "2014-01-14T00:00:00",
          "2014-01-15T00:00:00",
          "2014-01-16T00:00:00",
          "2014-01-18T00:00:00",
          "2014-01-19T00:00:00",
          "2014-01-20T00:00:00",
          "2014-01-21T00:00:00",
          "2014-01-23T00:00:00",
          "2014-01-26T00:00:00",
          "2014-01-27T00:00:00",
          "2014-01-28T00:00:00",
          "2014-01-30T00:00:00",
          "2014-01-31T00:00:00",
          "2014-02-01T00:00:00",
          "2014-02-02T00:00:00",
          "2014-02-03T00:00:00",
          "2014-02-04T00:00:00",
          "2014-02-06T00:00:00",
          "2014-02-07T00:00:00",
          "2014-02-08T00:00:00",
          "2014-02-11T00:00:00",
          "2014-02-12T00:00:00",
          "2014-02-14T00:00:00",
          "2014-02-15T00:00:00",
          "2014-02-16T00:00:00",
          "2014-02-17T00:00:00",
          "2014-02-18T00:00:00",
          "2014-02-20T00:00:00",
          "2014-02-21T00:00:00",
          "2014-02-22T00:00:00",
          "2014-02-23T00:00:00",
          "2014-02-24T00:00:00",
          "2014-02-27T00:00:00",
          "2014-03-01T00:00:00",
          "2014-03-02T00:00:00",
          "2014-03-03T00:00:00",
          "2014-03-04T00:00:00",
          "2014-03-05T00:00:00",
          "2014-03-07T00:00:00",
          "2014-03-10T00:00:00",
          "2014-03-11T00:00:00",
          "2014-03-14T00:00:00",
          "2014-03-15T00:00:00",
          "2014-03-16T00:00:00",
          "2014-03-17T00:00:00",
          "2014-03-18T00:00:00",
          "2014-03-19T00:00:00",
          "2014-03-21T00:00:00",
          "2014-03-22T00:00:00",
          "2014-03-23T00:00:00",
          "2014-03-24T00:00:00",
          "2014-03-25T00:00:00",
          "2014-03-26T00:00:00",
          "2014-03-28T00:00:00",
          "2014-03-29T00:00:00",
          "2014-03-30T00:00:00",
          "2014-03-31T00:00:00",
          "2014-04-01T00:00:00",
          "2014-04-02T00:00:00",
          "2014-04-03T00:00:00",
          "2014-04-04T00:00:00",
          "2014-04-05T00:00:00",
          "2014-04-06T00:00:00",
          "2014-04-07T00:00:00",
          "2014-04-08T00:00:00",
          "2014-04-11T00:00:00",
          "2014-04-12T00:00:00",
          "2014-04-13T00:00:00",
          "2014-04-15T00:00:00",
          "2014-04-16T00:00:00",
          "2014-04-18T00:00:00",
          "2014-04-19T00:00:00",
          "2014-04-20T00:00:00",
          "2014-04-21T00:00:00",
          "2014-04-22T00:00:00",
          "2014-04-23T00:00:00",
          "2014-04-25T00:00:00",
          "2014-04-26T00:00:00",
          "2014-04-28T00:00:00",
          "2014-04-29T00:00:00",
          "2014-04-30T00:00:00",
          "2014-05-02T00:00:00",
          "2014-05-03T00:00:00",
          "2014-05-04T00:00:00",
          "2014-05-05T00:00:00",
          "2014-05-06T00:00:00",
          "2014-05-07T00:00:00",
          "2014-05-08T00:00:00",
          "2014-05-09T00:00:00",
          "2014-05-10T00:00:00",
          "2014-05-11T00:00:00",
          "2014-05-12T00:00:00",
          "2014-05-13T00:00:00",
          "2014-05-14T00:00:00",
          "2014-05-16T00:00:00",
          "2014-05-17T00:00:00",
          "2014-05-18T00:00:00",
          "2014-05-19T00:00:00",
          "2014-05-20T00:00:00",
          "2014-05-21T00:00:00",
          "2014-05-22T00:00:00",
          "2014-05-23T00:00:00",
          "2014-05-24T00:00:00",
          "2014-05-25T00:00:00",
          "2014-05-26T00:00:00",
          "2014-05-27T00:00:00",
          "2014-05-28T00:00:00",
          "2014-05-30T00:00:00",
          "2014-05-31T00:00:00",
          "2014-06-01T00:00:00",
          "2014-06-02T00:00:00",
          "2014-06-03T00:00:00",
          "2014-06-04T00:00:00",
          "2014-06-06T00:00:00",
          "2014-06-07T00:00:00",
          "2014-06-08T00:00:00",
          "2014-06-09T00:00:00",
          "2014-06-10T00:00:00",
          "2014-06-13T00:00:00",
          "2014-06-14T00:00:00",
          "2014-06-15T00:00:00",
          "2014-06-16T00:00:00",
          "2014-06-17T00:00:00",
          "2014-06-18T00:00:00",
          "2014-06-20T00:00:00",
          "2014-06-21T00:00:00",
          "2014-06-22T00:00:00",
          "2014-06-23T00:00:00",
          "2014-06-24T00:00:00",
          "2014-06-25T00:00:00",
          "2014-06-27T00:00:00",
          "2014-06-28T00:00:00",
          "2014-06-29T00:00:00",
          "2014-06-30T00:00:00",
          "2014-07-01T00:00:00",
          "2014-07-02T00:00:00",
          "2014-07-04T00:00:00",
          "2014-07-05T00:00:00",
          "2014-07-06T00:00:00",
          "2014-07-07T00:00:00",
          "2014-07-08T00:00:00",
          "2014-07-09T00:00:00",
          "2014-07-11T00:00:00",
          "2014-07-12T00:00:00",
          "2014-07-13T00:00:00",
          "2014-07-14T00:00:00",
          "2014-07-15T00:00:00",
          "2014-07-18T00:00:00",
          "2014-07-19T00:00:00",
          "2014-07-20T00:00:00",
          "2014-07-21T00:00:00",
          "2014-07-22T00:00:00",
          "2014-07-23T00:00:00",
          "2014-07-25T00:00:00",
          "2014-07-26T00:00:00",
          "2014-07-27T00:00:00",
          "2014-07-28T00:00:00",
          "2014-07-30T00:00:00",
          "2014-08-01T00:00:00",
          "2014-08-02T00:00:00",
          "2014-08-03T00:00:00",
          "2014-08-04T00:00:00",
          "2014-08-05T00:00:00",
          "2014-08-06T00:00:00",
          "2014-08-08T00:00:00",
          "2014-08-09T00:00:00",
          "2014-08-11T00:00:00",
          "2014-08-12T00:00:00",
          "2014-08-15T00:00:00",
          "2014-08-16T00:00:00",
          "2014-08-17T00:00:00",
          "2014-08-19T00:00:00",
          "2014-08-20T00:00:00",
          "2014-08-22T00:00:00",
          "2014-08-23T00:00:00",
          "2014-08-24T00:00:00",
          "2014-08-25T00:00:00",
          "2014-08-26T00:00:00",
          "2014-08-27T00:00:00",
          "2014-08-29T00:00:00",
          "2014-08-30T00:00:00",
          "2014-08-31T00:00:00",
          "2014-09-01T00:00:00",
          "2014-09-02T00:00:00",
          "2014-09-03T00:00:00",
          "2014-09-05T00:00:00",
          "2014-09-06T00:00:00",
          "2014-09-07T00:00:00",
          "2014-09-08T00:00:00",
          "2014-09-09T00:00:00",
          "2014-09-10T00:00:00",
          "2014-09-11T00:00:00",
          "2014-09-12T00:00:00",
          "2014-09-13T00:00:00",
          "2014-09-14T00:00:00",
          "2014-09-15T00:00:00",
          "2014-09-16T00:00:00",
          "2014-09-17T00:00:00",
          "2014-09-19T00:00:00",
          "2014-09-20T00:00:00",
          "2014-09-21T00:00:00",
          "2014-09-22T00:00:00",
          "2014-09-23T00:00:00",
          "2014-09-24T00:00:00",
          "2014-09-25T00:00:00",
          "2014-09-26T00:00:00",
          "2014-09-27T00:00:00",
          "2014-09-28T00:00:00",
          "2014-09-29T00:00:00",
          "2014-09-30T00:00:00",
          "2014-10-01T00:00:00",
          "2014-10-02T00:00:00",
          "2014-10-03T00:00:00",
          "2014-10-04T00:00:00",
          "2014-10-05T00:00:00",
          "2014-10-06T00:00:00",
          "2014-10-07T00:00:00",
          "2014-10-08T00:00:00",
          "2014-10-09T00:00:00",
          "2014-10-10T00:00:00",
          "2014-10-11T00:00:00",
          "2014-10-12T00:00:00",
          "2014-10-13T00:00:00",
          "2014-10-14T00:00:00",
          "2014-10-15T00:00:00",
          "2014-10-16T00:00:00",
          "2014-10-17T00:00:00",
          "2014-10-18T00:00:00",
          "2014-10-19T00:00:00",
          "2014-10-20T00:00:00",
          "2014-10-21T00:00:00",
          "2014-10-22T00:00:00",
          "2014-10-24T00:00:00",
          "2014-10-25T00:00:00",
          "2014-10-26T00:00:00",
          "2014-10-27T00:00:00",
          "2014-10-28T00:00:00",
          "2014-10-29T00:00:00",
          "2014-10-31T00:00:00",
          "2014-11-01T00:00:00",
          "2014-11-02T00:00:00",
          "2014-11-03T00:00:00",
          "2014-11-04T00:00:00",
          "2014-11-05T00:00:00",
          "2014-11-06T00:00:00",
          "2014-11-07T00:00:00",
          "2014-11-08T00:00:00",
          "2014-11-09T00:00:00",
          "2014-11-10T00:00:00",
          "2014-11-11T00:00:00",
          "2014-11-12T00:00:00",
          "2014-11-14T00:00:00",
          "2014-11-15T00:00:00",
          "2014-11-16T00:00:00",
          "2014-11-17T00:00:00",
          "2014-11-18T00:00:00",
          "2014-11-19T00:00:00",
          "2014-11-20T00:00:00",
          "2014-11-21T00:00:00",
          "2014-11-22T00:00:00",
          "2014-11-23T00:00:00",
          "2014-11-24T00:00:00",
          "2014-11-25T00:00:00",
          "2014-11-26T00:00:00",
          "2014-11-27T00:00:00",
          "2014-11-28T00:00:00",
          "2014-11-29T00:00:00",
          "2014-11-30T00:00:00",
          "2014-12-01T00:00:00",
          "2014-12-02T00:00:00",
          "2014-12-03T00:00:00",
          "2014-12-04T00:00:00",
          "2014-12-05T00:00:00",
          "2014-12-06T00:00:00",
          "2014-12-07T00:00:00",
          "2014-12-08T00:00:00",
          "2014-12-09T00:00:00",
          "2014-12-10T00:00:00",
          "2014-12-12T00:00:00",
          "2014-12-13T00:00:00",
          "2014-12-14T00:00:00",
          "2014-12-15T00:00:00",
          "2014-12-16T00:00:00",
          "2014-12-17T00:00:00",
          "2014-12-19T00:00:00",
          "2014-12-20T00:00:00",
          "2014-12-21T00:00:00",
          "2014-12-22T00:00:00",
          "2014-12-23T00:00:00",
          "2014-12-24T00:00:00",
          "2014-12-26T00:00:00",
          "2014-12-27T00:00:00",
          "2014-12-28T00:00:00",
          "2014-12-29T00:00:00",
          "2014-12-30T00:00:00",
          "2014-12-31T00:00:00"
         ],
         "y": [
          16.448,
          288.06,
          19.536,
          4407.1,
          87.15799999999999,
          40.544,
          54.83,
          9.94,
          3553.795,
          61.96,
          149.95,
          299.964,
          64.864,
          378.594,
          2673.87,
          25.248,
          46.019999999999996,
          1097.25,
          426.67,
          3.928,
          240.5,
          290.666,
          468.9,
          211.64600000000002,
          97.11200000000001,
          134.38400000000001,
          330.512,
          180.32,
          14.56,
          2043.4,
          129.568,
          576.726,
          21.36,
          9.04,
          54.208,
          37.784,
          95.59,
          8.85,
          19.44,
          11.364,
          55.672,
          19.456,
          2203.151,
          202.384,
          1345.8919999999998,
          370.452,
          705.562,
          1561.062,
          741.956,
          918.314,
          2108.55,
          370.78200000000004,
          471.92,
          3960.358,
          28106.716,
          590.762,
          4109.816,
          464.09299999999996,
          945.064,
          65.38,
          459.146,
          145.13,
          1823.8039999999999,
          890.841,
          1170.3220000000001,
          1959.552,
          119.88799999999999,
          1458.558,
          233.45,
          475.844,
          5295.098000000001,
          1650.69,
          1021.1700000000001,
          1958.75,
          1915.24,
          1912.123,
          638.576,
          294.71999999999997,
          39.072,
          1020.532,
          205.47,
          1250.45,
          845.36,
          257.752,
          643.98,
          2379.9939999999997,
          282.568,
          2578.476,
          768.8439999999999,
          1048.74,
          506.12,
          72.632,
          187.43200000000002,
          260.977,
          254.456,
          1091.35,
          1799.97,
          394.48,
          2343.799,
          1642.802,
          734.846,
          898.382,
          310.88,
          289.28,
          91.68,
          948.9480000000001,
          91.62,
          320.10400000000004,
          4264.3279999999995,
          180.93,
          323.75800000000004,
          116.28,
          119.53999999999999,
          1325.718,
          2157.394,
          221.96800000000002,
          1924.913,
          773.7,
          5188.5199999999995,
          738.598,
          741.336,
          456.272,
          1374.0010000000002,
          281.397,
          2501.264,
          5463.008,
          491.55,
          14.52,
          212.94,
          942.9739999999999,
          763.792,
          3418.5020000000004,
          139.8,
          1828.9496,
          4107.443,
          1975.498,
          109.49600000000001,
          4.272,
          792.76,
          616.14,
          1645.791,
          46.68,
          739.624,
          601.0239999999999,
          79.56,
          247.40800000000002,
          1444.104,
          1038.472,
          241.19400000000002,
          763.0740000000001,
          265.521,
          2187.206,
          1960.012,
          351.216,
          292.594,
          9.51,
          273.04,
          461.326,
          2285.786,
          1961.482,
          1348.344,
          2613.1839999999997,
          8341.289999999999,
          5039.994,
          580.06,
          193.152,
          1367.84,
          228.328,
          886.28,
          477.994,
          2743.154,
          2408.7239999999997,
          262.89,
          3955.629,
          3605.6850000000004,
          451.62,
          1832.38,
          842.7819999999999,
          853.092,
          500.342,
          1439.106,
          1838.722,
          23.104,
          565.224,
          59.74,
          1451.6499999999999,
          366.81,
          2070.13,
          832.3225,
          121.24,
          92.52,
          469.436,
          3254.15,
          22.08,
          296.304,
          100.36,
          3523.875,
          14228.428,
          4043.5879999999997,
          1855.2279999999998,
          127.95,
          4904.66,
          1275.408,
          5023.716,
          133.436,
          33.552,
          820.523,
          9338.637,
          5335.968000000001,
          2679.652,
          1240.266,
          10662.337000000001,
          211.96,
          354.88880000000006,
          1480.614,
          773.4399999999999,
          490.29200000000003,
          8109.07,
          987.532,
          4.71,
          598.144,
          862.683,
          728.7479999999999,
          191.9,
          494.71,
          237.35999999999999,
          147.392,
          249.35999999999999,
          2049.386,
          1381.164,
          58.53,
          2212.182,
          4525.484,
          206.72400000000002,
          194.322,
          136.068,
          3134.916,
          641.104,
          1501.104,
          1356.602,
          223.808,
          56.49,
          103.882,
          447.88,
          22.32,
          1510.5819999999999,
          2813.8120000000004,
          5362.026,
          4732.08,
          2126.37,
          2784.163,
          6693.7480000000005,
          1694.564,
          43.68,
          1449.142,
          333.576,
          1574.094,
          2002.556,
          8114.548,
          1054.7612,
          1034.73,
          1780.822,
          1355.9285,
          11544.274,
          3406.855,
          7226.086,
          907.5600000000001,
          1249.622,
          1103.298,
          1363.28,
          5578.606,
          4415.695,
          1705.99,
          203.66,
          2280.83,
          649.044,
          219.154,
          5624.39,
          1771.808,
          505.88,
          129.98,
          2963.642,
          1970.978,
          548.4,
          1095.12,
          1522.652,
          573.336,
          4938.4045,
          293.152,
          7641.658,
          1264.466,
          4394.187,
          45.534,
          3436.7599999999998,
          6962.4400000000005,
          1933.44,
          798.968,
          942.108,
          1950.202,
          2041.414,
          2966.388,
          3732.2960000000003,
          2072.096,
          2172.6510000000003,
          5253.2699999999995
         ]
        },
        {
         "marker": {
          "color": "red"
         },
         "mode": "lines",
         "name": "Profit",
         "type": "scatter",
         "x": [
          "2014-01-03T00:00:00",
          "2014-01-04T00:00:00",
          "2014-01-05T00:00:00",
          "2014-01-06T00:00:00",
          "2014-01-07T00:00:00",
          "2014-01-09T00:00:00",
          "2014-01-10T00:00:00",
          "2014-01-11T00:00:00",
          "2014-01-13T00:00:00",
          "2014-01-14T00:00:00",
          "2014-01-15T00:00:00",
          "2014-01-16T00:00:00",
          "2014-01-18T00:00:00",
          "2014-01-19T00:00:00",
          "2014-01-20T00:00:00",
          "2014-01-21T00:00:00",
          "2014-01-23T00:00:00",
          "2014-01-26T00:00:00",
          "2014-01-27T00:00:00",
          "2014-01-28T00:00:00",
          "2014-01-30T00:00:00",
          "2014-01-31T00:00:00",
          "2014-02-01T00:00:00",
          "2014-02-02T00:00:00",
          "2014-02-03T00:00:00",
          "2014-02-04T00:00:00",
          "2014-02-06T00:00:00",
          "2014-02-07T00:00:00",
          "2014-02-08T00:00:00",
          "2014-02-11T00:00:00",
          "2014-02-12T00:00:00",
          "2014-02-14T00:00:00",
          "2014-02-15T00:00:00",
          "2014-02-16T00:00:00",
          "2014-02-17T00:00:00",
          "2014-02-18T00:00:00",
          "2014-02-20T00:00:00",
          "2014-02-21T00:00:00",
          "2014-02-22T00:00:00",
          "2014-02-23T00:00:00",
          "2014-02-24T00:00:00",
          "2014-02-27T00:00:00",
          "2014-03-01T00:00:00",
          "2014-03-02T00:00:00",
          "2014-03-03T00:00:00",
          "2014-03-04T00:00:00",
          "2014-03-05T00:00:00",
          "2014-03-07T00:00:00",
          "2014-03-10T00:00:00",
          "2014-03-11T00:00:00",
          "2014-03-14T00:00:00",
          "2014-03-15T00:00:00",
          "2014-03-16T00:00:00",
          "2014-03-17T00:00:00",
          "2014-03-18T00:00:00",
          "2014-03-19T00:00:00",
          "2014-03-21T00:00:00",
          "2014-03-22T00:00:00",
          "2014-03-23T00:00:00",
          "2014-03-24T00:00:00",
          "2014-03-25T00:00:00",
          "2014-03-26T00:00:00",
          "2014-03-28T00:00:00",
          "2014-03-29T00:00:00",
          "2014-03-30T00:00:00",
          "2014-03-31T00:00:00",
          "2014-04-01T00:00:00",
          "2014-04-02T00:00:00",
          "2014-04-03T00:00:00",
          "2014-04-04T00:00:00",
          "2014-04-05T00:00:00",
          "2014-04-06T00:00:00",
          "2014-04-07T00:00:00",
          "2014-04-08T00:00:00",
          "2014-04-11T00:00:00",
          "2014-04-12T00:00:00",
          "2014-04-13T00:00:00",
          "2014-04-15T00:00:00",
          "2014-04-16T00:00:00",
          "2014-04-18T00:00:00",
          "2014-04-19T00:00:00",
          "2014-04-20T00:00:00",
          "2014-04-21T00:00:00",
          "2014-04-22T00:00:00",
          "2014-04-23T00:00:00",
          "2014-04-25T00:00:00",
          "2014-04-26T00:00:00",
          "2014-04-28T00:00:00",
          "2014-04-29T00:00:00",
          "2014-04-30T00:00:00",
          "2014-05-02T00:00:00",
          "2014-05-03T00:00:00",
          "2014-05-04T00:00:00",
          "2014-05-05T00:00:00",
          "2014-05-06T00:00:00",
          "2014-05-07T00:00:00",
          "2014-05-08T00:00:00",
          "2014-05-09T00:00:00",
          "2014-05-10T00:00:00",
          "2014-05-11T00:00:00",
          "2014-05-12T00:00:00",
          "2014-05-13T00:00:00",
          "2014-05-14T00:00:00",
          "2014-05-16T00:00:00",
          "2014-05-17T00:00:00",
          "2014-05-18T00:00:00",
          "2014-05-19T00:00:00",
          "2014-05-20T00:00:00",
          "2014-05-21T00:00:00",
          "2014-05-22T00:00:00",
          "2014-05-23T00:00:00",
          "2014-05-24T00:00:00",
          "2014-05-25T00:00:00",
          "2014-05-26T00:00:00",
          "2014-05-27T00:00:00",
          "2014-05-28T00:00:00",
          "2014-05-30T00:00:00",
          "2014-05-31T00:00:00",
          "2014-06-01T00:00:00",
          "2014-06-02T00:00:00",
          "2014-06-03T00:00:00",
          "2014-06-04T00:00:00",
          "2014-06-06T00:00:00",
          "2014-06-07T00:00:00",
          "2014-06-08T00:00:00",
          "2014-06-09T00:00:00",
          "2014-06-10T00:00:00",
          "2014-06-13T00:00:00",
          "2014-06-14T00:00:00",
          "2014-06-15T00:00:00",
          "2014-06-16T00:00:00",
          "2014-06-17T00:00:00",
          "2014-06-18T00:00:00",
          "2014-06-20T00:00:00",
          "2014-06-21T00:00:00",
          "2014-06-22T00:00:00",
          "2014-06-23T00:00:00",
          "2014-06-24T00:00:00",
          "2014-06-25T00:00:00",
          "2014-06-27T00:00:00",
          "2014-06-28T00:00:00",
          "2014-06-29T00:00:00",
          "2014-06-30T00:00:00",
          "2014-07-01T00:00:00",
          "2014-07-02T00:00:00",
          "2014-07-04T00:00:00",
          "2014-07-05T00:00:00",
          "2014-07-06T00:00:00",
          "2014-07-07T00:00:00",
          "2014-07-08T00:00:00",
          "2014-07-09T00:00:00",
          "2014-07-11T00:00:00",
          "2014-07-12T00:00:00",
          "2014-07-13T00:00:00",
          "2014-07-14T00:00:00",
          "2014-07-15T00:00:00",
          "2014-07-18T00:00:00",
          "2014-07-19T00:00:00",
          "2014-07-20T00:00:00",
          "2014-07-21T00:00:00",
          "2014-07-22T00:00:00",
          "2014-07-23T00:00:00",
          "2014-07-25T00:00:00",
          "2014-07-26T00:00:00",
          "2014-07-27T00:00:00",
          "2014-07-28T00:00:00",
          "2014-07-30T00:00:00",
          "2014-08-01T00:00:00",
          "2014-08-02T00:00:00",
          "2014-08-03T00:00:00",
          "2014-08-04T00:00:00",
          "2014-08-05T00:00:00",
          "2014-08-06T00:00:00",
          "2014-08-08T00:00:00",
          "2014-08-09T00:00:00",
          "2014-08-11T00:00:00",
          "2014-08-12T00:00:00",
          "2014-08-15T00:00:00",
          "2014-08-16T00:00:00",
          "2014-08-17T00:00:00",
          "2014-08-19T00:00:00",
          "2014-08-20T00:00:00",
          "2014-08-22T00:00:00",
          "2014-08-23T00:00:00",
          "2014-08-24T00:00:00",
          "2014-08-25T00:00:00",
          "2014-08-26T00:00:00",
          "2014-08-27T00:00:00",
          "2014-08-29T00:00:00",
          "2014-08-30T00:00:00",
          "2014-08-31T00:00:00",
          "2014-09-01T00:00:00",
          "2014-09-02T00:00:00",
          "2014-09-03T00:00:00",
          "2014-09-05T00:00:00",
          "2014-09-06T00:00:00",
          "2014-09-07T00:00:00",
          "2014-09-08T00:00:00",
          "2014-09-09T00:00:00",
          "2014-09-10T00:00:00",
          "2014-09-11T00:00:00",
          "2014-09-12T00:00:00",
          "2014-09-13T00:00:00",
          "2014-09-14T00:00:00",
          "2014-09-15T00:00:00",
          "2014-09-16T00:00:00",
          "2014-09-17T00:00:00",
          "2014-09-19T00:00:00",
          "2014-09-20T00:00:00",
          "2014-09-21T00:00:00",
          "2014-09-22T00:00:00",
          "2014-09-23T00:00:00",
          "2014-09-24T00:00:00",
          "2014-09-25T00:00:00",
          "2014-09-26T00:00:00",
          "2014-09-27T00:00:00",
          "2014-09-28T00:00:00",
          "2014-09-29T00:00:00",
          "2014-09-30T00:00:00",
          "2014-10-01T00:00:00",
          "2014-10-02T00:00:00",
          "2014-10-03T00:00:00",
          "2014-10-04T00:00:00",
          "2014-10-05T00:00:00",
          "2014-10-06T00:00:00",
          "2014-10-07T00:00:00",
          "2014-10-08T00:00:00",
          "2014-10-09T00:00:00",
          "2014-10-10T00:00:00",
          "2014-10-11T00:00:00",
          "2014-10-12T00:00:00",
          "2014-10-13T00:00:00",
          "2014-10-14T00:00:00",
          "2014-10-15T00:00:00",
          "2014-10-16T00:00:00",
          "2014-10-17T00:00:00",
          "2014-10-18T00:00:00",
          "2014-10-19T00:00:00",
          "2014-10-20T00:00:00",
          "2014-10-21T00:00:00",
          "2014-10-22T00:00:00",
          "2014-10-24T00:00:00",
          "2014-10-25T00:00:00",
          "2014-10-26T00:00:00",
          "2014-10-27T00:00:00",
          "2014-10-28T00:00:00",
          "2014-10-29T00:00:00",
          "2014-10-31T00:00:00",
          "2014-11-01T00:00:00",
          "2014-11-02T00:00:00",
          "2014-11-03T00:00:00",
          "2014-11-04T00:00:00",
          "2014-11-05T00:00:00",
          "2014-11-06T00:00:00",
          "2014-11-07T00:00:00",
          "2014-11-08T00:00:00",
          "2014-11-09T00:00:00",
          "2014-11-10T00:00:00",
          "2014-11-11T00:00:00",
          "2014-11-12T00:00:00",
          "2014-11-14T00:00:00",
          "2014-11-15T00:00:00",
          "2014-11-16T00:00:00",
          "2014-11-17T00:00:00",
          "2014-11-18T00:00:00",
          "2014-11-19T00:00:00",
          "2014-11-20T00:00:00",
          "2014-11-21T00:00:00",
          "2014-11-22T00:00:00",
          "2014-11-23T00:00:00",
          "2014-11-24T00:00:00",
          "2014-11-25T00:00:00",
          "2014-11-26T00:00:00",
          "2014-11-27T00:00:00",
          "2014-11-28T00:00:00",
          "2014-11-29T00:00:00",
          "2014-11-30T00:00:00",
          "2014-12-01T00:00:00",
          "2014-12-02T00:00:00",
          "2014-12-03T00:00:00",
          "2014-12-04T00:00:00",
          "2014-12-05T00:00:00",
          "2014-12-06T00:00:00",
          "2014-12-07T00:00:00",
          "2014-12-08T00:00:00",
          "2014-12-09T00:00:00",
          "2014-12-10T00:00:00",
          "2014-12-12T00:00:00",
          "2014-12-13T00:00:00",
          "2014-12-14T00:00:00",
          "2014-12-15T00:00:00",
          "2014-12-16T00:00:00",
          "2014-12-17T00:00:00",
          "2014-12-19T00:00:00",
          "2014-12-20T00:00:00",
          "2014-12-21T00:00:00",
          "2014-12-22T00:00:00",
          "2014-12-23T00:00:00",
          "2014-12-24T00:00:00",
          "2014-12-26T00:00:00",
          "2014-12-27T00:00:00",
          "2014-12-28T00:00:00",
          "2014-12-29T00:00:00",
          "2014-12-30T00:00:00",
          "2014-12-31T00:00:00"
         ],
         "y": [
          5.5512,
          -65.9901,
          4.884,
          1358.0524,
          -71.9621,
          10.918,
          22.6537,
          3.0814,
          673.6386,
          -53.2856,
          65.978,
          -5.933499999999999,
          6.4864,
          -287.9976,
          584.3695,
          4.1028,
          19.2384,
          150.327,
          9.6827,
          1.3257,
          11.6502,
          3.4196,
          206.316,
          7.152499999999999,
          31.5614,
          51.1432,
          76.4833,
          59.3488,
          5.5328,
          293.5285,
          -24.294,
          120.1764,
          7.209,
          -15.658,
          8.8088,
          -13.846799999999998,
          35.5612,
          -13.7175,
          9.3312,
          -4.522500000000001,
          18.789299999999997,
          3.4048,
          -208.96140000000003,
          56.0112,
          -629.7988999999999,
          20.0778,
          261.19010000000003,
          134.1539,
          4.188600000000001,
          279.06100000000004,
          528.5024,
          33.598,
          29.495,
          -831.8572,
          -954.7089000000001,
          68.6353,
          1055.3735,
          -50.9345,
          126.9224,
          26.2758,
          96.6684,
          30.7658,
          -11.075400000000002,
          -152.7156,
          232.7529,
          355.1097,
          26.0896,
          407.39619999999996,
          85.6044,
          105.4521,
          253.9044,
          299.5152,
          305.05600000000004,
          359.8481,
          523.2729,
          152.6581,
          -384.7942,
          108,
          9.768,
          169.9374,
          87.5664,
          -194.4528,
          5.5755,
          124.78689999999999,
          -0.305299999999999,
          332.8671,
          40.745,
          292.1672,
          101.6814,
          276.49559999999997,
          91.9572,
          28.8624,
          58.5624,
          34.5131,
          85.7158,
          215.8138,
          239.996,
          95.1736,
          57.82600000000002,
          -289.6088,
          -119.22550000000001,
          -242.28369999999995,
          23.316,
          20.85,
          45.84,
          -158.00400000000002,
          35.6472,
          62.058099999999996,
          1719.5087,
          46.580999999999996,
          58.050200000000004,
          56.9772,
          -183.78379999999999,
          130.5086,
          111.54079999999999,
          59.3088,
          222.0358,
          230.9727,
          1576.7509,
          218.36079999999998,
          96.10860000000001,
          -6.493199999999999,
          -265.2367,
          -230.33159999999998,
          193.365,
          629.0289,
          240.8595,
          4.7916,
          57.4938,
          -78.24100000000001,
          76.6876,
          1126.6297000000002,
          12.2325,
          -62.9594,
          849.4221,
          40.2147,
          3.1803000000000003,
          0.9612,
          49.7172,
          76.1052,
          109.76200000000001,
          8.557500000000001,
          249.5572,
          75.33319999999999,
          22.1508,
          83.9448,
          182.7936,
          222.84550000000002,
          -34.6598,
          -8.441999999999993,
          57.2078,
          537.7298000000001,
          88.45439999999999,
          4.3902,
          -31.101399999999998,
          3.9882,
          -21.3948,
          103.20620000000001,
          162.1881,
          34.126000000000005,
          229.8348,
          267.4844,
          384.5084,
          -3570.971,
          70.31219999999999,
          34.6984,
          259.8896,
          66.475,
          248.02759999999998,
          -76.7149,
          833.4829,
          504.1059,
          106.6392,
          1129.1342,
          700.8938,
          45.644400000000005,
          357.593,
          118.18260000000001,
          -227.4912,
          193.18359999999998,
          175.4619,
          569.8905,
          4.878699999999999,
          160.4016,
          20.1332,
          118.84229999999998,
          92.0889,
          513.7323,
          -376.4695,
          21.485,
          18.504,
          85.9402,
          916.2512,
          -4.4639999999999995,
          21.823,
          39.6308,
          -481.2463,
          -1452.6877,
          16.361600000000088,
          259.62080000000003,
          21.7515,
          600.8836,
          243.8237,
          1530.7599,
          30.1722,
          12.582,
          233.52870000000001,
          -1539.1441,
          670.1014,
          877.4457,
          87.47569999999999,
          4808.5975,
          8.4784,
          -87.5594,
          230.72660000000002,
          123.10640000000001,
          64.3686,
          890.2809,
          119.4905,
          0,
          133.7632,
          -65.4279,
          45.0709,
          46.483000000000004,
          50.039500000000004,
          31.855999999999998,
          60.7518,
          70.0043,
          169.95260000000002,
          110.6138,
          12.877099999999999,
          454.1033,
          1059.3591999999999,
          -0.9321000000000002,
          91.4088,
          -36.838,
          606.1102,
          124.5477,
          -65.9838,
          26.062300000000015,
          23.303199999999997,
          18.5592,
          9.4491,
          41.592,
          7.6626,
          93.4282,
          378.5486,
          -48.10749999999993,
          663.3641,
          286.5754,
          -108.22129999999999,
          2443.392,
          -61.611599999999996,
          20.9664,
          155.4863,
          25.0182,
          222.6886,
          436.6331,
          -449.5310999999999,
          79.634,
          308.90680000000003,
          400.0781,
          137.5582,
          1954.1346,
          -347.5227,
          1979.1982,
          251.172,
          378.16990000000004,
          461.8921,
          -105.23839999999998,
          -97.35739999999998,
          148.62720000000002,
          -62.161199999999994,
          41.296,
          12.473200000000002,
          104.6772,
          11.829,
          875.1448,
          111.3749,
          146.8304,
          62.3904,
          425.0408,
          -19.019000000000013,
          201.78320000000002,
          125.9273,
          125.75130000000001,
          101.14259999999999,
          -72.10079999999999,
          8.731399999999997,
          2220.5215,
          -144.732,
          415.6424,
          7.1924,
          356.95689999999996,
          1557.0102,
          178.26479999999998,
          183.12109999999998,
          67.3794,
          264.308,
          -3.5973999999999933,
          -336.32509999999996,
          706.8574,
          568.0095,
          -594.5496,
          1444.5131
         ]
        }
       ],
       "layout": {
        "template": {
         "data": {
          "bar": [
           {
            "error_x": {
             "color": "#2a3f5f"
            },
            "error_y": {
             "color": "#2a3f5f"
            },
            "marker": {
             "line": {
              "color": "#E5ECF6",
              "width": 0.5
             },
             "pattern": {
              "fillmode": "overlay",
              "size": 10,
              "solidity": 0.2
             }
            },
            "type": "bar"
           }
          ],
          "barpolar": [
           {
            "marker": {
             "line": {
              "color": "#E5ECF6",
              "width": 0.5
             },
             "pattern": {
              "fillmode": "overlay",
              "size": 10,
              "solidity": 0.2
             }
            },
            "type": "barpolar"
           }
          ],
          "carpet": [
           {
            "aaxis": {
             "endlinecolor": "#2a3f5f",
             "gridcolor": "white",
             "linecolor": "white",
             "minorgridcolor": "white",
             "startlinecolor": "#2a3f5f"
            },
            "baxis": {
             "endlinecolor": "#2a3f5f",
             "gridcolor": "white",
             "linecolor": "white",
             "minorgridcolor": "white",
             "startlinecolor": "#2a3f5f"
            },
            "type": "carpet"
           }
          ],
          "choropleth": [
           {
            "colorbar": {
             "outlinewidth": 0,
             "ticks": ""
            },
            "type": "choropleth"
           }
          ],
          "contour": [
           {
            "colorbar": {
             "outlinewidth": 0,
             "ticks": ""
            },
            "colorscale": [
             [
              0,
              "#0d0887"
             ],
             [
              0.1111111111111111,
              "#46039f"
             ],
             [
              0.2222222222222222,
              "#7201a8"
             ],
             [
              0.3333333333333333,
              "#9c179e"
             ],
             [
              0.4444444444444444,
              "#bd3786"
             ],
             [
              0.5555555555555556,
              "#d8576b"
             ],
             [
              0.6666666666666666,
              "#ed7953"
             ],
             [
              0.7777777777777778,
              "#fb9f3a"
             ],
             [
              0.8888888888888888,
              "#fdca26"
             ],
             [
              1,
              "#f0f921"
             ]
            ],
            "type": "contour"
           }
          ],
          "contourcarpet": [
           {
            "colorbar": {
             "outlinewidth": 0,
             "ticks": ""
            },
            "type": "contourcarpet"
           }
          ],
          "heatmap": [
           {
            "colorbar": {
             "outlinewidth": 0,
             "ticks": ""
            },
            "colorscale": [
             [
              0,
              "#0d0887"
             ],
             [
              0.1111111111111111,
              "#46039f"
             ],
             [
              0.2222222222222222,
              "#7201a8"
             ],
             [
              0.3333333333333333,
              "#9c179e"
             ],
             [
              0.4444444444444444,
              "#bd3786"
             ],
             [
              0.5555555555555556,
              "#d8576b"
             ],
             [
              0.6666666666666666,
              "#ed7953"
             ],
             [
              0.7777777777777778,
              "#fb9f3a"
             ],
             [
              0.8888888888888888,
              "#fdca26"
             ],
             [
              1,
              "#f0f921"
             ]
            ],
            "type": "heatmap"
           }
          ],
          "heatmapgl": [
           {
            "colorbar": {
             "outlinewidth": 0,
             "ticks": ""
            },
            "colorscale": [
             [
              0,
              "#0d0887"
             ],
             [
              0.1111111111111111,
              "#46039f"
             ],
             [
              0.2222222222222222,
              "#7201a8"
             ],
             [
              0.3333333333333333,
              "#9c179e"
             ],
             [
              0.4444444444444444,
              "#bd3786"
             ],
             [
              0.5555555555555556,
              "#d8576b"
             ],
             [
              0.6666666666666666,
              "#ed7953"
             ],
             [
              0.7777777777777778,
              "#fb9f3a"
             ],
             [
              0.8888888888888888,
              "#fdca26"
             ],
             [
              1,
              "#f0f921"
             ]
            ],
            "type": "heatmapgl"
           }
          ],
          "histogram": [
           {
            "marker": {
             "pattern": {
              "fillmode": "overlay",
              "size": 10,
              "solidity": 0.2
             }
            },
            "type": "histogram"
           }
          ],
          "histogram2d": [
           {
            "colorbar": {
             "outlinewidth": 0,
             "ticks": ""
            },
            "colorscale": [
             [
              0,
              "#0d0887"
             ],
             [
              0.1111111111111111,
              "#46039f"
             ],
             [
              0.2222222222222222,
              "#7201a8"
             ],
             [
              0.3333333333333333,
              "#9c179e"
             ],
             [
              0.4444444444444444,
              "#bd3786"
             ],
             [
              0.5555555555555556,
              "#d8576b"
             ],
             [
              0.6666666666666666,
              "#ed7953"
             ],
             [
              0.7777777777777778,
              "#fb9f3a"
             ],
             [
              0.8888888888888888,
              "#fdca26"
             ],
             [
              1,
              "#f0f921"
             ]
            ],
            "type": "histogram2d"
           }
          ],
          "histogram2dcontour": [
           {
            "colorbar": {
             "outlinewidth": 0,
             "ticks": ""
            },
            "colorscale": [
             [
              0,
              "#0d0887"
             ],
             [
              0.1111111111111111,
              "#46039f"
             ],
             [
              0.2222222222222222,
              "#7201a8"
             ],
             [
              0.3333333333333333,
              "#9c179e"
             ],
             [
              0.4444444444444444,
              "#bd3786"
             ],
             [
              0.5555555555555556,
              "#d8576b"
             ],
             [
              0.6666666666666666,
              "#ed7953"
             ],
             [
              0.7777777777777778,
              "#fb9f3a"
             ],
             [
              0.8888888888888888,
              "#fdca26"
             ],
             [
              1,
              "#f0f921"
             ]
            ],
            "type": "histogram2dcontour"
           }
          ],
          "mesh3d": [
           {
            "colorbar": {
             "outlinewidth": 0,
             "ticks": ""
            },
            "type": "mesh3d"
           }
          ],
          "parcoords": [
           {
            "line": {
             "colorbar": {
              "outlinewidth": 0,
              "ticks": ""
             }
            },
            "type": "parcoords"
           }
          ],
          "pie": [
           {
            "automargin": true,
            "type": "pie"
           }
          ],
          "scatter": [
           {
            "fillpattern": {
             "fillmode": "overlay",
             "size": 10,
             "solidity": 0.2
            },
            "type": "scatter"
           }
          ],
          "scatter3d": [
           {
            "line": {
             "colorbar": {
              "outlinewidth": 0,
              "ticks": ""
             }
            },
            "marker": {
             "colorbar": {
              "outlinewidth": 0,
              "ticks": ""
             }
            },
            "type": "scatter3d"
           }
          ],
          "scattercarpet": [
           {
            "marker": {
             "colorbar": {
              "outlinewidth": 0,
              "ticks": ""
             }
            },
            "type": "scattercarpet"
           }
          ],
          "scattergeo": [
           {
            "marker": {
             "colorbar": {
              "outlinewidth": 0,
              "ticks": ""
             }
            },
            "type": "scattergeo"
           }
          ],
          "scattergl": [
           {
            "marker": {
             "colorbar": {
              "outlinewidth": 0,
              "ticks": ""
             }
            },
            "type": "scattergl"
           }
          ],
          "scattermapbox": [
           {
            "marker": {
             "colorbar": {
              "outlinewidth": 0,
              "ticks": ""
             }
            },
            "type": "scattermapbox"
           }
          ],
          "scatterpolar": [
           {
            "marker": {
             "colorbar": {
              "outlinewidth": 0,
              "ticks": ""
             }
            },
            "type": "scatterpolar"
           }
          ],
          "scatterpolargl": [
           {
            "marker": {
             "colorbar": {
              "outlinewidth": 0,
              "ticks": ""
             }
            },
            "type": "scatterpolargl"
           }
          ],
          "scatterternary": [
           {
            "marker": {
             "colorbar": {
              "outlinewidth": 0,
              "ticks": ""
             }
            },
            "type": "scatterternary"
           }
          ],
          "surface": [
           {
            "colorbar": {
             "outlinewidth": 0,
             "ticks": ""
            },
            "colorscale": [
             [
              0,
              "#0d0887"
             ],
             [
              0.1111111111111111,
              "#46039f"
             ],
             [
              0.2222222222222222,
              "#7201a8"
             ],
             [
              0.3333333333333333,
              "#9c179e"
             ],
             [
              0.4444444444444444,
              "#bd3786"
             ],
             [
              0.5555555555555556,
              "#d8576b"
             ],
             [
              0.6666666666666666,
              "#ed7953"
             ],
             [
              0.7777777777777778,
              "#fb9f3a"
             ],
             [
              0.8888888888888888,
              "#fdca26"
             ],
             [
              1,
              "#f0f921"
             ]
            ],
            "type": "surface"
           }
          ],
          "table": [
           {
            "cells": {
             "fill": {
              "color": "#EBF0F8"
             },
             "line": {
              "color": "white"
             }
            },
            "header": {
             "fill": {
              "color": "#C8D4E3"
             },
             "line": {
              "color": "white"
             }
            },
            "type": "table"
           }
          ]
         },
         "layout": {
          "annotationdefaults": {
           "arrowcolor": "#2a3f5f",
           "arrowhead": 0,
           "arrowwidth": 1
          },
          "autotypenumbers": "strict",
          "coloraxis": {
           "colorbar": {
            "outlinewidth": 0,
            "ticks": ""
           }
          },
          "colorscale": {
           "diverging": [
            [
             0,
             "#8e0152"
            ],
            [
             0.1,
             "#c51b7d"
            ],
            [
             0.2,
             "#de77ae"
            ],
            [
             0.3,
             "#f1b6da"
            ],
            [
             0.4,
             "#fde0ef"
            ],
            [
             0.5,
             "#f7f7f7"
            ],
            [
             0.6,
             "#e6f5d0"
            ],
            [
             0.7,
             "#b8e186"
            ],
            [
             0.8,
             "#7fbc41"
            ],
            [
             0.9,
             "#4d9221"
            ],
            [
             1,
             "#276419"
            ]
           ],
           "sequential": [
            [
             0,
             "#0d0887"
            ],
            [
             0.1111111111111111,
             "#46039f"
            ],
            [
             0.2222222222222222,
             "#7201a8"
            ],
            [
             0.3333333333333333,
             "#9c179e"
            ],
            [
             0.4444444444444444,
             "#bd3786"
            ],
            [
             0.5555555555555556,
             "#d8576b"
            ],
            [
             0.6666666666666666,
             "#ed7953"
            ],
            [
             0.7777777777777778,
             "#fb9f3a"
            ],
            [
             0.8888888888888888,
             "#fdca26"
            ],
            [
             1,
             "#f0f921"
            ]
           ],
           "sequentialminus": [
            [
             0,
             "#0d0887"
            ],
            [
             0.1111111111111111,
             "#46039f"
            ],
            [
             0.2222222222222222,
             "#7201a8"
            ],
            [
             0.3333333333333333,
             "#9c179e"
            ],
            [
             0.4444444444444444,
             "#bd3786"
            ],
            [
             0.5555555555555556,
             "#d8576b"
            ],
            [
             0.6666666666666666,
             "#ed7953"
            ],
            [
             0.7777777777777778,
             "#fb9f3a"
            ],
            [
             0.8888888888888888,
             "#fdca26"
            ],
            [
             1,
             "#f0f921"
            ]
           ]
          },
          "colorway": [
           "#636efa",
           "#EF553B",
           "#00cc96",
           "#ab63fa",
           "#FFA15A",
           "#19d3f3",
           "#FF6692",
           "#B6E880",
           "#FF97FF",
           "#FECB52"
          ],
          "font": {
           "color": "#2a3f5f"
          },
          "geo": {
           "bgcolor": "white",
           "lakecolor": "white",
           "landcolor": "#E5ECF6",
           "showlakes": true,
           "showland": true,
           "subunitcolor": "white"
          },
          "hoverlabel": {
           "align": "left"
          },
          "hovermode": "closest",
          "mapbox": {
           "style": "light"
          },
          "paper_bgcolor": "white",
          "plot_bgcolor": "#E5ECF6",
          "polar": {
           "angularaxis": {
            "gridcolor": "white",
            "linecolor": "white",
            "ticks": ""
           },
           "bgcolor": "#E5ECF6",
           "radialaxis": {
            "gridcolor": "white",
            "linecolor": "white",
            "ticks": ""
           }
          },
          "scene": {
           "xaxis": {
            "backgroundcolor": "#E5ECF6",
            "gridcolor": "white",
            "gridwidth": 2,
            "linecolor": "white",
            "showbackground": true,
            "ticks": "",
            "zerolinecolor": "white"
           },
           "yaxis": {
            "backgroundcolor": "#E5ECF6",
            "gridcolor": "white",
            "gridwidth": 2,
            "linecolor": "white",
            "showbackground": true,
            "ticks": "",
            "zerolinecolor": "white"
           },
           "zaxis": {
            "backgroundcolor": "#E5ECF6",
            "gridcolor": "white",
            "gridwidth": 2,
            "linecolor": "white",
            "showbackground": true,
            "ticks": "",
            "zerolinecolor": "white"
           }
          },
          "shapedefaults": {
           "line": {
            "color": "#2a3f5f"
           }
          },
          "ternary": {
           "aaxis": {
            "gridcolor": "white",
            "linecolor": "white",
            "ticks": ""
           },
           "baxis": {
            "gridcolor": "white",
            "linecolor": "white",
            "ticks": ""
           },
           "bgcolor": "#E5ECF6",
           "caxis": {
            "gridcolor": "white",
            "linecolor": "white",
            "ticks": ""
           }
          },
          "title": {
           "x": 0.05
          },
          "xaxis": {
           "automargin": true,
           "gridcolor": "white",
           "linecolor": "white",
           "ticks": "",
           "title": {
            "standoff": 15
           },
           "zerolinecolor": "white",
           "zerolinewidth": 2
          },
          "yaxis": {
           "automargin": true,
           "gridcolor": "white",
           "linecolor": "white",
           "ticks": "",
           "title": {
            "standoff": 15
           },
           "zerolinecolor": "white",
           "zerolinewidth": 2
          }
         }
        },
        "title": {
         "text": "Sales and Profit in 2014"
        },
        "xaxis": {
         "ticklen": 5,
         "title": {
          "text": "Order Date"
         }
        }
       }
      }
     },
     "metadata": {},
     "output_type": "display_data"
    }
   ],
   "source": [
    "trace1 = go.Scatter(x = dataprof_sales['Order Date'],\n",
    "                    y = dataprof_sales['Sales'],\n",
    "                    name = 'Sales',\n",
    "                    mode= 'lines',  # tambien puede ser markers y lines+markers\n",
    "                    marker = dict(color = 'blue'),\n",
    "                    \n",
    "                )\n",
    "\n",
    "trace2 = go.Scatter(x = dataprof_sales['Order Date'],\n",
    "                    y = dataprof_sales['Profit'],\n",
    "                    name = 'Profit',\n",
    "                    mode= 'lines',  # tambien puede ser markers y lines+markers\n",
    "                    marker = dict(color = 'red'),\n",
    "                    \n",
    "                )\n",
    "\n",
    "data = [trace1, trace2]\n",
    "\n",
    "layout = dict(title= 'Sales and Profit in 2014',\n",
    "             xaxis= dict(title= 'Order Date',ticklen= 5) # El layout no es necesario poner, lo pone por defecto. \n",
    "           )\n",
    "\n",
    "fig = go.Figure(data = data, layout=layout)\n",
    "\n",
    "fig"
   ]
  },
  {
   "attachments": {},
   "cell_type": "markdown",
   "metadata": {
    "id": "XeZgfB8Dimh3"
   },
   "source": [
    "## 3. Create a set of 3 interactive histograms showing the distributions of quantity per order for the following states: California, New York and Texas."
   ]
  },
  {
   "cell_type": "code",
   "execution_count": 98,
   "metadata": {},
   "outputs": [
    {
     "data": {
      "text/html": [
       "<div>\n",
       "<style scoped>\n",
       "    .dataframe tbody tr th:only-of-type {\n",
       "        vertical-align: middle;\n",
       "    }\n",
       "\n",
       "    .dataframe tbody tr th {\n",
       "        vertical-align: top;\n",
       "    }\n",
       "\n",
       "    .dataframe thead th {\n",
       "        text-align: right;\n",
       "    }\n",
       "</style>\n",
       "<table border=\"1\" class=\"dataframe\">\n",
       "  <thead>\n",
       "    <tr style=\"text-align: right;\">\n",
       "      <th></th>\n",
       "      <th>Order ID</th>\n",
       "      <th>Order Date</th>\n",
       "      <th>Ship Date</th>\n",
       "      <th>Ship Mode</th>\n",
       "      <th>Customer ID</th>\n",
       "      <th>Customer Name</th>\n",
       "      <th>Segment</th>\n",
       "      <th>Country</th>\n",
       "      <th>City</th>\n",
       "      <th>State</th>\n",
       "      <th>Postal Code</th>\n",
       "      <th>Region</th>\n",
       "      <th>Product ID</th>\n",
       "      <th>Category</th>\n",
       "      <th>Sub-Category</th>\n",
       "      <th>Product Name</th>\n",
       "      <th>Sales</th>\n",
       "      <th>Quantity</th>\n",
       "      <th>Discount</th>\n",
       "      <th>Profit</th>\n",
       "    </tr>\n",
       "  </thead>\n",
       "  <tbody>\n",
       "    <tr>\n",
       "      <th>0</th>\n",
       "      <td>CA-2016-152156</td>\n",
       "      <td>2016-11-08</td>\n",
       "      <td>11/11/2016</td>\n",
       "      <td>Second Class</td>\n",
       "      <td>CG-12520</td>\n",
       "      <td>Claire Gute</td>\n",
       "      <td>Consumer</td>\n",
       "      <td>United States</td>\n",
       "      <td>Henderson</td>\n",
       "      <td>Kentucky</td>\n",
       "      <td>42420</td>\n",
       "      <td>South</td>\n",
       "      <td>FUR-BO-10001798</td>\n",
       "      <td>Furniture</td>\n",
       "      <td>Bookcases</td>\n",
       "      <td>Bush Somerset Collection Bookcase</td>\n",
       "      <td>261.96</td>\n",
       "      <td>2</td>\n",
       "      <td>0.0</td>\n",
       "      <td>41.9136</td>\n",
       "    </tr>\n",
       "  </tbody>\n",
       "</table>\n",
       "</div>"
      ],
      "text/plain": [
       "         Order ID Order Date   Ship Date     Ship Mode Customer ID  \\\n",
       "0  CA-2016-152156 2016-11-08  11/11/2016  Second Class    CG-12520   \n",
       "\n",
       "  Customer Name   Segment        Country       City     State  Postal Code  \\\n",
       "0   Claire Gute  Consumer  United States  Henderson  Kentucky        42420   \n",
       "\n",
       "  Region       Product ID   Category Sub-Category  \\\n",
       "0  South  FUR-BO-10001798  Furniture    Bookcases   \n",
       "\n",
       "                        Product Name   Sales  Quantity  Discount   Profit  \n",
       "0  Bush Somerset Collection Bookcase  261.96         2       0.0  41.9136  "
      ]
     },
     "execution_count": 98,
     "metadata": {},
     "output_type": "execute_result"
    }
   ],
   "source": [
    "df.head"
   ]
  },
  {
   "cell_type": "code",
   "execution_count": 132,
   "metadata": {},
   "outputs": [
    {
     "name": "stdout",
     "output_type": "stream",
     "text": [
      "<class 'pandas.core.frame.DataFrame'>\n",
      "RangeIndex: 9994 entries, 0 to 9993\n",
      "Data columns (total 20 columns):\n",
      " #   Column         Non-Null Count  Dtype         \n",
      "---  ------         --------------  -----         \n",
      " 0   Order ID       9994 non-null   object        \n",
      " 1   Order Date     9994 non-null   datetime64[ns]\n",
      " 2   Ship Date      9994 non-null   object        \n",
      " 3   Ship Mode      9994 non-null   object        \n",
      " 4   Customer ID    9994 non-null   object        \n",
      " 5   Customer Name  9994 non-null   object        \n",
      " 6   Segment        9994 non-null   object        \n",
      " 7   Country        9994 non-null   object        \n",
      " 8   City           9994 non-null   object        \n",
      " 9   State          9994 non-null   object        \n",
      " 10  Postal Code    9994 non-null   int64         \n",
      " 11  Region         9994 non-null   object        \n",
      " 12  Product ID     9994 non-null   object        \n",
      " 13  Category       9994 non-null   object        \n",
      " 14  Sub-Category   9994 non-null   object        \n",
      " 15  Product Name   9994 non-null   object        \n",
      " 16  Sales          9994 non-null   float64       \n",
      " 17  Quantity       9994 non-null   int64         \n",
      " 18  Discount       9994 non-null   float64       \n",
      " 19  Profit         9994 non-null   float64       \n",
      "dtypes: datetime64[ns](1), float64(3), int64(2), object(14)\n",
      "memory usage: 1.5+ MB\n"
     ]
    }
   ],
   "source": [
    "df.info()"
   ]
  },
  {
   "cell_type": "code",
   "execution_count": 133,
   "metadata": {},
   "outputs": [],
   "source": [
    "# estados = ['California', 'New York', 'Texas']\n",
    "# filtro = df[df['State'].isin(estados)]\n",
    "# filtro.Quantity.plot(kind=\"hist\")"
   ]
  },
  {
   "cell_type": "code",
   "execution_count": 134,
   "metadata": {},
   "outputs": [],
   "source": [
    "# df_quantity=df.groupby('State')[['Quantity']].value_counts()\n",
    "# df_quantity = df_quantity.reset_index()\n",
    "# df_quantity.head()"
   ]
  },
  {
   "cell_type": "code",
   "execution_count": 135,
   "metadata": {},
   "outputs": [],
   "source": [
    "# estados = ['California', 'New York', 'Texas']\n",
    "# filtro = df_quantity[df_quantity['State'].isin(estados)]\n",
    "# filtro"
   ]
  },
  {
   "cell_type": "code",
   "execution_count": 141,
   "metadata": {},
   "outputs": [
    {
     "data": {
      "text/html": [
       "<div>\n",
       "<style scoped>\n",
       "    .dataframe tbody tr th:only-of-type {\n",
       "        vertical-align: middle;\n",
       "    }\n",
       "\n",
       "    .dataframe tbody tr th {\n",
       "        vertical-align: top;\n",
       "    }\n",
       "\n",
       "    .dataframe thead th {\n",
       "        text-align: right;\n",
       "    }\n",
       "</style>\n",
       "<table border=\"1\" class=\"dataframe\">\n",
       "  <thead>\n",
       "    <tr style=\"text-align: right;\">\n",
       "      <th></th>\n",
       "      <th>Order ID</th>\n",
       "      <th>Order Date</th>\n",
       "      <th>Ship Date</th>\n",
       "      <th>Ship Mode</th>\n",
       "      <th>Customer ID</th>\n",
       "      <th>Customer Name</th>\n",
       "      <th>Segment</th>\n",
       "      <th>Country</th>\n",
       "      <th>City</th>\n",
       "      <th>State</th>\n",
       "      <th>Postal Code</th>\n",
       "      <th>Region</th>\n",
       "      <th>Product ID</th>\n",
       "      <th>Category</th>\n",
       "      <th>Sub-Category</th>\n",
       "      <th>Product Name</th>\n",
       "      <th>Sales</th>\n",
       "      <th>Quantity</th>\n",
       "      <th>Discount</th>\n",
       "      <th>Profit</th>\n",
       "    </tr>\n",
       "  </thead>\n",
       "  <tbody>\n",
       "    <tr>\n",
       "      <th>2</th>\n",
       "      <td>CA-2016-138688</td>\n",
       "      <td>2016-06-12</td>\n",
       "      <td>16/6/2016</td>\n",
       "      <td>Second Class</td>\n",
       "      <td>DV-13045</td>\n",
       "      <td>Darrin Van Huff</td>\n",
       "      <td>Corporate</td>\n",
       "      <td>United States</td>\n",
       "      <td>Los Angeles</td>\n",
       "      <td>California</td>\n",
       "      <td>90036</td>\n",
       "      <td>West</td>\n",
       "      <td>OFF-LA-10000240</td>\n",
       "      <td>Office Supplies</td>\n",
       "      <td>Labels</td>\n",
       "      <td>Self-Adhesive Address Labels for Typewriters b...</td>\n",
       "      <td>14.620</td>\n",
       "      <td>2</td>\n",
       "      <td>0.0</td>\n",
       "      <td>6.8714</td>\n",
       "    </tr>\n",
       "    <tr>\n",
       "      <th>5</th>\n",
       "      <td>CA-2014-115812</td>\n",
       "      <td>2014-06-09</td>\n",
       "      <td>14/6/2014</td>\n",
       "      <td>Standard Class</td>\n",
       "      <td>BH-11710</td>\n",
       "      <td>Brosina Hoffman</td>\n",
       "      <td>Consumer</td>\n",
       "      <td>United States</td>\n",
       "      <td>Los Angeles</td>\n",
       "      <td>California</td>\n",
       "      <td>90032</td>\n",
       "      <td>West</td>\n",
       "      <td>FUR-FU-10001487</td>\n",
       "      <td>Furniture</td>\n",
       "      <td>Furnishings</td>\n",
       "      <td>Eldon Expressions Wood and Plastic Desk Access...</td>\n",
       "      <td>48.860</td>\n",
       "      <td>7</td>\n",
       "      <td>0.0</td>\n",
       "      <td>14.1694</td>\n",
       "    </tr>\n",
       "    <tr>\n",
       "      <th>6</th>\n",
       "      <td>CA-2014-115812</td>\n",
       "      <td>2014-06-09</td>\n",
       "      <td>14/6/2014</td>\n",
       "      <td>Standard Class</td>\n",
       "      <td>BH-11710</td>\n",
       "      <td>Brosina Hoffman</td>\n",
       "      <td>Consumer</td>\n",
       "      <td>United States</td>\n",
       "      <td>Los Angeles</td>\n",
       "      <td>California</td>\n",
       "      <td>90032</td>\n",
       "      <td>West</td>\n",
       "      <td>OFF-AR-10002833</td>\n",
       "      <td>Office Supplies</td>\n",
       "      <td>Art</td>\n",
       "      <td>Newell 322</td>\n",
       "      <td>7.280</td>\n",
       "      <td>4</td>\n",
       "      <td>0.0</td>\n",
       "      <td>1.9656</td>\n",
       "    </tr>\n",
       "    <tr>\n",
       "      <th>7</th>\n",
       "      <td>CA-2014-115812</td>\n",
       "      <td>2014-06-09</td>\n",
       "      <td>14/6/2014</td>\n",
       "      <td>Standard Class</td>\n",
       "      <td>BH-11710</td>\n",
       "      <td>Brosina Hoffman</td>\n",
       "      <td>Consumer</td>\n",
       "      <td>United States</td>\n",
       "      <td>Los Angeles</td>\n",
       "      <td>California</td>\n",
       "      <td>90032</td>\n",
       "      <td>West</td>\n",
       "      <td>TEC-PH-10002275</td>\n",
       "      <td>Technology</td>\n",
       "      <td>Phones</td>\n",
       "      <td>Mitel 5320 IP Phone VoIP phone</td>\n",
       "      <td>907.152</td>\n",
       "      <td>6</td>\n",
       "      <td>0.2</td>\n",
       "      <td>90.7152</td>\n",
       "    </tr>\n",
       "    <tr>\n",
       "      <th>8</th>\n",
       "      <td>CA-2014-115812</td>\n",
       "      <td>2014-06-09</td>\n",
       "      <td>14/6/2014</td>\n",
       "      <td>Standard Class</td>\n",
       "      <td>BH-11710</td>\n",
       "      <td>Brosina Hoffman</td>\n",
       "      <td>Consumer</td>\n",
       "      <td>United States</td>\n",
       "      <td>Los Angeles</td>\n",
       "      <td>California</td>\n",
       "      <td>90032</td>\n",
       "      <td>West</td>\n",
       "      <td>OFF-BI-10003910</td>\n",
       "      <td>Office Supplies</td>\n",
       "      <td>Binders</td>\n",
       "      <td>DXL Angle-View Binders with Locking Rings by S...</td>\n",
       "      <td>18.504</td>\n",
       "      <td>3</td>\n",
       "      <td>0.2</td>\n",
       "      <td>5.7825</td>\n",
       "    </tr>\n",
       "  </tbody>\n",
       "</table>\n",
       "</div>"
      ],
      "text/plain": [
       "         Order ID Order Date  Ship Date       Ship Mode Customer ID  \\\n",
       "2  CA-2016-138688 2016-06-12  16/6/2016    Second Class    DV-13045   \n",
       "5  CA-2014-115812 2014-06-09  14/6/2014  Standard Class    BH-11710   \n",
       "6  CA-2014-115812 2014-06-09  14/6/2014  Standard Class    BH-11710   \n",
       "7  CA-2014-115812 2014-06-09  14/6/2014  Standard Class    BH-11710   \n",
       "8  CA-2014-115812 2014-06-09  14/6/2014  Standard Class    BH-11710   \n",
       "\n",
       "     Customer Name    Segment        Country         City       State  \\\n",
       "2  Darrin Van Huff  Corporate  United States  Los Angeles  California   \n",
       "5  Brosina Hoffman   Consumer  United States  Los Angeles  California   \n",
       "6  Brosina Hoffman   Consumer  United States  Los Angeles  California   \n",
       "7  Brosina Hoffman   Consumer  United States  Los Angeles  California   \n",
       "8  Brosina Hoffman   Consumer  United States  Los Angeles  California   \n",
       "\n",
       "   Postal Code Region       Product ID         Category Sub-Category  \\\n",
       "2        90036   West  OFF-LA-10000240  Office Supplies       Labels   \n",
       "5        90032   West  FUR-FU-10001487        Furniture  Furnishings   \n",
       "6        90032   West  OFF-AR-10002833  Office Supplies          Art   \n",
       "7        90032   West  TEC-PH-10002275       Technology       Phones   \n",
       "8        90032   West  OFF-BI-10003910  Office Supplies      Binders   \n",
       "\n",
       "                                        Product Name    Sales  Quantity  \\\n",
       "2  Self-Adhesive Address Labels for Typewriters b...   14.620         2   \n",
       "5  Eldon Expressions Wood and Plastic Desk Access...   48.860         7   \n",
       "6                                         Newell 322    7.280         4   \n",
       "7                     Mitel 5320 IP Phone VoIP phone  907.152         6   \n",
       "8  DXL Angle-View Binders with Locking Rings by S...   18.504         3   \n",
       "\n",
       "   Discount   Profit  \n",
       "2       0.0   6.8714  \n",
       "5       0.0  14.1694  \n",
       "6       0.0   1.9656  \n",
       "7       0.2  90.7152  \n",
       "8       0.2   5.7825  "
      ]
     },
     "execution_count": 141,
     "metadata": {},
     "output_type": "execute_result"
    }
   ],
   "source": [
    "estados = ['California', 'New York', 'Texas']\n",
    "filtro = df.loc[df.loc[:, 'State'].isin(estados)]\n",
    "filtro.head()"
   ]
  },
  {
   "cell_type": "code",
   "execution_count": 149,
   "metadata": {},
   "outputs": [
    {
     "data": {
      "application/vnd.plotly.v1+json": {
       "config": {
        "plotlyServerURL": "https://plot.ly"
       },
       "data": [
        {
         "marker": {
          "color": "blue"
         },
         "name": "California",
         "opacity": 0.6,
         "type": "histogram",
         "x": [
          2,
          7,
          4,
          6,
          3,
          5,
          9,
          4,
          2,
          3,
          4,
          2,
          3,
          2,
          2,
          6,
          3,
          4,
          5,
          1,
          3,
          2,
          1,
          3,
          2,
          3,
          3,
          1,
          4,
          2,
          3,
          6,
          14,
          3,
          3,
          3,
          7,
          7,
          4,
          6,
          1,
          3,
          2,
          7,
          8,
          7,
          4,
          6,
          3,
          2,
          2,
          1,
          13,
          2,
          4,
          7,
          3,
          3,
          2,
          1,
          5,
          2,
          6,
          1,
          1,
          2,
          4,
          2,
          3,
          3,
          4,
          7,
          3,
          5,
          3,
          5,
          7,
          1,
          9,
          1,
          13,
          2,
          8,
          5,
          4,
          1,
          2,
          3,
          2,
          4,
          6,
          7,
          5,
          6,
          3,
          2,
          5,
          5,
          8,
          4,
          2,
          9,
          3,
          2,
          3,
          2,
          1,
          3,
          2,
          2,
          2,
          4,
          5,
          3,
          7,
          3,
          14,
          4,
          2,
          4,
          2,
          3,
          5,
          8,
          5,
          3,
          5,
          4,
          2,
          7,
          1,
          5,
          3,
          3,
          2,
          10,
          4,
          3,
          4,
          9,
          3,
          3,
          4,
          1,
          2,
          2,
          2,
          4,
          5,
          1,
          2,
          2,
          2,
          7,
          4,
          3,
          4,
          4,
          2,
          2,
          2,
          6,
          2,
          2,
          4,
          3,
          12,
          6,
          7,
          3,
          3,
          2,
          2,
          2,
          4,
          2,
          2,
          4,
          2,
          2,
          2,
          3,
          5,
          3,
          4,
          5,
          2,
          3,
          12,
          1,
          4,
          2,
          4,
          7,
          3,
          1,
          9,
          2,
          5,
          4,
          3,
          1,
          3,
          3,
          2,
          1,
          2,
          2,
          3,
          2,
          4,
          1,
          2,
          1,
          1,
          3,
          5,
          4,
          4,
          8,
          3,
          4,
          4,
          9,
          8,
          2,
          1,
          2,
          6,
          12,
          3,
          3,
          1,
          6,
          4,
          5,
          3,
          5,
          1,
          2,
          2,
          2,
          7,
          3,
          2,
          3,
          2,
          6,
          8,
          5,
          4,
          3,
          8,
          3,
          5,
          3,
          1,
          2,
          5,
          2,
          4,
          3,
          3,
          2,
          5,
          5,
          14,
          2,
          3,
          3,
          4,
          4,
          7,
          3,
          7,
          3,
          3,
          5,
          2,
          2,
          4,
          6,
          2,
          8,
          9,
          7,
          2,
          3,
          4,
          2,
          6,
          3,
          5,
          3,
          1,
          2,
          3,
          5,
          3,
          5,
          1,
          4,
          3,
          2,
          2,
          2,
          7,
          5,
          3,
          2,
          2,
          3,
          3,
          3,
          1,
          3,
          2,
          7,
          5,
          6,
          2,
          2,
          1,
          5,
          14,
          2,
          3,
          2,
          5,
          8,
          2,
          9,
          2,
          2,
          4,
          6,
          3,
          9,
          5,
          5,
          7,
          7,
          7,
          3,
          2,
          3,
          2,
          3,
          5,
          2,
          1,
          4,
          3,
          3,
          2,
          1,
          4,
          3,
          3,
          2,
          3,
          5,
          8,
          3,
          6,
          3,
          4,
          5,
          7,
          2,
          2,
          4,
          6,
          5,
          2,
          4,
          6,
          3,
          5,
          2,
          13,
          3,
          4,
          3,
          9,
          3,
          4,
          3,
          5,
          3,
          7,
          3,
          6,
          2,
          1,
          3,
          3,
          5,
          4,
          3,
          4,
          2,
          1,
          7,
          3,
          1,
          6,
          1,
          3,
          3,
          2,
          3,
          1,
          13,
          2,
          4,
          4,
          1,
          4,
          2,
          2,
          1,
          7,
          2,
          2,
          2,
          1,
          3,
          2,
          5,
          5,
          6,
          3,
          3,
          3,
          2,
          7,
          2,
          1,
          3,
          7,
          2,
          1,
          3,
          5,
          2,
          5,
          6,
          2,
          2,
          3,
          6,
          7,
          5,
          1,
          3,
          1,
          5,
          4,
          9,
          4,
          4,
          2,
          2,
          2,
          2,
          6,
          9,
          7,
          10,
          5,
          3,
          8,
          5,
          2,
          3,
          2,
          1,
          8,
          2,
          5,
          2,
          5,
          7,
          4,
          3,
          6,
          3,
          2,
          1,
          2,
          4,
          5,
          8,
          3,
          6,
          4,
          6,
          3,
          4,
          1,
          1,
          3,
          1,
          2,
          3,
          6,
          2,
          13,
          2,
          5,
          3,
          1,
          4,
          3,
          9,
          5,
          7,
          3,
          2,
          5,
          2,
          2,
          6,
          3,
          11,
          2,
          2,
          3,
          5,
          5,
          2,
          1,
          5,
          3,
          2,
          4,
          2,
          14,
          4,
          7,
          3,
          3,
          6,
          5,
          3,
          3,
          1,
          3,
          5,
          4,
          3,
          7,
          3,
          4,
          1,
          8,
          2,
          7,
          4,
          2,
          3,
          2,
          5,
          2,
          2,
          2,
          1,
          9,
          1,
          7,
          3,
          14,
          5,
          4,
          4,
          2,
          2,
          5,
          2,
          1,
          4,
          5,
          7,
          4,
          3,
          3,
          2,
          2,
          8,
          2,
          10,
          2,
          2,
          2,
          2,
          8,
          2,
          3,
          2,
          2,
          5,
          4,
          5,
          2,
          5,
          3,
          9,
          2,
          3,
          1,
          4,
          8,
          1,
          2,
          8,
          5,
          8,
          5,
          9,
          6,
          3,
          1,
          2,
          7,
          3,
          8,
          5,
          6,
          3,
          5,
          5,
          1,
          3,
          2,
          3,
          5,
          2,
          9,
          3,
          4,
          4,
          4,
          3,
          9,
          3,
          5,
          5,
          3,
          2,
          2,
          6,
          2,
          2,
          9,
          2,
          4,
          2,
          2,
          2,
          8,
          7,
          4,
          2,
          3,
          2,
          9,
          1,
          2,
          5,
          1,
          2,
          2,
          2,
          7,
          6,
          2,
          6,
          5,
          2,
          8,
          4,
          4,
          4,
          5,
          2,
          2,
          6,
          7,
          2,
          4,
          4,
          2,
          2,
          1,
          1,
          2,
          2,
          1,
          5,
          12,
          2,
          1,
          1,
          2,
          8,
          2,
          2,
          1,
          5,
          1,
          4,
          2,
          3,
          3,
          5,
          2,
          4,
          2,
          5,
          3,
          3,
          2,
          5,
          2,
          2,
          2,
          6,
          6,
          7,
          6,
          1,
          3,
          4,
          2,
          2,
          2,
          6,
          5,
          1,
          5,
          4,
          2,
          9,
          1,
          7,
          2,
          4,
          3,
          2,
          6,
          8,
          14,
          5,
          5,
          2,
          3,
          3,
          3,
          3,
          9,
          4,
          5,
          1,
          3,
          11,
          5,
          4,
          5,
          4,
          6,
          3,
          3,
          9,
          6,
          5,
          7,
          3,
          2,
          3,
          3,
          5,
          2,
          2,
          3,
          7,
          8,
          5,
          7,
          7,
          3,
          1,
          4,
          2,
          7,
          2,
          5,
          9,
          2,
          5,
          3,
          8,
          2,
          4,
          3,
          3,
          2,
          9,
          1,
          3,
          4,
          3,
          2,
          7,
          4,
          3,
          3,
          4,
          2,
          3,
          3,
          2,
          3,
          3,
          6,
          6,
          2,
          4,
          4,
          2,
          5,
          3,
          5,
          3,
          3,
          4,
          3,
          2,
          2,
          6,
          2,
          5,
          2,
          1,
          3,
          5,
          2,
          5,
          4,
          2,
          2,
          5,
          7,
          2,
          12,
          3,
          2,
          3,
          3,
          3,
          9,
          6,
          2,
          2,
          5,
          7,
          2,
          3,
          3,
          1,
          1,
          3,
          4,
          3,
          2,
          2,
          3,
          3,
          3,
          3,
          3,
          5,
          3,
          2,
          2,
          7,
          5,
          6,
          3,
          3,
          7,
          2,
          2,
          3,
          2,
          3,
          3,
          8,
          6,
          3,
          5,
          3,
          6,
          1,
          3,
          4,
          3,
          2,
          5,
          4,
          1,
          5,
          3,
          2,
          3,
          7,
          7,
          2,
          7,
          6,
          3,
          3,
          3,
          2,
          1,
          3,
          3,
          3,
          4,
          3,
          3,
          4,
          1,
          2,
          10,
          3,
          3,
          4,
          5,
          2,
          4,
          2,
          3,
          3,
          3,
          3,
          4,
          9,
          5,
          2,
          4,
          1,
          5,
          3,
          5,
          2,
          2,
          2,
          7,
          3,
          1,
          1,
          1,
          2,
          2,
          3,
          3,
          4,
          1,
          5,
          1,
          2,
          3,
          3,
          2,
          2,
          3,
          4,
          3,
          1,
          8,
          3,
          4,
          9,
          5,
          4,
          3,
          5,
          5,
          6,
          5,
          4,
          2,
          3,
          1,
          3,
          8,
          2,
          2,
          2,
          4,
          4,
          2,
          3,
          2,
          2,
          2,
          2,
          2,
          7,
          3,
          3,
          3,
          5,
          5,
          3,
          3,
          2,
          2,
          5,
          1,
          7,
          1,
          3,
          2,
          2,
          3,
          2,
          6,
          5,
          4,
          5,
          4,
          7,
          4,
          2,
          3,
          2,
          4,
          5,
          6,
          3,
          4,
          3,
          2,
          6,
          2,
          5,
          1,
          2,
          2,
          3,
          6,
          3,
          3,
          2,
          5,
          12,
          5,
          5,
          1,
          3,
          4,
          1,
          3,
          1,
          3,
          5,
          6,
          5,
          3,
          5,
          3,
          6,
          8,
          3,
          3,
          3,
          3,
          1,
          2,
          4,
          2,
          2,
          4,
          4,
          2,
          5,
          6,
          4,
          12,
          2,
          1,
          3,
          7,
          6,
          3,
          2,
          5,
          9,
          2,
          5,
          3,
          2,
          2,
          4,
          4,
          2,
          5,
          3,
          6,
          3,
          5,
          5,
          2,
          5,
          1,
          2,
          6,
          2,
          2,
          2,
          3,
          2,
          1,
          2,
          4,
          3,
          7,
          7,
          3,
          5,
          4,
          1,
          3,
          4,
          3,
          3,
          4,
          7,
          1,
          1,
          3,
          1,
          3,
          1,
          4,
          4,
          7,
          1,
          2,
          1,
          2,
          2,
          4,
          2,
          3,
          2,
          1,
          5,
          4,
          4,
          4,
          4,
          5,
          4,
          7,
          5,
          2,
          3,
          2,
          7,
          2,
          9,
          9,
          2,
          3,
          3,
          3,
          3,
          3,
          5,
          1,
          9,
          3,
          4,
          5,
          4,
          1,
          2,
          3,
          3,
          3,
          12,
          2,
          4,
          1,
          5,
          4,
          4,
          5,
          5,
          4,
          3,
          4,
          9,
          2,
          4,
          3,
          6,
          3,
          1,
          2,
          4,
          3,
          7,
          7,
          3,
          4,
          3,
          3,
          6,
          3,
          3,
          5,
          8,
          2,
          7,
          3,
          1,
          3,
          3,
          3,
          3,
          5,
          3,
          3,
          8,
          1,
          1,
          3,
          2,
          3,
          6,
          5,
          2,
          1,
          4,
          2,
          4,
          2,
          3,
          4,
          4,
          2,
          2,
          6,
          10,
          4,
          4,
          2,
          5,
          1,
          9,
          3,
          2,
          1,
          1,
          9,
          5,
          5,
          5,
          3,
          6,
          4,
          8,
          3,
          3,
          3,
          3,
          3,
          5,
          6,
          5,
          4,
          4,
          5,
          1,
          3,
          2,
          2,
          5,
          2,
          8,
          2,
          7,
          7,
          6,
          4,
          7,
          2,
          3,
          5,
          10,
          2,
          1,
          2,
          5,
          5,
          1,
          8,
          3,
          3,
          5,
          3,
          7,
          4,
          6,
          3,
          3,
          2,
          6,
          4,
          6,
          8,
          1,
          2,
          7,
          6,
          4,
          4,
          2,
          2,
          3,
          2,
          3,
          3,
          8,
          5,
          2,
          3,
          3,
          3,
          9,
          4,
          3,
          2,
          1,
          6,
          5,
          1,
          2,
          5,
          1,
          2,
          5,
          1,
          5,
          5,
          2,
          4,
          4,
          3,
          2,
          5,
          11,
          8,
          3,
          2,
          5,
          3,
          2,
          9,
          2,
          9,
          3,
          3,
          5,
          1,
          3,
          4,
          5,
          7,
          3,
          4,
          3,
          7,
          1,
          5,
          2,
          3,
          4,
          5,
          2,
          1,
          3,
          2,
          3,
          5,
          2,
          7,
          2,
          3,
          3,
          1,
          4,
          5,
          2,
          1,
          4,
          5,
          3,
          9,
          7,
          3,
          2,
          2,
          7,
          6,
          1,
          2,
          9,
          3,
          1,
          2,
          4,
          1,
          4,
          3,
          10,
          3,
          3,
          5,
          3,
          3,
          5,
          2,
          2,
          11,
          3,
          3,
          2,
          4,
          2,
          3,
          7,
          4,
          6,
          3,
          3,
          7,
          7,
          7,
          6,
          2,
          7,
          5,
          2,
          3,
          7,
          2,
          4,
          2,
          3,
          4,
          9,
          2,
          9,
          7,
          4,
          2,
          3,
          2,
          4,
          7,
          1,
          7,
          5,
          3,
          3,
          3,
          11,
          3,
          7,
          1,
          3,
          5,
          3,
          5,
          5,
          3,
          2,
          3,
          8,
          3,
          6,
          5,
          5,
          2,
          3,
          4,
          2,
          2,
          8,
          2,
          8,
          4,
          1,
          2,
          6,
          2,
          3,
          4,
          4,
          3,
          3,
          3,
          2,
          1,
          2,
          2,
          6,
          3,
          6,
          3,
          3,
          3,
          2,
          9,
          4,
          3,
          2,
          4,
          3,
          3,
          4,
          7,
          3,
          1,
          5,
          5,
          4,
          3,
          3,
          2,
          4,
          2,
          4,
          5,
          3,
          6,
          4,
          6,
          4,
          3,
          2,
          1,
          4,
          2,
          2,
          3,
          1,
          3,
          3,
          3,
          2,
          2,
          2,
          8,
          5,
          3,
          3,
          3,
          3,
          2,
          2,
          2,
          2,
          2,
          4,
          2,
          2,
          5,
          2,
          3,
          8,
          3,
          2,
          2,
          2,
          3,
          2,
          3,
          9,
          3,
          8,
          2,
          10,
          4,
          5,
          4,
          5,
          3,
          1,
          4,
          1,
          5,
          12,
          6,
          7,
          1,
          3,
          5,
          2,
          9,
          5,
          3,
          2,
          3,
          6,
          2,
          2,
          3,
          3,
          2,
          7,
          7,
          6,
          3,
          5,
          2,
          3,
          11,
          2,
          2,
          2,
          4,
          3,
          3,
          7,
          3,
          3,
          4,
          4,
          7,
          5,
          6,
          7,
          3,
          3,
          7,
          1,
          6,
          4,
          5,
          2,
          6,
          2,
          5,
          2,
          8,
          3,
          4,
          3,
          5,
          3,
          2,
          4,
          9,
          6,
          3,
          4,
          2,
          5,
          3,
          2,
          1,
          6,
          6,
          2,
          3,
          2,
          4,
          4,
          5,
          2,
          2,
          2,
          2,
          2,
          2,
          3,
          3,
          2,
          3,
          2,
          7,
          2,
          3,
          2,
          5,
          3,
          4,
          3,
          2,
          5,
          5,
          4,
          3,
          3,
          2,
          1,
          5,
          2,
          3,
          7,
          3,
          5,
          5,
          4,
          2,
          7,
          2,
          5,
          2,
          5,
          1,
          4,
          3,
          3,
          3,
          3,
          6,
          5,
          2,
          2,
          2,
          1,
          2,
          2,
          5,
          5,
          4,
          4,
          3,
          2,
          3,
          3,
          2,
          6,
          2,
          5,
          2,
          11,
          3,
          2,
          9,
          9,
          3,
          3,
          3,
          4,
          7,
          8,
          5,
          2,
          5,
          2,
          3,
          3,
          1,
          2,
          7,
          5,
          5,
          5,
          3,
          3,
          2,
          5,
          5,
          5,
          3,
          2,
          2,
          4,
          2,
          2,
          7,
          3,
          4,
          4,
          6,
          3,
          2,
          5,
          7,
          5,
          7,
          1,
          5,
          2,
          4,
          1,
          3,
          2,
          1,
          3,
          3,
          3,
          3,
          3,
          4,
          2,
          1,
          1,
          5,
          2,
          5,
          6,
          1,
          8,
          3,
          2,
          3,
          5,
          7,
          4,
          3,
          9,
          9,
          3,
          4,
          7,
          3,
          1,
          6,
          1,
          2,
          5,
          3,
          1,
          2,
          1,
          2,
          2,
          4,
          6,
          8,
          2,
          3,
          4,
          5,
          1,
          6,
          3,
          5,
          3,
          7,
          8,
          2,
          7,
          2,
          5,
          6,
          5,
          3,
          3,
          2,
          2,
          3,
          6,
          3,
          2,
          3,
          1,
          6,
          6,
          8,
          3,
          6,
          1,
          3,
          4,
          2,
          2,
          3,
          2,
          3,
          5,
          3,
          2,
          3,
          3,
          4,
          9,
          2,
          2,
          2,
          8,
          9,
          2,
          6,
          5,
          9,
          2,
          3,
          3,
          2,
          3,
          3,
          7,
          3,
          5,
          4,
          2,
          9,
          3,
          6,
          8,
          2,
          1,
          6,
          6,
          2,
          3,
          4,
          3,
          2,
          3,
          3,
          3,
          2,
          3,
          2,
          8,
          2,
          6,
          5,
          3,
          5,
          2,
          2,
          5,
          5,
          6,
          7,
          3,
          3,
          4,
          3,
          4,
          5,
          2,
          1,
          3,
          8,
          2,
          4,
          5,
          5,
          5,
          2,
          4,
          2,
          2,
          3,
          2,
          7,
          3,
          3,
          5,
          3,
          2,
          3,
          3,
          3,
          5,
          2,
          4,
          7,
          2,
          14,
          9,
          5,
          2,
          1,
          3,
          2,
          5,
          7,
          2,
          2,
          7,
          4,
          14,
          1,
          2,
          2,
          4,
          2
         ],
         "xaxis": "x",
         "yaxis": "y"
        },
        {
         "marker": {
          "color": "red"
         },
         "name": "New York",
         "opacity": 0.6,
         "type": "histogram",
         "x": [
          7,
          5,
          6,
          5,
          5,
          2,
          2,
          4,
          1,
          1,
          7,
          2,
          1,
          4,
          6,
          8,
          3,
          5,
          6,
          4,
          3,
          3,
          5,
          2,
          1,
          2,
          6,
          4,
          1,
          1,
          2,
          1,
          4,
          4,
          6,
          2,
          4,
          5,
          2,
          3,
          2,
          8,
          4,
          2,
          3,
          1,
          3,
          3,
          3,
          6,
          3,
          3,
          4,
          1,
          3,
          5,
          5,
          2,
          2,
          5,
          3,
          5,
          4,
          6,
          2,
          7,
          4,
          7,
          3,
          2,
          2,
          9,
          1,
          3,
          7,
          10,
          2,
          8,
          5,
          3,
          2,
          4,
          2,
          4,
          5,
          8,
          1,
          6,
          2,
          3,
          8,
          2,
          3,
          3,
          2,
          3,
          7,
          2,
          7,
          9,
          3,
          4,
          4,
          2,
          3,
          2,
          10,
          2,
          2,
          7,
          3,
          5,
          2,
          5,
          3,
          8,
          4,
          7,
          3,
          3,
          1,
          5,
          2,
          2,
          3,
          2,
          4,
          3,
          3,
          7,
          3,
          6,
          5,
          3,
          2,
          7,
          7,
          3,
          2,
          3,
          5,
          5,
          2,
          3,
          2,
          2,
          3,
          4,
          2,
          8,
          1,
          2,
          7,
          1,
          3,
          5,
          2,
          3,
          3,
          4,
          6,
          1,
          3,
          7,
          7,
          2,
          4,
          3,
          1,
          1,
          4,
          3,
          2,
          2,
          2,
          4,
          3,
          4,
          6,
          9,
          13,
          2,
          3,
          3,
          2,
          4,
          3,
          2,
          3,
          8,
          3,
          5,
          4,
          2,
          4,
          1,
          2,
          2,
          2,
          4,
          7,
          2,
          6,
          3,
          7,
          2,
          4,
          1,
          6,
          3,
          6,
          7,
          1,
          4,
          5,
          3,
          2,
          9,
          2,
          2,
          3,
          2,
          5,
          3,
          3,
          4,
          13,
          2,
          1,
          5,
          4,
          2,
          9,
          2,
          2,
          5,
          5,
          4,
          8,
          4,
          2,
          3,
          1,
          1,
          8,
          3,
          6,
          2,
          4,
          1,
          3,
          7,
          4,
          2,
          5,
          2,
          2,
          2,
          1,
          1,
          8,
          3,
          6,
          5,
          3,
          2,
          3,
          4,
          4,
          5,
          5,
          3,
          2,
          4,
          2,
          1,
          3,
          3,
          9,
          2,
          3,
          5,
          2,
          7,
          3,
          4,
          5,
          5,
          8,
          4,
          1,
          1,
          1,
          1,
          1,
          1,
          4,
          5,
          1,
          7,
          4,
          5,
          3,
          1,
          2,
          4,
          4,
          7,
          4,
          3,
          7,
          4,
          1,
          7,
          9,
          4,
          2,
          2,
          5,
          7,
          5,
          6,
          3,
          3,
          8,
          8,
          1,
          6,
          3,
          5,
          2,
          1,
          1,
          3,
          4,
          4,
          7,
          2,
          1,
          2,
          8,
          7,
          1,
          2,
          7,
          3,
          3,
          1,
          4,
          4,
          8,
          5,
          1,
          4,
          3,
          3,
          4,
          11,
          2,
          6,
          9,
          2,
          3,
          3,
          4,
          1,
          1,
          4,
          3,
          2,
          5,
          11,
          3,
          5,
          2,
          4,
          5,
          4,
          3,
          1,
          1,
          1,
          3,
          2,
          3,
          4,
          1,
          5,
          2,
          11,
          3,
          1,
          3,
          3,
          6,
          4,
          2,
          3,
          3,
          5,
          2,
          2,
          2,
          3,
          2,
          5,
          1,
          3,
          3,
          2,
          1,
          5,
          3,
          3,
          3,
          11,
          6,
          5,
          2,
          3,
          3,
          3,
          3,
          4,
          3,
          3,
          5,
          4,
          2,
          3,
          7,
          5,
          2,
          14,
          3,
          7,
          2,
          4,
          5,
          3,
          2,
          10,
          3,
          3,
          3,
          4,
          1,
          1,
          3,
          4,
          9,
          3,
          2,
          3,
          3,
          3,
          2,
          6,
          6,
          2,
          9,
          3,
          3,
          3,
          2,
          2,
          1,
          7,
          2,
          4,
          2,
          5,
          8,
          7,
          2,
          3,
          3,
          10,
          3,
          2,
          2,
          3,
          3,
          2,
          3,
          3,
          3,
          3,
          2,
          3,
          4,
          3,
          3,
          3,
          1,
          2,
          6,
          7,
          4,
          7,
          2,
          2,
          2,
          2,
          9,
          2,
          3,
          7,
          2,
          3,
          3,
          3,
          3,
          3,
          3,
          9,
          2,
          2,
          2,
          5,
          7,
          6,
          2,
          5,
          4,
          2,
          3,
          11,
          1,
          3,
          2,
          7,
          5,
          2,
          5,
          3,
          2,
          3,
          9,
          4,
          3,
          3,
          4,
          2,
          2,
          1,
          3,
          3,
          1,
          4,
          3,
          3,
          1,
          3,
          3,
          6,
          3,
          5,
          3,
          3,
          2,
          5,
          2,
          6,
          5,
          4,
          2,
          3,
          3,
          1,
          3,
          7,
          9,
          9,
          7,
          4,
          2,
          1,
          3,
          9,
          7,
          4,
          3,
          5,
          6,
          8,
          1,
          3,
          1,
          3,
          3,
          2,
          2,
          1,
          2,
          5,
          1,
          3,
          5,
          5,
          6,
          2,
          4,
          1,
          8,
          5,
          3,
          2,
          2,
          1,
          5,
          4,
          5,
          6,
          2,
          5,
          1,
          4,
          1,
          2,
          1,
          13,
          3,
          6,
          5,
          2,
          3,
          2,
          6,
          2,
          3,
          2,
          3,
          2,
          5,
          4,
          3,
          3,
          6,
          5,
          2,
          5,
          5,
          6,
          7,
          1,
          3,
          3,
          3,
          2,
          7,
          3,
          3,
          9,
          3,
          5,
          10,
          3,
          9,
          4,
          3,
          2,
          3,
          4,
          3,
          4,
          9,
          4,
          4,
          1,
          2,
          2,
          4,
          5,
          7,
          2,
          4,
          6,
          5,
          3,
          2,
          2,
          4,
          2,
          5,
          2,
          1,
          2,
          2,
          2,
          5,
          2,
          5,
          4,
          3,
          6,
          2,
          3,
          3,
          3,
          2,
          9,
          2,
          4,
          2,
          1,
          3,
          2,
          11,
          2,
          5,
          3,
          3,
          4,
          3,
          6,
          14,
          3,
          2,
          3,
          6,
          6,
          9,
          3,
          8,
          4,
          3,
          4,
          1,
          1,
          3,
          4,
          5,
          4,
          2,
          4,
          5,
          1,
          2,
          1,
          1,
          2,
          2,
          4,
          3,
          3,
          2,
          2,
          6,
          4,
          1,
          2,
          5,
          5,
          3,
          2,
          5,
          3,
          1,
          7,
          2,
          6,
          4,
          5,
          3,
          5,
          3,
          3,
          4,
          3,
          10,
          4,
          9,
          2,
          4,
          14,
          3,
          6,
          3,
          3,
          1,
          5,
          1,
          3,
          2,
          3,
          2,
          4,
          9,
          3,
          4,
          7,
          1,
          7,
          12,
          2,
          5,
          4,
          3,
          5,
          7,
          3,
          3,
          4,
          3,
          2,
          5,
          2,
          1,
          7,
          6,
          4,
          2,
          3,
          2,
          3,
          3,
          3,
          3,
          2,
          3,
          2,
          3,
          6,
          2,
          5,
          9,
          6,
          2,
          2,
          4,
          2,
          2,
          5,
          2,
          3,
          3,
          3,
          3,
          3,
          8,
          3,
          2,
          2,
          2,
          5,
          2,
          3,
          8,
          2,
          2,
          3,
          3,
          1,
          5,
          5,
          2,
          3,
          2,
          2,
          3,
          2,
          6,
          2,
          3,
          4,
          2,
          3,
          2,
          4,
          6,
          3,
          6,
          3,
          4,
          3,
          3,
          6,
          2,
          3,
          2,
          5,
          9,
          1,
          3,
          2,
          2,
          3,
          4,
          6,
          4,
          3,
          2,
          3,
          1,
          3,
          1,
          2,
          2,
          5,
          3,
          4,
          3,
          5,
          3,
          3,
          1,
          3,
          3,
          2,
          4,
          5,
          5,
          8,
          1,
          3,
          2,
          1,
          1,
          4,
          5,
          7,
          3,
          5,
          2,
          4,
          3,
          2,
          3,
          2,
          8,
          5,
          9,
          6,
          2,
          6,
          9,
          6,
          4,
          5,
          2,
          3,
          4,
          2,
          2,
          2,
          3,
          2,
          3,
          3,
          7,
          8,
          7,
          2,
          1,
          2,
          5,
          4,
          5,
          3,
          2,
          3,
          4,
          2,
          3,
          3,
          2,
          6,
          2,
          2,
          2,
          2,
          7,
          13,
          2,
          2,
          3,
          2,
          4,
          2,
          2,
          4,
          3,
          5,
          2,
          2,
          4,
          6,
          2,
          2,
          4,
          3,
          2,
          6,
          2,
          3,
          3,
          3,
          2,
          2,
          4,
          1,
          3,
          9,
          2,
          2,
          7,
          1,
          3,
          4,
          3,
          2,
          4,
          2,
          3,
          11,
          6,
          4,
          2,
          1,
          3,
          5,
          1,
          7,
          1,
          3,
          7,
          6,
          3,
          4,
          8,
          2,
          2,
          4,
          2,
          5,
          3,
          1,
          7,
          2,
          6,
          4,
          5,
          2,
          2,
          6,
          1,
          9,
          2,
          6,
          9,
          1,
          6,
          5,
          2,
          3,
          6,
          2,
          2,
          2,
          2,
          1,
          2,
          5,
          9,
          1,
          7,
          2,
          9,
          14,
          7,
          2,
          2,
          3,
          1,
          5,
          5,
          1,
          2,
          2,
          3,
          6,
          3,
          3,
          6,
          3,
          1,
          4,
          4,
          3,
          1,
          4,
          3,
          3,
          13,
          3,
          2,
          2,
          1,
          1,
          2,
          3,
          2,
          3,
          2,
          5,
          7,
          3,
          1,
          2,
          7,
          2,
          1,
          1,
          3,
          1,
          8,
          2,
          4,
          3,
          5,
          4,
          7,
          5,
          4,
          2,
          10,
          4
         ],
         "xaxis": "x2",
         "yaxis": "y2"
        },
        {
         "marker": {
          "color": "green"
         },
         "name": "Texas",
         "opacity": 0.6,
         "type": "histogram",
         "x": [
          5,
          3,
          3,
          7,
          5,
          9,
          3,
          3,
          4,
          3,
          3,
          3,
          5,
          7,
          3,
          3,
          8,
          3,
          9,
          6,
          5,
          3,
          4,
          3,
          3,
          2,
          2,
          2,
          3,
          7,
          5,
          7,
          4,
          5,
          3,
          3,
          3,
          4,
          3,
          4,
          4,
          2,
          6,
          8,
          2,
          1,
          2,
          2,
          1,
          2,
          9,
          2,
          1,
          4,
          3,
          2,
          3,
          3,
          4,
          7,
          14,
          5,
          3,
          3,
          3,
          3,
          3,
          3,
          3,
          3,
          2,
          1,
          5,
          1,
          1,
          4,
          4,
          3,
          2,
          5,
          4,
          2,
          4,
          3,
          3,
          1,
          2,
          2,
          2,
          4,
          3,
          2,
          2,
          1,
          3,
          3,
          6,
          2,
          5,
          12,
          3,
          5,
          2,
          2,
          3,
          9,
          4,
          4,
          2,
          5,
          3,
          1,
          3,
          7,
          7,
          3,
          2,
          3,
          11,
          1,
          2,
          7,
          3,
          4,
          3,
          5,
          4,
          2,
          6,
          4,
          7,
          1,
          5,
          3,
          9,
          3,
          3,
          5,
          4,
          4,
          2,
          2,
          6,
          3,
          4,
          3,
          5,
          7,
          5,
          4,
          1,
          4,
          2,
          5,
          3,
          3,
          2,
          3,
          3,
          3,
          4,
          2,
          3,
          2,
          6,
          3,
          4,
          2,
          3,
          2,
          11,
          6,
          6,
          2,
          4,
          7,
          2,
          4,
          3,
          3,
          7,
          4,
          2,
          5,
          4,
          4,
          3,
          2,
          7,
          3,
          9,
          3,
          4,
          2,
          5,
          4,
          3,
          2,
          3,
          2,
          1,
          3,
          2,
          1,
          5,
          4,
          3,
          3,
          3,
          2,
          5,
          1,
          7,
          2,
          3,
          4,
          2,
          1,
          3,
          5,
          2,
          5,
          7,
          4,
          4,
          7,
          4,
          1,
          2,
          5,
          5,
          4,
          9,
          9,
          2,
          3,
          6,
          2,
          8,
          7,
          2,
          3,
          1,
          5,
          2,
          3,
          3,
          3,
          1,
          3,
          4,
          2,
          7,
          3,
          5,
          7,
          5,
          2,
          2,
          2,
          8,
          2,
          2,
          2,
          2,
          2,
          1,
          3,
          2,
          4,
          8,
          3,
          7,
          2,
          8,
          3,
          5,
          2,
          4,
          2,
          2,
          2,
          4,
          4,
          4,
          5,
          3,
          1,
          2,
          2,
          3,
          2,
          7,
          5,
          3,
          3,
          7,
          3,
          6,
          3,
          7,
          3,
          1,
          2,
          5,
          7,
          3,
          5,
          3,
          4,
          8,
          3,
          2,
          3,
          3,
          2,
          5,
          5,
          1,
          3,
          5,
          8,
          2,
          3,
          3,
          2,
          3,
          9,
          6,
          3,
          2,
          1,
          4,
          2,
          2,
          6,
          4,
          2,
          3,
          2,
          4,
          4,
          3,
          2,
          2,
          7,
          6,
          8,
          8,
          4,
          1,
          1,
          2,
          6,
          4,
          3,
          2,
          3,
          7,
          8,
          7,
          5,
          2,
          1,
          5,
          1,
          3,
          10,
          3,
          5,
          3,
          7,
          3,
          3,
          2,
          2,
          3,
          5,
          1,
          7,
          3,
          3,
          2,
          2,
          2,
          2,
          6,
          8,
          10,
          3,
          3,
          3,
          4,
          7,
          2,
          8,
          3,
          9,
          4,
          2,
          1,
          1,
          8,
          2,
          3,
          3,
          6,
          3,
          1,
          1,
          4,
          5,
          7,
          1,
          2,
          5,
          9,
          9,
          3,
          6,
          1,
          8,
          3,
          7,
          3,
          5,
          2,
          2,
          2,
          1,
          5,
          3,
          7,
          2,
          5,
          2,
          4,
          5,
          9,
          3,
          5,
          6,
          1,
          2,
          2,
          3,
          6,
          3,
          9,
          3,
          10,
          7,
          5,
          2,
          2,
          2,
          1,
          2,
          7,
          2,
          3,
          4,
          5,
          3,
          4,
          3,
          7,
          8,
          6,
          6,
          2,
          5,
          3,
          1,
          3,
          7,
          3,
          2,
          9,
          5,
          3,
          9,
          5,
          5,
          2,
          2,
          2,
          1,
          3,
          3,
          2,
          3,
          6,
          2,
          3,
          1,
          3,
          7,
          3,
          3,
          2,
          1,
          4,
          3,
          6,
          2,
          5,
          6,
          2,
          2,
          3,
          5,
          6,
          2,
          1,
          5,
          4,
          2,
          5,
          1,
          3,
          7,
          2,
          5,
          8,
          2,
          7,
          2,
          1,
          3,
          4,
          2,
          3,
          1,
          6,
          3,
          7,
          1,
          1,
          5,
          2,
          2,
          3,
          1,
          7,
          4,
          5,
          6,
          6,
          2,
          4,
          2,
          4,
          3,
          7,
          3,
          1,
          5,
          1,
          4,
          4,
          3,
          2,
          4,
          7,
          1,
          8,
          2,
          2,
          2,
          9,
          5,
          6,
          9,
          2,
          1,
          6,
          2,
          5,
          4,
          3,
          6,
          3,
          5,
          5,
          5,
          7,
          4,
          1,
          3,
          4,
          5,
          3,
          5,
          5,
          4,
          2,
          8,
          1,
          2,
          5,
          5,
          3,
          1,
          2,
          4,
          5,
          1,
          1,
          2,
          10,
          2,
          3,
          2,
          3,
          3,
          5,
          4,
          5,
          2,
          3,
          3,
          3,
          1,
          4,
          7,
          2,
          5,
          2,
          4,
          5,
          5,
          5,
          3,
          2,
          1,
          5,
          3,
          3,
          2,
          5,
          3,
          6,
          1,
          3,
          2,
          2,
          2,
          2,
          1,
          2,
          2,
          9,
          2,
          1,
          5,
          4,
          2,
          2,
          3,
          5,
          5,
          3,
          8,
          3,
          2,
          3,
          4,
          2,
          4,
          2,
          3,
          2,
          6,
          3,
          3,
          2,
          2,
          2,
          3,
          3,
          5,
          5,
          6,
          3,
          5,
          2,
          2,
          6,
          7,
          5,
          1,
          3,
          3,
          4,
          2,
          5,
          7,
          7,
          3,
          2,
          3,
          7,
          5,
          4,
          1,
          4,
          4,
          2,
          3,
          2,
          2,
          4,
          2,
          4,
          2,
          3,
          3,
          2,
          2,
          1,
          10,
          1,
          6,
          9,
          7,
          2,
          5,
          3,
          5,
          6,
          6,
          3,
          2,
          3,
          5,
          5,
          1,
          6,
          3,
          5,
          3,
          2,
          9,
          2,
          5,
          5,
          4,
          4,
          5,
          14,
          2,
          1,
          6,
          4,
          5,
          4,
          2,
          5,
          3,
          2,
          3,
          3,
          3,
          5,
          3,
          3,
          3,
          2,
          3,
          4,
          2,
          3,
          3,
          3,
          2,
          7,
          3,
          2,
          2,
          2,
          2,
          5,
          3,
          1,
          1,
          3,
          7,
          4,
          5,
          4,
          10,
          3,
          4,
          2,
          5,
          2,
          4,
          3,
          5,
          3,
          3,
          8,
          3,
          1,
          4,
          9,
          5,
          3,
          2,
          6,
          3,
          4,
          3,
          9,
          3,
          3,
          2,
          3,
          4,
          3,
          5,
          3,
          2,
          2,
          5,
          2,
          3,
          5,
          5,
          5,
          4,
          6,
          7,
          5,
          8,
          5,
          8,
          4,
          2,
          8,
          3,
          2,
          9,
          2,
          2,
          2,
          3,
          5,
          5,
          8,
          2,
          6,
          7,
          4,
          5,
          7,
          5,
          2,
          1,
          2,
          6,
          4,
          4,
          2,
          6,
          4,
          2,
          3,
          5,
          5,
          5,
          4,
          2,
          7,
          2,
          1,
          2,
          1,
          2,
          2,
          7,
          2,
          3,
          2,
          5,
          7,
          2,
          3,
          3,
          2,
          5,
          10,
          2,
          3,
          2,
          7,
          2,
          3,
          4,
          3,
          7,
          2,
          1,
          6,
          2,
          4,
          3,
          3,
          3,
          1,
          2,
          4,
          3,
          2,
          1,
          2,
          3,
          3,
          1,
          2,
          4,
          1,
          3,
          4,
          5,
          2,
          2,
          6,
          8,
          5,
          1,
          4,
          2,
          10,
          9,
          1,
          2,
          2,
          3,
          5,
          2,
          3,
          2,
          1,
          2,
          5,
          5,
          5,
          8,
          2,
          3,
          3,
          2,
          1,
          9,
          3,
          5,
          5,
          8,
          3,
          4,
          9,
          5,
          2,
          5,
          3,
          1,
          2,
          6,
          2,
          1,
          3,
          4,
          7,
          1,
          4,
          2,
          3,
          2,
          5,
          7,
          2,
          4,
          2
         ],
         "xaxis": "x3",
         "yaxis": "y3"
        }
       ],
       "layout": {
        "annotations": [
         {
          "font": {
           "size": 16
          },
          "showarrow": false,
          "text": "California",
          "x": 0.14444444444444446,
          "xanchor": "center",
          "xref": "paper",
          "y": 1,
          "yanchor": "bottom",
          "yref": "paper"
         },
         {
          "font": {
           "size": 16
          },
          "showarrow": false,
          "text": "New York",
          "x": 0.5,
          "xanchor": "center",
          "xref": "paper",
          "y": 1,
          "yanchor": "bottom",
          "yref": "paper"
         },
         {
          "font": {
           "size": 16
          },
          "showarrow": false,
          "text": "Texas",
          "x": 0.8555555555555556,
          "xanchor": "center",
          "xref": "paper",
          "y": 1,
          "yanchor": "bottom",
          "yref": "paper"
         }
        ],
        "height": 500,
        "template": {
         "data": {
          "bar": [
           {
            "error_x": {
             "color": "#2a3f5f"
            },
            "error_y": {
             "color": "#2a3f5f"
            },
            "marker": {
             "line": {
              "color": "#E5ECF6",
              "width": 0.5
             },
             "pattern": {
              "fillmode": "overlay",
              "size": 10,
              "solidity": 0.2
             }
            },
            "type": "bar"
           }
          ],
          "barpolar": [
           {
            "marker": {
             "line": {
              "color": "#E5ECF6",
              "width": 0.5
             },
             "pattern": {
              "fillmode": "overlay",
              "size": 10,
              "solidity": 0.2
             }
            },
            "type": "barpolar"
           }
          ],
          "carpet": [
           {
            "aaxis": {
             "endlinecolor": "#2a3f5f",
             "gridcolor": "white",
             "linecolor": "white",
             "minorgridcolor": "white",
             "startlinecolor": "#2a3f5f"
            },
            "baxis": {
             "endlinecolor": "#2a3f5f",
             "gridcolor": "white",
             "linecolor": "white",
             "minorgridcolor": "white",
             "startlinecolor": "#2a3f5f"
            },
            "type": "carpet"
           }
          ],
          "choropleth": [
           {
            "colorbar": {
             "outlinewidth": 0,
             "ticks": ""
            },
            "type": "choropleth"
           }
          ],
          "contour": [
           {
            "colorbar": {
             "outlinewidth": 0,
             "ticks": ""
            },
            "colorscale": [
             [
              0,
              "#0d0887"
             ],
             [
              0.1111111111111111,
              "#46039f"
             ],
             [
              0.2222222222222222,
              "#7201a8"
             ],
             [
              0.3333333333333333,
              "#9c179e"
             ],
             [
              0.4444444444444444,
              "#bd3786"
             ],
             [
              0.5555555555555556,
              "#d8576b"
             ],
             [
              0.6666666666666666,
              "#ed7953"
             ],
             [
              0.7777777777777778,
              "#fb9f3a"
             ],
             [
              0.8888888888888888,
              "#fdca26"
             ],
             [
              1,
              "#f0f921"
             ]
            ],
            "type": "contour"
           }
          ],
          "contourcarpet": [
           {
            "colorbar": {
             "outlinewidth": 0,
             "ticks": ""
            },
            "type": "contourcarpet"
           }
          ],
          "heatmap": [
           {
            "colorbar": {
             "outlinewidth": 0,
             "ticks": ""
            },
            "colorscale": [
             [
              0,
              "#0d0887"
             ],
             [
              0.1111111111111111,
              "#46039f"
             ],
             [
              0.2222222222222222,
              "#7201a8"
             ],
             [
              0.3333333333333333,
              "#9c179e"
             ],
             [
              0.4444444444444444,
              "#bd3786"
             ],
             [
              0.5555555555555556,
              "#d8576b"
             ],
             [
              0.6666666666666666,
              "#ed7953"
             ],
             [
              0.7777777777777778,
              "#fb9f3a"
             ],
             [
              0.8888888888888888,
              "#fdca26"
             ],
             [
              1,
              "#f0f921"
             ]
            ],
            "type": "heatmap"
           }
          ],
          "heatmapgl": [
           {
            "colorbar": {
             "outlinewidth": 0,
             "ticks": ""
            },
            "colorscale": [
             [
              0,
              "#0d0887"
             ],
             [
              0.1111111111111111,
              "#46039f"
             ],
             [
              0.2222222222222222,
              "#7201a8"
             ],
             [
              0.3333333333333333,
              "#9c179e"
             ],
             [
              0.4444444444444444,
              "#bd3786"
             ],
             [
              0.5555555555555556,
              "#d8576b"
             ],
             [
              0.6666666666666666,
              "#ed7953"
             ],
             [
              0.7777777777777778,
              "#fb9f3a"
             ],
             [
              0.8888888888888888,
              "#fdca26"
             ],
             [
              1,
              "#f0f921"
             ]
            ],
            "type": "heatmapgl"
           }
          ],
          "histogram": [
           {
            "marker": {
             "pattern": {
              "fillmode": "overlay",
              "size": 10,
              "solidity": 0.2
             }
            },
            "type": "histogram"
           }
          ],
          "histogram2d": [
           {
            "colorbar": {
             "outlinewidth": 0,
             "ticks": ""
            },
            "colorscale": [
             [
              0,
              "#0d0887"
             ],
             [
              0.1111111111111111,
              "#46039f"
             ],
             [
              0.2222222222222222,
              "#7201a8"
             ],
             [
              0.3333333333333333,
              "#9c179e"
             ],
             [
              0.4444444444444444,
              "#bd3786"
             ],
             [
              0.5555555555555556,
              "#d8576b"
             ],
             [
              0.6666666666666666,
              "#ed7953"
             ],
             [
              0.7777777777777778,
              "#fb9f3a"
             ],
             [
              0.8888888888888888,
              "#fdca26"
             ],
             [
              1,
              "#f0f921"
             ]
            ],
            "type": "histogram2d"
           }
          ],
          "histogram2dcontour": [
           {
            "colorbar": {
             "outlinewidth": 0,
             "ticks": ""
            },
            "colorscale": [
             [
              0,
              "#0d0887"
             ],
             [
              0.1111111111111111,
              "#46039f"
             ],
             [
              0.2222222222222222,
              "#7201a8"
             ],
             [
              0.3333333333333333,
              "#9c179e"
             ],
             [
              0.4444444444444444,
              "#bd3786"
             ],
             [
              0.5555555555555556,
              "#d8576b"
             ],
             [
              0.6666666666666666,
              "#ed7953"
             ],
             [
              0.7777777777777778,
              "#fb9f3a"
             ],
             [
              0.8888888888888888,
              "#fdca26"
             ],
             [
              1,
              "#f0f921"
             ]
            ],
            "type": "histogram2dcontour"
           }
          ],
          "mesh3d": [
           {
            "colorbar": {
             "outlinewidth": 0,
             "ticks": ""
            },
            "type": "mesh3d"
           }
          ],
          "parcoords": [
           {
            "line": {
             "colorbar": {
              "outlinewidth": 0,
              "ticks": ""
             }
            },
            "type": "parcoords"
           }
          ],
          "pie": [
           {
            "automargin": true,
            "type": "pie"
           }
          ],
          "scatter": [
           {
            "fillpattern": {
             "fillmode": "overlay",
             "size": 10,
             "solidity": 0.2
            },
            "type": "scatter"
           }
          ],
          "scatter3d": [
           {
            "line": {
             "colorbar": {
              "outlinewidth": 0,
              "ticks": ""
             }
            },
            "marker": {
             "colorbar": {
              "outlinewidth": 0,
              "ticks": ""
             }
            },
            "type": "scatter3d"
           }
          ],
          "scattercarpet": [
           {
            "marker": {
             "colorbar": {
              "outlinewidth": 0,
              "ticks": ""
             }
            },
            "type": "scattercarpet"
           }
          ],
          "scattergeo": [
           {
            "marker": {
             "colorbar": {
              "outlinewidth": 0,
              "ticks": ""
             }
            },
            "type": "scattergeo"
           }
          ],
          "scattergl": [
           {
            "marker": {
             "colorbar": {
              "outlinewidth": 0,
              "ticks": ""
             }
            },
            "type": "scattergl"
           }
          ],
          "scattermapbox": [
           {
            "marker": {
             "colorbar": {
              "outlinewidth": 0,
              "ticks": ""
             }
            },
            "type": "scattermapbox"
           }
          ],
          "scatterpolar": [
           {
            "marker": {
             "colorbar": {
              "outlinewidth": 0,
              "ticks": ""
             }
            },
            "type": "scatterpolar"
           }
          ],
          "scatterpolargl": [
           {
            "marker": {
             "colorbar": {
              "outlinewidth": 0,
              "ticks": ""
             }
            },
            "type": "scatterpolargl"
           }
          ],
          "scatterternary": [
           {
            "marker": {
             "colorbar": {
              "outlinewidth": 0,
              "ticks": ""
             }
            },
            "type": "scatterternary"
           }
          ],
          "surface": [
           {
            "colorbar": {
             "outlinewidth": 0,
             "ticks": ""
            },
            "colorscale": [
             [
              0,
              "#0d0887"
             ],
             [
              0.1111111111111111,
              "#46039f"
             ],
             [
              0.2222222222222222,
              "#7201a8"
             ],
             [
              0.3333333333333333,
              "#9c179e"
             ],
             [
              0.4444444444444444,
              "#bd3786"
             ],
             [
              0.5555555555555556,
              "#d8576b"
             ],
             [
              0.6666666666666666,
              "#ed7953"
             ],
             [
              0.7777777777777778,
              "#fb9f3a"
             ],
             [
              0.8888888888888888,
              "#fdca26"
             ],
             [
              1,
              "#f0f921"
             ]
            ],
            "type": "surface"
           }
          ],
          "table": [
           {
            "cells": {
             "fill": {
              "color": "#EBF0F8"
             },
             "line": {
              "color": "white"
             }
            },
            "header": {
             "fill": {
              "color": "#C8D4E3"
             },
             "line": {
              "color": "white"
             }
            },
            "type": "table"
           }
          ]
         },
         "layout": {
          "annotationdefaults": {
           "arrowcolor": "#2a3f5f",
           "arrowhead": 0,
           "arrowwidth": 1
          },
          "autotypenumbers": "strict",
          "coloraxis": {
           "colorbar": {
            "outlinewidth": 0,
            "ticks": ""
           }
          },
          "colorscale": {
           "diverging": [
            [
             0,
             "#8e0152"
            ],
            [
             0.1,
             "#c51b7d"
            ],
            [
             0.2,
             "#de77ae"
            ],
            [
             0.3,
             "#f1b6da"
            ],
            [
             0.4,
             "#fde0ef"
            ],
            [
             0.5,
             "#f7f7f7"
            ],
            [
             0.6,
             "#e6f5d0"
            ],
            [
             0.7,
             "#b8e186"
            ],
            [
             0.8,
             "#7fbc41"
            ],
            [
             0.9,
             "#4d9221"
            ],
            [
             1,
             "#276419"
            ]
           ],
           "sequential": [
            [
             0,
             "#0d0887"
            ],
            [
             0.1111111111111111,
             "#46039f"
            ],
            [
             0.2222222222222222,
             "#7201a8"
            ],
            [
             0.3333333333333333,
             "#9c179e"
            ],
            [
             0.4444444444444444,
             "#bd3786"
            ],
            [
             0.5555555555555556,
             "#d8576b"
            ],
            [
             0.6666666666666666,
             "#ed7953"
            ],
            [
             0.7777777777777778,
             "#fb9f3a"
            ],
            [
             0.8888888888888888,
             "#fdca26"
            ],
            [
             1,
             "#f0f921"
            ]
           ],
           "sequentialminus": [
            [
             0,
             "#0d0887"
            ],
            [
             0.1111111111111111,
             "#46039f"
            ],
            [
             0.2222222222222222,
             "#7201a8"
            ],
            [
             0.3333333333333333,
             "#9c179e"
            ],
            [
             0.4444444444444444,
             "#bd3786"
            ],
            [
             0.5555555555555556,
             "#d8576b"
            ],
            [
             0.6666666666666666,
             "#ed7953"
            ],
            [
             0.7777777777777778,
             "#fb9f3a"
            ],
            [
             0.8888888888888888,
             "#fdca26"
            ],
            [
             1,
             "#f0f921"
            ]
           ]
          },
          "colorway": [
           "#636efa",
           "#EF553B",
           "#00cc96",
           "#ab63fa",
           "#FFA15A",
           "#19d3f3",
           "#FF6692",
           "#B6E880",
           "#FF97FF",
           "#FECB52"
          ],
          "font": {
           "color": "#2a3f5f"
          },
          "geo": {
           "bgcolor": "white",
           "lakecolor": "white",
           "landcolor": "#E5ECF6",
           "showlakes": true,
           "showland": true,
           "subunitcolor": "white"
          },
          "hoverlabel": {
           "align": "left"
          },
          "hovermode": "closest",
          "mapbox": {
           "style": "light"
          },
          "paper_bgcolor": "white",
          "plot_bgcolor": "#E5ECF6",
          "polar": {
           "angularaxis": {
            "gridcolor": "white",
            "linecolor": "white",
            "ticks": ""
           },
           "bgcolor": "#E5ECF6",
           "radialaxis": {
            "gridcolor": "white",
            "linecolor": "white",
            "ticks": ""
           }
          },
          "scene": {
           "xaxis": {
            "backgroundcolor": "#E5ECF6",
            "gridcolor": "white",
            "gridwidth": 2,
            "linecolor": "white",
            "showbackground": true,
            "ticks": "",
            "zerolinecolor": "white"
           },
           "yaxis": {
            "backgroundcolor": "#E5ECF6",
            "gridcolor": "white",
            "gridwidth": 2,
            "linecolor": "white",
            "showbackground": true,
            "ticks": "",
            "zerolinecolor": "white"
           },
           "zaxis": {
            "backgroundcolor": "#E5ECF6",
            "gridcolor": "white",
            "gridwidth": 2,
            "linecolor": "white",
            "showbackground": true,
            "ticks": "",
            "zerolinecolor": "white"
           }
          },
          "shapedefaults": {
           "line": {
            "color": "#2a3f5f"
           }
          },
          "ternary": {
           "aaxis": {
            "gridcolor": "white",
            "linecolor": "white",
            "ticks": ""
           },
           "baxis": {
            "gridcolor": "white",
            "linecolor": "white",
            "ticks": ""
           },
           "bgcolor": "#E5ECF6",
           "caxis": {
            "gridcolor": "white",
            "linecolor": "white",
            "ticks": ""
           }
          },
          "title": {
           "x": 0.05
          },
          "xaxis": {
           "automargin": true,
           "gridcolor": "white",
           "linecolor": "white",
           "ticks": "",
           "title": {
            "standoff": 15
           },
           "zerolinecolor": "white",
           "zerolinewidth": 2
          },
          "yaxis": {
           "automargin": true,
           "gridcolor": "white",
           "linecolor": "white",
           "ticks": "",
           "title": {
            "standoff": 15
           },
           "zerolinecolor": "white",
           "zerolinewidth": 2
          }
         }
        },
        "title": {
         "text": "Distribución de Cantidad por Pedido - California, Nueva York y Texas"
        },
        "xaxis": {
         "anchor": "y",
         "domain": [
          0,
          0.2888888888888889
         ],
         "title": {
          "text": "Cantidad por Pedido"
         }
        },
        "xaxis2": {
         "anchor": "y2",
         "domain": [
          0.35555555555555557,
          0.6444444444444445
         ]
        },
        "xaxis3": {
         "anchor": "y3",
         "domain": [
          0.7111111111111111,
          1
         ]
        },
        "yaxis": {
         "anchor": "x",
         "domain": [
          0,
          1
         ],
         "title": {
          "text": "Frecuencia"
         }
        },
        "yaxis2": {
         "anchor": "x2",
         "domain": [
          0,
          1
         ]
        },
        "yaxis3": {
         "anchor": "x3",
         "domain": [
          0,
          1
         ]
        }
       }
      }
     },
     "metadata": {},
     "output_type": "display_data"
    }
   ],
   "source": [
    "california = filtro[filtro['State'] == 'California']['Quantity']\n",
    "ny = filtro[filtro['State'] == 'New York']['Quantity']\n",
    "texas = filtro[filtro['State'] == 'Texas']['Quantity']\n",
    "\n",
    "# Crear un subplot con 3 filas y 1 columna\n",
    "fig = make_subplots(rows=1, cols=3, \n",
    "                    subplot_titles=('California', 'New York', 'Texas'))\n",
    "\n",
    "fig.add_trace(\n",
    "    go.Histogram(\n",
    "        x=california,\n",
    "        opacity=0.6,\n",
    "        name='California',\n",
    "        marker=dict(color='blue')\n",
    "    ),\n",
    "    row=1, col=1\n",
    ")\n",
    "\n",
    "fig.add_trace(\n",
    "    go.Histogram(\n",
    "        x=ny,\n",
    "        opacity=0.6,\n",
    "        name='New York',\n",
    "        marker=dict(color='red')\n",
    "    ),\n",
    "    row=1, col=2\n",
    ")\n",
    "\n",
    "fig.add_trace(\n",
    "    go.Histogram(\n",
    "        x=texas,\n",
    "        opacity=0.6,\n",
    "        name='Texas',\n",
    "        marker=dict(color='green')\n",
    "    ),\n",
    "    row=1, col=3\n",
    ")\n",
    "\n",
    "fig.update_layout(\n",
    "    title='Distribución de Cantidad por Pedido - California, Nueva York y Texas',\n",
    "    xaxis=dict(title='Cantidad por Pedido'),\n",
    "    yaxis=dict(title='Frecuencia'),\n",
    "    height=500 \n",
    ")\n",
    "\n",
    "fig.show()"
   ]
  },
  {
   "attachments": {},
   "cell_type": "markdown",
   "metadata": {
    "id": "KRcREZg5imh7"
   },
   "source": [
    "## 4. Create an interactive stacked bar chart showing the revenue by state (bars) for each of the products categories for California, New York and Texas."
   ]
  },
  {
   "cell_type": "code",
   "execution_count": 155,
   "metadata": {},
   "outputs": [
    {
     "data": {
      "text/html": [
       "<div>\n",
       "<style scoped>\n",
       "    .dataframe tbody tr th:only-of-type {\n",
       "        vertical-align: middle;\n",
       "    }\n",
       "\n",
       "    .dataframe tbody tr th {\n",
       "        vertical-align: top;\n",
       "    }\n",
       "\n",
       "    .dataframe thead th {\n",
       "        text-align: right;\n",
       "    }\n",
       "</style>\n",
       "<table border=\"1\" class=\"dataframe\">\n",
       "  <thead>\n",
       "    <tr style=\"text-align: right;\">\n",
       "      <th></th>\n",
       "      <th>Order ID</th>\n",
       "      <th>Order Date</th>\n",
       "      <th>Ship Date</th>\n",
       "      <th>Ship Mode</th>\n",
       "      <th>Customer ID</th>\n",
       "      <th>Customer Name</th>\n",
       "      <th>Segment</th>\n",
       "      <th>Country</th>\n",
       "      <th>City</th>\n",
       "      <th>State</th>\n",
       "      <th>Postal Code</th>\n",
       "      <th>Region</th>\n",
       "      <th>Product ID</th>\n",
       "      <th>Category</th>\n",
       "      <th>Sub-Category</th>\n",
       "      <th>Product Name</th>\n",
       "      <th>Sales</th>\n",
       "      <th>Quantity</th>\n",
       "      <th>Discount</th>\n",
       "      <th>Profit</th>\n",
       "    </tr>\n",
       "  </thead>\n",
       "  <tbody>\n",
       "    <tr>\n",
       "      <th>2</th>\n",
       "      <td>CA-2016-138688</td>\n",
       "      <td>2016-06-12</td>\n",
       "      <td>16/6/2016</td>\n",
       "      <td>Second Class</td>\n",
       "      <td>DV-13045</td>\n",
       "      <td>Darrin Van Huff</td>\n",
       "      <td>Corporate</td>\n",
       "      <td>United States</td>\n",
       "      <td>Los Angeles</td>\n",
       "      <td>California</td>\n",
       "      <td>90036</td>\n",
       "      <td>West</td>\n",
       "      <td>OFF-LA-10000240</td>\n",
       "      <td>Office Supplies</td>\n",
       "      <td>Labels</td>\n",
       "      <td>Self-Adhesive Address Labels for Typewriters b...</td>\n",
       "      <td>14.62</td>\n",
       "      <td>2</td>\n",
       "      <td>0.0</td>\n",
       "      <td>6.8714</td>\n",
       "    </tr>\n",
       "  </tbody>\n",
       "</table>\n",
       "</div>"
      ],
      "text/plain": [
       "         Order ID Order Date  Ship Date     Ship Mode Customer ID  \\\n",
       "2  CA-2016-138688 2016-06-12  16/6/2016  Second Class    DV-13045   \n",
       "\n",
       "     Customer Name    Segment        Country         City       State  \\\n",
       "2  Darrin Van Huff  Corporate  United States  Los Angeles  California   \n",
       "\n",
       "   Postal Code Region       Product ID         Category Sub-Category  \\\n",
       "2        90036   West  OFF-LA-10000240  Office Supplies       Labels   \n",
       "\n",
       "                                        Product Name  Sales  Quantity  \\\n",
       "2  Self-Adhesive Address Labels for Typewriters b...  14.62         2   \n",
       "\n",
       "   Discount  Profit  \n",
       "2       0.0  6.8714  "
      ]
     },
     "execution_count": 155,
     "metadata": {},
     "output_type": "execute_result"
    }
   ],
   "source": [
    "filtro.head(1)"
   ]
  },
  {
   "cell_type": "code",
   "execution_count": 173,
   "metadata": {},
   "outputs": [
    {
     "data": {
      "text/html": [
       "<div>\n",
       "<style scoped>\n",
       "    .dataframe tbody tr th:only-of-type {\n",
       "        vertical-align: middle;\n",
       "    }\n",
       "\n",
       "    .dataframe tbody tr th {\n",
       "        vertical-align: top;\n",
       "    }\n",
       "\n",
       "    .dataframe thead th {\n",
       "        text-align: right;\n",
       "    }\n",
       "</style>\n",
       "<table border=\"1\" class=\"dataframe\">\n",
       "  <thead>\n",
       "    <tr style=\"text-align: right;\">\n",
       "      <th></th>\n",
       "      <th>State</th>\n",
       "      <th>Category</th>\n",
       "      <th>Sales</th>\n",
       "    </tr>\n",
       "  </thead>\n",
       "  <tbody>\n",
       "    <tr>\n",
       "      <th>0</th>\n",
       "      <td>California</td>\n",
       "      <td>Furniture</td>\n",
       "      <td>156064.6015</td>\n",
       "    </tr>\n",
       "    <tr>\n",
       "      <th>1</th>\n",
       "      <td>California</td>\n",
       "      <td>Office Supplies</td>\n",
       "      <td>142351.9480</td>\n",
       "    </tr>\n",
       "    <tr>\n",
       "      <th>2</th>\n",
       "      <td>California</td>\n",
       "      <td>Technology</td>\n",
       "      <td>159271.0820</td>\n",
       "    </tr>\n",
       "    <tr>\n",
       "      <th>3</th>\n",
       "      <td>New York</td>\n",
       "      <td>Furniture</td>\n",
       "      <td>93372.7290</td>\n",
       "    </tr>\n",
       "    <tr>\n",
       "      <th>4</th>\n",
       "      <td>New York</td>\n",
       "      <td>Office Supplies</td>\n",
       "      <td>90020.0420</td>\n",
       "    </tr>\n",
       "    <tr>\n",
       "      <th>5</th>\n",
       "      <td>New York</td>\n",
       "      <td>Technology</td>\n",
       "      <td>127483.5000</td>\n",
       "    </tr>\n",
       "    <tr>\n",
       "      <th>6</th>\n",
       "      <td>Texas</td>\n",
       "      <td>Furniture</td>\n",
       "      <td>60593.2918</td>\n",
       "    </tr>\n",
       "    <tr>\n",
       "      <th>7</th>\n",
       "      <td>Texas</td>\n",
       "      <td>Office Supplies</td>\n",
       "      <td>44490.5300</td>\n",
       "    </tr>\n",
       "    <tr>\n",
       "      <th>8</th>\n",
       "      <td>Texas</td>\n",
       "      <td>Technology</td>\n",
       "      <td>65104.2240</td>\n",
       "    </tr>\n",
       "  </tbody>\n",
       "</table>\n",
       "</div>"
      ],
      "text/plain": [
       "        State         Category        Sales\n",
       "0  California        Furniture  156064.6015\n",
       "1  California  Office Supplies  142351.9480\n",
       "2  California       Technology  159271.0820\n",
       "3    New York        Furniture   93372.7290\n",
       "4    New York  Office Supplies   90020.0420\n",
       "5    New York       Technology  127483.5000\n",
       "6       Texas        Furniture   60593.2918\n",
       "7       Texas  Office Supplies   44490.5300\n",
       "8       Texas       Technology   65104.2240"
      ]
     },
     "execution_count": 173,
     "metadata": {},
     "output_type": "execute_result"
    }
   ],
   "source": [
    "categorias=filtro.groupby(['State','Category'])[['Sales']].sum().reset_index()\n",
    "categorias"
   ]
  },
  {
   "cell_type": "code",
   "execution_count": 180,
   "metadata": {},
   "outputs": [
    {
     "data": {
      "application/vnd.plotly.v1+json": {
       "config": {
        "plotlyServerURL": "https://plot.ly"
       },
       "data": [
        {
         "alignmentgroup": "True",
         "hovertemplate": "State=California<br>Product Category=%{x}<br>Sales=%{y}<extra></extra>",
         "legendgroup": "California",
         "marker": {
          "color": "#636efa",
          "pattern": {
           "shape": ""
          }
         },
         "name": "California",
         "offsetgroup": "California",
         "orientation": "v",
         "showlegend": true,
         "textposition": "auto",
         "type": "bar",
         "x": [
          "Furniture",
          "Office Supplies",
          "Technology"
         ],
         "xaxis": "x",
         "y": [
          156064.6015,
          142351.948,
          159271.082
         ],
         "yaxis": "y"
        },
        {
         "alignmentgroup": "True",
         "hovertemplate": "State=New York<br>Product Category=%{x}<br>Sales=%{y}<extra></extra>",
         "legendgroup": "New York",
         "marker": {
          "color": "#EF553B",
          "pattern": {
           "shape": ""
          }
         },
         "name": "New York",
         "offsetgroup": "New York",
         "orientation": "v",
         "showlegend": true,
         "textposition": "auto",
         "type": "bar",
         "x": [
          "Furniture",
          "Office Supplies",
          "Technology"
         ],
         "xaxis": "x",
         "y": [
          93372.729,
          90020.042,
          127483.5
         ],
         "yaxis": "y"
        },
        {
         "alignmentgroup": "True",
         "hovertemplate": "State=Texas<br>Product Category=%{x}<br>Sales=%{y}<extra></extra>",
         "legendgroup": "Texas",
         "marker": {
          "color": "#00cc96",
          "pattern": {
           "shape": ""
          }
         },
         "name": "Texas",
         "offsetgroup": "Texas",
         "orientation": "v",
         "showlegend": true,
         "textposition": "auto",
         "type": "bar",
         "x": [
          "Furniture",
          "Office Supplies",
          "Technology"
         ],
         "xaxis": "x",
         "y": [
          60593.2918,
          44490.53,
          65104.224
         ],
         "yaxis": "y"
        }
       ],
       "layout": {
        "barmode": "relative",
        "legend": {
         "title": {
          "text": "State"
         },
         "tracegroupgap": 0
        },
        "template": {
         "data": {
          "bar": [
           {
            "error_x": {
             "color": "#2a3f5f"
            },
            "error_y": {
             "color": "#2a3f5f"
            },
            "marker": {
             "line": {
              "color": "#E5ECF6",
              "width": 0.5
             },
             "pattern": {
              "fillmode": "overlay",
              "size": 10,
              "solidity": 0.2
             }
            },
            "type": "bar"
           }
          ],
          "barpolar": [
           {
            "marker": {
             "line": {
              "color": "#E5ECF6",
              "width": 0.5
             },
             "pattern": {
              "fillmode": "overlay",
              "size": 10,
              "solidity": 0.2
             }
            },
            "type": "barpolar"
           }
          ],
          "carpet": [
           {
            "aaxis": {
             "endlinecolor": "#2a3f5f",
             "gridcolor": "white",
             "linecolor": "white",
             "minorgridcolor": "white",
             "startlinecolor": "#2a3f5f"
            },
            "baxis": {
             "endlinecolor": "#2a3f5f",
             "gridcolor": "white",
             "linecolor": "white",
             "minorgridcolor": "white",
             "startlinecolor": "#2a3f5f"
            },
            "type": "carpet"
           }
          ],
          "choropleth": [
           {
            "colorbar": {
             "outlinewidth": 0,
             "ticks": ""
            },
            "type": "choropleth"
           }
          ],
          "contour": [
           {
            "colorbar": {
             "outlinewidth": 0,
             "ticks": ""
            },
            "colorscale": [
             [
              0,
              "#0d0887"
             ],
             [
              0.1111111111111111,
              "#46039f"
             ],
             [
              0.2222222222222222,
              "#7201a8"
             ],
             [
              0.3333333333333333,
              "#9c179e"
             ],
             [
              0.4444444444444444,
              "#bd3786"
             ],
             [
              0.5555555555555556,
              "#d8576b"
             ],
             [
              0.6666666666666666,
              "#ed7953"
             ],
             [
              0.7777777777777778,
              "#fb9f3a"
             ],
             [
              0.8888888888888888,
              "#fdca26"
             ],
             [
              1,
              "#f0f921"
             ]
            ],
            "type": "contour"
           }
          ],
          "contourcarpet": [
           {
            "colorbar": {
             "outlinewidth": 0,
             "ticks": ""
            },
            "type": "contourcarpet"
           }
          ],
          "heatmap": [
           {
            "colorbar": {
             "outlinewidth": 0,
             "ticks": ""
            },
            "colorscale": [
             [
              0,
              "#0d0887"
             ],
             [
              0.1111111111111111,
              "#46039f"
             ],
             [
              0.2222222222222222,
              "#7201a8"
             ],
             [
              0.3333333333333333,
              "#9c179e"
             ],
             [
              0.4444444444444444,
              "#bd3786"
             ],
             [
              0.5555555555555556,
              "#d8576b"
             ],
             [
              0.6666666666666666,
              "#ed7953"
             ],
             [
              0.7777777777777778,
              "#fb9f3a"
             ],
             [
              0.8888888888888888,
              "#fdca26"
             ],
             [
              1,
              "#f0f921"
             ]
            ],
            "type": "heatmap"
           }
          ],
          "heatmapgl": [
           {
            "colorbar": {
             "outlinewidth": 0,
             "ticks": ""
            },
            "colorscale": [
             [
              0,
              "#0d0887"
             ],
             [
              0.1111111111111111,
              "#46039f"
             ],
             [
              0.2222222222222222,
              "#7201a8"
             ],
             [
              0.3333333333333333,
              "#9c179e"
             ],
             [
              0.4444444444444444,
              "#bd3786"
             ],
             [
              0.5555555555555556,
              "#d8576b"
             ],
             [
              0.6666666666666666,
              "#ed7953"
             ],
             [
              0.7777777777777778,
              "#fb9f3a"
             ],
             [
              0.8888888888888888,
              "#fdca26"
             ],
             [
              1,
              "#f0f921"
             ]
            ],
            "type": "heatmapgl"
           }
          ],
          "histogram": [
           {
            "marker": {
             "pattern": {
              "fillmode": "overlay",
              "size": 10,
              "solidity": 0.2
             }
            },
            "type": "histogram"
           }
          ],
          "histogram2d": [
           {
            "colorbar": {
             "outlinewidth": 0,
             "ticks": ""
            },
            "colorscale": [
             [
              0,
              "#0d0887"
             ],
             [
              0.1111111111111111,
              "#46039f"
             ],
             [
              0.2222222222222222,
              "#7201a8"
             ],
             [
              0.3333333333333333,
              "#9c179e"
             ],
             [
              0.4444444444444444,
              "#bd3786"
             ],
             [
              0.5555555555555556,
              "#d8576b"
             ],
             [
              0.6666666666666666,
              "#ed7953"
             ],
             [
              0.7777777777777778,
              "#fb9f3a"
             ],
             [
              0.8888888888888888,
              "#fdca26"
             ],
             [
              1,
              "#f0f921"
             ]
            ],
            "type": "histogram2d"
           }
          ],
          "histogram2dcontour": [
           {
            "colorbar": {
             "outlinewidth": 0,
             "ticks": ""
            },
            "colorscale": [
             [
              0,
              "#0d0887"
             ],
             [
              0.1111111111111111,
              "#46039f"
             ],
             [
              0.2222222222222222,
              "#7201a8"
             ],
             [
              0.3333333333333333,
              "#9c179e"
             ],
             [
              0.4444444444444444,
              "#bd3786"
             ],
             [
              0.5555555555555556,
              "#d8576b"
             ],
             [
              0.6666666666666666,
              "#ed7953"
             ],
             [
              0.7777777777777778,
              "#fb9f3a"
             ],
             [
              0.8888888888888888,
              "#fdca26"
             ],
             [
              1,
              "#f0f921"
             ]
            ],
            "type": "histogram2dcontour"
           }
          ],
          "mesh3d": [
           {
            "colorbar": {
             "outlinewidth": 0,
             "ticks": ""
            },
            "type": "mesh3d"
           }
          ],
          "parcoords": [
           {
            "line": {
             "colorbar": {
              "outlinewidth": 0,
              "ticks": ""
             }
            },
            "type": "parcoords"
           }
          ],
          "pie": [
           {
            "automargin": true,
            "type": "pie"
           }
          ],
          "scatter": [
           {
            "fillpattern": {
             "fillmode": "overlay",
             "size": 10,
             "solidity": 0.2
            },
            "type": "scatter"
           }
          ],
          "scatter3d": [
           {
            "line": {
             "colorbar": {
              "outlinewidth": 0,
              "ticks": ""
             }
            },
            "marker": {
             "colorbar": {
              "outlinewidth": 0,
              "ticks": ""
             }
            },
            "type": "scatter3d"
           }
          ],
          "scattercarpet": [
           {
            "marker": {
             "colorbar": {
              "outlinewidth": 0,
              "ticks": ""
             }
            },
            "type": "scattercarpet"
           }
          ],
          "scattergeo": [
           {
            "marker": {
             "colorbar": {
              "outlinewidth": 0,
              "ticks": ""
             }
            },
            "type": "scattergeo"
           }
          ],
          "scattergl": [
           {
            "marker": {
             "colorbar": {
              "outlinewidth": 0,
              "ticks": ""
             }
            },
            "type": "scattergl"
           }
          ],
          "scattermapbox": [
           {
            "marker": {
             "colorbar": {
              "outlinewidth": 0,
              "ticks": ""
             }
            },
            "type": "scattermapbox"
           }
          ],
          "scatterpolar": [
           {
            "marker": {
             "colorbar": {
              "outlinewidth": 0,
              "ticks": ""
             }
            },
            "type": "scatterpolar"
           }
          ],
          "scatterpolargl": [
           {
            "marker": {
             "colorbar": {
              "outlinewidth": 0,
              "ticks": ""
             }
            },
            "type": "scatterpolargl"
           }
          ],
          "scatterternary": [
           {
            "marker": {
             "colorbar": {
              "outlinewidth": 0,
              "ticks": ""
             }
            },
            "type": "scatterternary"
           }
          ],
          "surface": [
           {
            "colorbar": {
             "outlinewidth": 0,
             "ticks": ""
            },
            "colorscale": [
             [
              0,
              "#0d0887"
             ],
             [
              0.1111111111111111,
              "#46039f"
             ],
             [
              0.2222222222222222,
              "#7201a8"
             ],
             [
              0.3333333333333333,
              "#9c179e"
             ],
             [
              0.4444444444444444,
              "#bd3786"
             ],
             [
              0.5555555555555556,
              "#d8576b"
             ],
             [
              0.6666666666666666,
              "#ed7953"
             ],
             [
              0.7777777777777778,
              "#fb9f3a"
             ],
             [
              0.8888888888888888,
              "#fdca26"
             ],
             [
              1,
              "#f0f921"
             ]
            ],
            "type": "surface"
           }
          ],
          "table": [
           {
            "cells": {
             "fill": {
              "color": "#EBF0F8"
             },
             "line": {
              "color": "white"
             }
            },
            "header": {
             "fill": {
              "color": "#C8D4E3"
             },
             "line": {
              "color": "white"
             }
            },
            "type": "table"
           }
          ]
         },
         "layout": {
          "annotationdefaults": {
           "arrowcolor": "#2a3f5f",
           "arrowhead": 0,
           "arrowwidth": 1
          },
          "autotypenumbers": "strict",
          "coloraxis": {
           "colorbar": {
            "outlinewidth": 0,
            "ticks": ""
           }
          },
          "colorscale": {
           "diverging": [
            [
             0,
             "#8e0152"
            ],
            [
             0.1,
             "#c51b7d"
            ],
            [
             0.2,
             "#de77ae"
            ],
            [
             0.3,
             "#f1b6da"
            ],
            [
             0.4,
             "#fde0ef"
            ],
            [
             0.5,
             "#f7f7f7"
            ],
            [
             0.6,
             "#e6f5d0"
            ],
            [
             0.7,
             "#b8e186"
            ],
            [
             0.8,
             "#7fbc41"
            ],
            [
             0.9,
             "#4d9221"
            ],
            [
             1,
             "#276419"
            ]
           ],
           "sequential": [
            [
             0,
             "#0d0887"
            ],
            [
             0.1111111111111111,
             "#46039f"
            ],
            [
             0.2222222222222222,
             "#7201a8"
            ],
            [
             0.3333333333333333,
             "#9c179e"
            ],
            [
             0.4444444444444444,
             "#bd3786"
            ],
            [
             0.5555555555555556,
             "#d8576b"
            ],
            [
             0.6666666666666666,
             "#ed7953"
            ],
            [
             0.7777777777777778,
             "#fb9f3a"
            ],
            [
             0.8888888888888888,
             "#fdca26"
            ],
            [
             1,
             "#f0f921"
            ]
           ],
           "sequentialminus": [
            [
             0,
             "#0d0887"
            ],
            [
             0.1111111111111111,
             "#46039f"
            ],
            [
             0.2222222222222222,
             "#7201a8"
            ],
            [
             0.3333333333333333,
             "#9c179e"
            ],
            [
             0.4444444444444444,
             "#bd3786"
            ],
            [
             0.5555555555555556,
             "#d8576b"
            ],
            [
             0.6666666666666666,
             "#ed7953"
            ],
            [
             0.7777777777777778,
             "#fb9f3a"
            ],
            [
             0.8888888888888888,
             "#fdca26"
            ],
            [
             1,
             "#f0f921"
            ]
           ]
          },
          "colorway": [
           "#636efa",
           "#EF553B",
           "#00cc96",
           "#ab63fa",
           "#FFA15A",
           "#19d3f3",
           "#FF6692",
           "#B6E880",
           "#FF97FF",
           "#FECB52"
          ],
          "font": {
           "color": "#2a3f5f"
          },
          "geo": {
           "bgcolor": "white",
           "lakecolor": "white",
           "landcolor": "#E5ECF6",
           "showlakes": true,
           "showland": true,
           "subunitcolor": "white"
          },
          "hoverlabel": {
           "align": "left"
          },
          "hovermode": "closest",
          "mapbox": {
           "style": "light"
          },
          "paper_bgcolor": "white",
          "plot_bgcolor": "#E5ECF6",
          "polar": {
           "angularaxis": {
            "gridcolor": "white",
            "linecolor": "white",
            "ticks": ""
           },
           "bgcolor": "#E5ECF6",
           "radialaxis": {
            "gridcolor": "white",
            "linecolor": "white",
            "ticks": ""
           }
          },
          "scene": {
           "xaxis": {
            "backgroundcolor": "#E5ECF6",
            "gridcolor": "white",
            "gridwidth": 2,
            "linecolor": "white",
            "showbackground": true,
            "ticks": "",
            "zerolinecolor": "white"
           },
           "yaxis": {
            "backgroundcolor": "#E5ECF6",
            "gridcolor": "white",
            "gridwidth": 2,
            "linecolor": "white",
            "showbackground": true,
            "ticks": "",
            "zerolinecolor": "white"
           },
           "zaxis": {
            "backgroundcolor": "#E5ECF6",
            "gridcolor": "white",
            "gridwidth": 2,
            "linecolor": "white",
            "showbackground": true,
            "ticks": "",
            "zerolinecolor": "white"
           }
          },
          "shapedefaults": {
           "line": {
            "color": "#2a3f5f"
           }
          },
          "ternary": {
           "aaxis": {
            "gridcolor": "white",
            "linecolor": "white",
            "ticks": ""
           },
           "baxis": {
            "gridcolor": "white",
            "linecolor": "white",
            "ticks": ""
           },
           "bgcolor": "#E5ECF6",
           "caxis": {
            "gridcolor": "white",
            "linecolor": "white",
            "ticks": ""
           }
          },
          "title": {
           "x": 0.05
          },
          "xaxis": {
           "automargin": true,
           "gridcolor": "white",
           "linecolor": "white",
           "ticks": "",
           "title": {
            "standoff": 15
           },
           "zerolinecolor": "white",
           "zerolinewidth": 2
          },
          "yaxis": {
           "automargin": true,
           "gridcolor": "white",
           "linecolor": "white",
           "ticks": "",
           "title": {
            "standoff": 15
           },
           "zerolinecolor": "white",
           "zerolinewidth": 2
          }
         }
        },
        "title": {
         "text": "Revenue by State and Product Category"
        },
        "xaxis": {
         "anchor": "y",
         "domain": [
          0,
          1
         ],
         "title": {
          "text": "Product Category"
         }
        },
        "yaxis": {
         "anchor": "x",
         "domain": [
          0,
          1
         ],
         "title": {
          "text": "Sales"
         }
        }
       }
      }
     },
     "metadata": {},
     "output_type": "display_data"
    }
   ],
   "source": [
    "import plotly.express as px\n",
    "\n",
    "fig = px.bar(\n",
    "    categorias,\n",
    "    x='Category',             # Estados en el eje x\n",
    "    y='Sales',           # Ingresos en el eje y\n",
    "    color='State',      # Apilar por categoría\n",
    "    title='Revenue by State and Product Category',\n",
    "    labels={'Revenue': 'Sales', 'State': 'State', 'Category': 'Product Category'}\n",
    ")\n",
    "\n",
    "fig.show()"
   ]
  },
  {
   "attachments": {},
   "cell_type": "markdown",
   "metadata": {
    "id": "a1XDvjVAimiG"
   },
   "source": [
    "## 5. Create an interactive line chart showing sale by day for California."
   ]
  },
  {
   "cell_type": "code",
   "execution_count": 182,
   "metadata": {},
   "outputs": [
    {
     "data": {
      "text/html": [
       "<div>\n",
       "<style scoped>\n",
       "    .dataframe tbody tr th:only-of-type {\n",
       "        vertical-align: middle;\n",
       "    }\n",
       "\n",
       "    .dataframe tbody tr th {\n",
       "        vertical-align: top;\n",
       "    }\n",
       "\n",
       "    .dataframe thead th {\n",
       "        text-align: right;\n",
       "    }\n",
       "</style>\n",
       "<table border=\"1\" class=\"dataframe\">\n",
       "  <thead>\n",
       "    <tr style=\"text-align: right;\">\n",
       "      <th></th>\n",
       "      <th>Order ID</th>\n",
       "      <th>Order Date</th>\n",
       "      <th>Ship Date</th>\n",
       "      <th>Ship Mode</th>\n",
       "      <th>Customer ID</th>\n",
       "      <th>Customer Name</th>\n",
       "      <th>Segment</th>\n",
       "      <th>Country</th>\n",
       "      <th>City</th>\n",
       "      <th>State</th>\n",
       "      <th>Postal Code</th>\n",
       "      <th>Region</th>\n",
       "      <th>Product ID</th>\n",
       "      <th>Category</th>\n",
       "      <th>Sub-Category</th>\n",
       "      <th>Product Name</th>\n",
       "      <th>Sales</th>\n",
       "      <th>Quantity</th>\n",
       "      <th>Discount</th>\n",
       "      <th>Profit</th>\n",
       "    </tr>\n",
       "  </thead>\n",
       "  <tbody>\n",
       "    <tr>\n",
       "      <th>2</th>\n",
       "      <td>CA-2016-138688</td>\n",
       "      <td>2016-06-12</td>\n",
       "      <td>16/6/2016</td>\n",
       "      <td>Second Class</td>\n",
       "      <td>DV-13045</td>\n",
       "      <td>Darrin Van Huff</td>\n",
       "      <td>Corporate</td>\n",
       "      <td>United States</td>\n",
       "      <td>Los Angeles</td>\n",
       "      <td>California</td>\n",
       "      <td>90036</td>\n",
       "      <td>West</td>\n",
       "      <td>OFF-LA-10000240</td>\n",
       "      <td>Office Supplies</td>\n",
       "      <td>Labels</td>\n",
       "      <td>Self-Adhesive Address Labels for Typewriters b...</td>\n",
       "      <td>14.620</td>\n",
       "      <td>2</td>\n",
       "      <td>0.0</td>\n",
       "      <td>6.8714</td>\n",
       "    </tr>\n",
       "    <tr>\n",
       "      <th>5</th>\n",
       "      <td>CA-2014-115812</td>\n",
       "      <td>2014-06-09</td>\n",
       "      <td>14/6/2014</td>\n",
       "      <td>Standard Class</td>\n",
       "      <td>BH-11710</td>\n",
       "      <td>Brosina Hoffman</td>\n",
       "      <td>Consumer</td>\n",
       "      <td>United States</td>\n",
       "      <td>Los Angeles</td>\n",
       "      <td>California</td>\n",
       "      <td>90032</td>\n",
       "      <td>West</td>\n",
       "      <td>FUR-FU-10001487</td>\n",
       "      <td>Furniture</td>\n",
       "      <td>Furnishings</td>\n",
       "      <td>Eldon Expressions Wood and Plastic Desk Access...</td>\n",
       "      <td>48.860</td>\n",
       "      <td>7</td>\n",
       "      <td>0.0</td>\n",
       "      <td>14.1694</td>\n",
       "    </tr>\n",
       "    <tr>\n",
       "      <th>6</th>\n",
       "      <td>CA-2014-115812</td>\n",
       "      <td>2014-06-09</td>\n",
       "      <td>14/6/2014</td>\n",
       "      <td>Standard Class</td>\n",
       "      <td>BH-11710</td>\n",
       "      <td>Brosina Hoffman</td>\n",
       "      <td>Consumer</td>\n",
       "      <td>United States</td>\n",
       "      <td>Los Angeles</td>\n",
       "      <td>California</td>\n",
       "      <td>90032</td>\n",
       "      <td>West</td>\n",
       "      <td>OFF-AR-10002833</td>\n",
       "      <td>Office Supplies</td>\n",
       "      <td>Art</td>\n",
       "      <td>Newell 322</td>\n",
       "      <td>7.280</td>\n",
       "      <td>4</td>\n",
       "      <td>0.0</td>\n",
       "      <td>1.9656</td>\n",
       "    </tr>\n",
       "    <tr>\n",
       "      <th>7</th>\n",
       "      <td>CA-2014-115812</td>\n",
       "      <td>2014-06-09</td>\n",
       "      <td>14/6/2014</td>\n",
       "      <td>Standard Class</td>\n",
       "      <td>BH-11710</td>\n",
       "      <td>Brosina Hoffman</td>\n",
       "      <td>Consumer</td>\n",
       "      <td>United States</td>\n",
       "      <td>Los Angeles</td>\n",
       "      <td>California</td>\n",
       "      <td>90032</td>\n",
       "      <td>West</td>\n",
       "      <td>TEC-PH-10002275</td>\n",
       "      <td>Technology</td>\n",
       "      <td>Phones</td>\n",
       "      <td>Mitel 5320 IP Phone VoIP phone</td>\n",
       "      <td>907.152</td>\n",
       "      <td>6</td>\n",
       "      <td>0.2</td>\n",
       "      <td>90.7152</td>\n",
       "    </tr>\n",
       "    <tr>\n",
       "      <th>8</th>\n",
       "      <td>CA-2014-115812</td>\n",
       "      <td>2014-06-09</td>\n",
       "      <td>14/6/2014</td>\n",
       "      <td>Standard Class</td>\n",
       "      <td>BH-11710</td>\n",
       "      <td>Brosina Hoffman</td>\n",
       "      <td>Consumer</td>\n",
       "      <td>United States</td>\n",
       "      <td>Los Angeles</td>\n",
       "      <td>California</td>\n",
       "      <td>90032</td>\n",
       "      <td>West</td>\n",
       "      <td>OFF-BI-10003910</td>\n",
       "      <td>Office Supplies</td>\n",
       "      <td>Binders</td>\n",
       "      <td>DXL Angle-View Binders with Locking Rings by S...</td>\n",
       "      <td>18.504</td>\n",
       "      <td>3</td>\n",
       "      <td>0.2</td>\n",
       "      <td>5.7825</td>\n",
       "    </tr>\n",
       "  </tbody>\n",
       "</table>\n",
       "</div>"
      ],
      "text/plain": [
       "         Order ID Order Date  Ship Date       Ship Mode Customer ID  \\\n",
       "2  CA-2016-138688 2016-06-12  16/6/2016    Second Class    DV-13045   \n",
       "5  CA-2014-115812 2014-06-09  14/6/2014  Standard Class    BH-11710   \n",
       "6  CA-2014-115812 2014-06-09  14/6/2014  Standard Class    BH-11710   \n",
       "7  CA-2014-115812 2014-06-09  14/6/2014  Standard Class    BH-11710   \n",
       "8  CA-2014-115812 2014-06-09  14/6/2014  Standard Class    BH-11710   \n",
       "\n",
       "     Customer Name    Segment        Country         City       State  \\\n",
       "2  Darrin Van Huff  Corporate  United States  Los Angeles  California   \n",
       "5  Brosina Hoffman   Consumer  United States  Los Angeles  California   \n",
       "6  Brosina Hoffman   Consumer  United States  Los Angeles  California   \n",
       "7  Brosina Hoffman   Consumer  United States  Los Angeles  California   \n",
       "8  Brosina Hoffman   Consumer  United States  Los Angeles  California   \n",
       "\n",
       "   Postal Code Region       Product ID         Category Sub-Category  \\\n",
       "2        90036   West  OFF-LA-10000240  Office Supplies       Labels   \n",
       "5        90032   West  FUR-FU-10001487        Furniture  Furnishings   \n",
       "6        90032   West  OFF-AR-10002833  Office Supplies          Art   \n",
       "7        90032   West  TEC-PH-10002275       Technology       Phones   \n",
       "8        90032   West  OFF-BI-10003910  Office Supplies      Binders   \n",
       "\n",
       "                                        Product Name    Sales  Quantity  \\\n",
       "2  Self-Adhesive Address Labels for Typewriters b...   14.620         2   \n",
       "5  Eldon Expressions Wood and Plastic Desk Access...   48.860         7   \n",
       "6                                         Newell 322    7.280         4   \n",
       "7                     Mitel 5320 IP Phone VoIP phone  907.152         6   \n",
       "8  DXL Angle-View Binders with Locking Rings by S...   18.504         3   \n",
       "\n",
       "   Discount   Profit  \n",
       "2       0.0   6.8714  \n",
       "5       0.0  14.1694  \n",
       "6       0.0   1.9656  \n",
       "7       0.2  90.7152  \n",
       "8       0.2   5.7825  "
      ]
     },
     "execution_count": 182,
     "metadata": {},
     "output_type": "execute_result"
    }
   ],
   "source": [
    "cali = df.loc[df.loc[:, 'State'].isin(['California'])]\n",
    "filtro.head()"
   ]
  },
  {
   "cell_type": "code",
   "execution_count": 188,
   "metadata": {},
   "outputs": [
    {
     "data": {
      "text/html": [
       "<div>\n",
       "<style scoped>\n",
       "    .dataframe tbody tr th:only-of-type {\n",
       "        vertical-align: middle;\n",
       "    }\n",
       "\n",
       "    .dataframe tbody tr th {\n",
       "        vertical-align: top;\n",
       "    }\n",
       "\n",
       "    .dataframe thead th {\n",
       "        text-align: right;\n",
       "    }\n",
       "</style>\n",
       "<table border=\"1\" class=\"dataframe\">\n",
       "  <thead>\n",
       "    <tr style=\"text-align: right;\">\n",
       "      <th></th>\n",
       "      <th>Order Date</th>\n",
       "      <th>Sales</th>\n",
       "    </tr>\n",
       "  </thead>\n",
       "  <tbody>\n",
       "    <tr>\n",
       "      <th>0</th>\n",
       "      <td>2014-01-06</td>\n",
       "      <td>19.440</td>\n",
       "    </tr>\n",
       "    <tr>\n",
       "      <th>1</th>\n",
       "      <td>2014-01-13</td>\n",
       "      <td>1679.749</td>\n",
       "    </tr>\n",
       "    <tr>\n",
       "      <th>2</th>\n",
       "      <td>2014-01-20</td>\n",
       "      <td>38.660</td>\n",
       "    </tr>\n",
       "    <tr>\n",
       "      <th>3</th>\n",
       "      <td>2014-01-27</td>\n",
       "      <td>426.670</td>\n",
       "    </tr>\n",
       "    <tr>\n",
       "      <th>4</th>\n",
       "      <td>2014-01-31</td>\n",
       "      <td>290.666</td>\n",
       "    </tr>\n",
       "    <tr>\n",
       "      <th>...</th>\n",
       "      <td>...</td>\n",
       "      <td>...</td>\n",
       "    </tr>\n",
       "    <tr>\n",
       "      <th>654</th>\n",
       "      <td>2017-12-24</td>\n",
       "      <td>2970.432</td>\n",
       "    </tr>\n",
       "    <tr>\n",
       "      <th>655</th>\n",
       "      <td>2017-12-25</td>\n",
       "      <td>424.172</td>\n",
       "    </tr>\n",
       "    <tr>\n",
       "      <th>656</th>\n",
       "      <td>2017-12-28</td>\n",
       "      <td>1066.544</td>\n",
       "    </tr>\n",
       "    <tr>\n",
       "      <th>657</th>\n",
       "      <td>2017-12-29</td>\n",
       "      <td>797.064</td>\n",
       "    </tr>\n",
       "    <tr>\n",
       "      <th>658</th>\n",
       "      <td>2017-12-30</td>\n",
       "      <td>34.624</td>\n",
       "    </tr>\n",
       "  </tbody>\n",
       "</table>\n",
       "<p>659 rows × 2 columns</p>\n",
       "</div>"
      ],
      "text/plain": [
       "    Order Date     Sales\n",
       "0   2014-01-06    19.440\n",
       "1   2014-01-13  1679.749\n",
       "2   2014-01-20    38.660\n",
       "3   2014-01-27   426.670\n",
       "4   2014-01-31   290.666\n",
       "..         ...       ...\n",
       "654 2017-12-24  2970.432\n",
       "655 2017-12-25   424.172\n",
       "656 2017-12-28  1066.544\n",
       "657 2017-12-29   797.064\n",
       "658 2017-12-30    34.624\n",
       "\n",
       "[659 rows x 2 columns]"
      ]
     },
     "execution_count": 188,
     "metadata": {},
     "output_type": "execute_result"
    }
   ],
   "source": [
    "cali=cali.groupby('Order Date')[['Sales']].sum().reset_index()\n",
    "cali"
   ]
  },
  {
   "cell_type": "code",
   "execution_count": 189,
   "metadata": {},
   "outputs": [
    {
     "data": {
      "application/vnd.plotly.v1+json": {
       "config": {
        "plotlyServerURL": "https://plot.ly"
       },
       "data": [
        {
         "marker": {
          "color": "blue"
         },
         "mode": "lines",
         "name": "Order Date",
         "type": "scatter",
         "x": [
          "2014-01-06T00:00:00",
          "2014-01-13T00:00:00",
          "2014-01-20T00:00:00",
          "2014-01-27T00:00:00",
          "2014-01-31T00:00:00",
          "2014-02-02T00:00:00",
          "2014-02-04T00:00:00",
          "2014-02-12T00:00:00",
          "2014-02-20T00:00:00",
          "2014-02-22T00:00:00",
          "2014-03-03T00:00:00",
          "2014-03-11T00:00:00",
          "2014-03-14T00:00:00",
          "2014-03-18T00:00:00",
          "2014-03-23T00:00:00",
          "2014-03-24T00:00:00",
          "2014-03-25T00:00:00",
          "2014-03-26T00:00:00",
          "2014-03-30T00:00:00",
          "2014-03-31T00:00:00",
          "2014-04-01T00:00:00",
          "2014-04-03T00:00:00",
          "2014-04-04T00:00:00",
          "2014-04-06T00:00:00",
          "2014-04-08T00:00:00",
          "2014-04-12T00:00:00",
          "2014-04-15T00:00:00",
          "2014-04-18T00:00:00",
          "2014-04-19T00:00:00",
          "2014-04-20T00:00:00",
          "2014-04-21T00:00:00",
          "2014-04-23T00:00:00",
          "2014-04-25T00:00:00",
          "2014-04-26T00:00:00",
          "2014-04-28T00:00:00",
          "2014-05-06T00:00:00",
          "2014-05-09T00:00:00",
          "2014-05-10T00:00:00",
          "2014-05-13T00:00:00",
          "2014-05-16T00:00:00",
          "2014-05-21T00:00:00",
          "2014-05-26T00:00:00",
          "2014-05-27T00:00:00",
          "2014-06-09T00:00:00",
          "2014-06-13T00:00:00",
          "2014-06-18T00:00:00",
          "2014-06-25T00:00:00",
          "2014-06-30T00:00:00",
          "2014-07-05T00:00:00",
          "2014-07-06T00:00:00",
          "2014-07-08T00:00:00",
          "2014-07-09T00:00:00",
          "2014-07-12T00:00:00",
          "2014-07-13T00:00:00",
          "2014-07-20T00:00:00",
          "2014-07-21T00:00:00",
          "2014-07-22T00:00:00",
          "2014-07-23T00:00:00",
          "2014-07-25T00:00:00",
          "2014-07-27T00:00:00",
          "2014-08-01T00:00:00",
          "2014-08-05T00:00:00",
          "2014-08-08T00:00:00",
          "2014-08-09T00:00:00",
          "2014-08-12T00:00:00",
          "2014-08-15T00:00:00",
          "2014-08-19T00:00:00",
          "2014-08-23T00:00:00",
          "2014-08-25T00:00:00",
          "2014-08-26T00:00:00",
          "2014-08-27T00:00:00",
          "2014-08-29T00:00:00",
          "2014-09-01T00:00:00",
          "2014-09-06T00:00:00",
          "2014-09-07T00:00:00",
          "2014-09-08T00:00:00",
          "2014-09-11T00:00:00",
          "2014-09-17T00:00:00",
          "2014-09-19T00:00:00",
          "2014-09-20T00:00:00",
          "2014-09-21T00:00:00",
          "2014-09-22T00:00:00",
          "2014-09-23T00:00:00",
          "2014-09-24T00:00:00",
          "2014-09-26T00:00:00",
          "2014-09-27T00:00:00",
          "2014-09-29T00:00:00",
          "2014-10-03T00:00:00",
          "2014-10-04T00:00:00",
          "2014-10-05T00:00:00",
          "2014-10-06T00:00:00",
          "2014-10-09T00:00:00",
          "2014-10-10T00:00:00",
          "2014-10-11T00:00:00",
          "2014-10-12T00:00:00",
          "2014-10-16T00:00:00",
          "2014-10-19T00:00:00",
          "2014-10-21T00:00:00",
          "2014-10-24T00:00:00",
          "2014-10-25T00:00:00",
          "2014-10-28T00:00:00",
          "2014-10-31T00:00:00",
          "2014-11-01T00:00:00",
          "2014-11-02T00:00:00",
          "2014-11-03T00:00:00",
          "2014-11-04T00:00:00",
          "2014-11-05T00:00:00",
          "2014-11-07T00:00:00",
          "2014-11-08T00:00:00",
          "2014-11-09T00:00:00",
          "2014-11-10T00:00:00",
          "2014-11-11T00:00:00",
          "2014-11-12T00:00:00",
          "2014-11-15T00:00:00",
          "2014-11-16T00:00:00",
          "2014-11-17T00:00:00",
          "2014-11-21T00:00:00",
          "2014-11-22T00:00:00",
          "2014-11-23T00:00:00",
          "2014-11-24T00:00:00",
          "2014-11-25T00:00:00",
          "2014-11-26T00:00:00",
          "2014-11-28T00:00:00",
          "2014-11-29T00:00:00",
          "2014-12-01T00:00:00",
          "2014-12-05T00:00:00",
          "2014-12-06T00:00:00",
          "2014-12-07T00:00:00",
          "2014-12-08T00:00:00",
          "2014-12-09T00:00:00",
          "2014-12-12T00:00:00",
          "2014-12-13T00:00:00",
          "2014-12-15T00:00:00",
          "2014-12-16T00:00:00",
          "2014-12-19T00:00:00",
          "2014-12-20T00:00:00",
          "2014-12-21T00:00:00",
          "2014-12-22T00:00:00",
          "2014-12-24T00:00:00",
          "2014-12-26T00:00:00",
          "2014-12-27T00:00:00",
          "2014-12-28T00:00:00",
          "2014-12-29T00:00:00",
          "2015-01-05T00:00:00",
          "2015-01-13T00:00:00",
          "2015-01-26T00:00:00",
          "2015-01-27T00:00:00",
          "2015-01-30T00:00:00",
          "2015-02-03T00:00:00",
          "2015-02-09T00:00:00",
          "2015-02-15T00:00:00",
          "2015-02-16T00:00:00",
          "2015-02-18T00:00:00",
          "2015-03-01T00:00:00",
          "2015-03-06T00:00:00",
          "2015-03-13T00:00:00",
          "2015-03-14T00:00:00",
          "2015-03-16T00:00:00",
          "2015-03-19T00:00:00",
          "2015-03-22T00:00:00",
          "2015-03-23T00:00:00",
          "2015-03-28T00:00:00",
          "2015-03-29T00:00:00",
          "2015-04-02T00:00:00",
          "2015-04-05T00:00:00",
          "2015-04-09T00:00:00",
          "2015-04-10T00:00:00",
          "2015-04-11T00:00:00",
          "2015-04-13T00:00:00",
          "2015-04-17T00:00:00",
          "2015-04-18T00:00:00",
          "2015-04-22T00:00:00",
          "2015-04-25T00:00:00",
          "2015-04-26T00:00:00",
          "2015-04-30T00:00:00",
          "2015-05-01T00:00:00",
          "2015-05-03T00:00:00",
          "2015-05-12T00:00:00",
          "2015-05-14T00:00:00",
          "2015-05-18T00:00:00",
          "2015-05-22T00:00:00",
          "2015-05-25T00:00:00",
          "2015-05-31T00:00:00",
          "2015-06-01T00:00:00",
          "2015-06-04T00:00:00",
          "2015-06-07T00:00:00",
          "2015-06-13T00:00:00",
          "2015-06-15T00:00:00",
          "2015-06-18T00:00:00",
          "2015-06-19T00:00:00",
          "2015-06-20T00:00:00",
          "2015-06-23T00:00:00",
          "2015-06-25T00:00:00",
          "2015-07-04T00:00:00",
          "2015-07-06T00:00:00",
          "2015-07-10T00:00:00",
          "2015-07-16T00:00:00",
          "2015-07-17T00:00:00",
          "2015-07-18T00:00:00",
          "2015-07-25T00:00:00",
          "2015-07-26T00:00:00",
          "2015-07-30T00:00:00",
          "2015-08-01T00:00:00",
          "2015-08-07T00:00:00",
          "2015-08-08T00:00:00",
          "2015-08-13T00:00:00",
          "2015-08-15T00:00:00",
          "2015-08-21T00:00:00",
          "2015-08-25T00:00:00",
          "2015-08-27T00:00:00",
          "2015-08-28T00:00:00",
          "2015-08-31T00:00:00",
          "2015-09-01T00:00:00",
          "2015-09-03T00:00:00",
          "2015-09-05T00:00:00",
          "2015-09-06T00:00:00",
          "2015-09-07T00:00:00",
          "2015-09-08T00:00:00",
          "2015-09-10T00:00:00",
          "2015-09-11T00:00:00",
          "2015-09-13T00:00:00",
          "2015-09-14T00:00:00",
          "2015-09-17T00:00:00",
          "2015-09-18T00:00:00",
          "2015-09-19T00:00:00",
          "2015-09-21T00:00:00",
          "2015-09-22T00:00:00",
          "2015-09-24T00:00:00",
          "2015-09-25T00:00:00",
          "2015-09-26T00:00:00",
          "2015-09-27T00:00:00",
          "2015-09-28T00:00:00",
          "2015-10-02T00:00:00",
          "2015-10-03T00:00:00",
          "2015-10-04T00:00:00",
          "2015-10-08T00:00:00",
          "2015-10-10T00:00:00",
          "2015-10-17T00:00:00",
          "2015-10-19T00:00:00",
          "2015-10-20T00:00:00",
          "2015-10-23T00:00:00",
          "2015-10-24T00:00:00",
          "2015-10-25T00:00:00",
          "2015-10-26T00:00:00",
          "2015-10-29T00:00:00",
          "2015-10-31T00:00:00",
          "2015-11-02T00:00:00",
          "2015-11-03T00:00:00",
          "2015-11-05T00:00:00",
          "2015-11-07T00:00:00",
          "2015-11-08T00:00:00",
          "2015-11-09T00:00:00",
          "2015-11-10T00:00:00",
          "2015-11-12T00:00:00",
          "2015-11-13T00:00:00",
          "2015-11-16T00:00:00",
          "2015-11-17T00:00:00",
          "2015-11-20T00:00:00",
          "2015-11-22T00:00:00",
          "2015-11-24T00:00:00",
          "2015-11-27T00:00:00",
          "2015-11-28T00:00:00",
          "2015-11-29T00:00:00",
          "2015-12-01T00:00:00",
          "2015-12-03T00:00:00",
          "2015-12-04T00:00:00",
          "2015-12-05T00:00:00",
          "2015-12-06T00:00:00",
          "2015-12-07T00:00:00",
          "2015-12-08T00:00:00",
          "2015-12-10T00:00:00",
          "2015-12-11T00:00:00",
          "2015-12-12T00:00:00",
          "2015-12-13T00:00:00",
          "2015-12-14T00:00:00",
          "2015-12-17T00:00:00",
          "2015-12-19T00:00:00",
          "2015-12-20T00:00:00",
          "2015-12-24T00:00:00",
          "2015-12-25T00:00:00",
          "2015-12-27T00:00:00",
          "2015-12-30T00:00:00",
          "2016-01-03T00:00:00",
          "2016-01-07T00:00:00",
          "2016-01-09T00:00:00",
          "2016-01-16T00:00:00",
          "2016-01-21T00:00:00",
          "2016-01-22T00:00:00",
          "2016-01-23T00:00:00",
          "2016-01-28T00:00:00",
          "2016-01-30T00:00:00",
          "2016-01-31T00:00:00",
          "2016-02-01T00:00:00",
          "2016-02-04T00:00:00",
          "2016-02-05T00:00:00",
          "2016-02-07T00:00:00",
          "2016-02-09T00:00:00",
          "2016-02-13T00:00:00",
          "2016-02-19T00:00:00",
          "2016-02-21T00:00:00",
          "2016-02-22T00:00:00",
          "2016-03-03T00:00:00",
          "2016-03-04T00:00:00",
          "2016-03-10T00:00:00",
          "2016-03-12T00:00:00",
          "2016-03-13T00:00:00",
          "2016-03-14T00:00:00",
          "2016-03-15T00:00:00",
          "2016-03-17T00:00:00",
          "2016-03-28T00:00:00",
          "2016-04-07T00:00:00",
          "2016-04-08T00:00:00",
          "2016-04-09T00:00:00",
          "2016-04-10T00:00:00",
          "2016-04-12T00:00:00",
          "2016-04-13T00:00:00",
          "2016-04-14T00:00:00",
          "2016-04-15T00:00:00",
          "2016-04-17T00:00:00",
          "2016-04-19T00:00:00",
          "2016-04-22T00:00:00",
          "2016-04-23T00:00:00",
          "2016-04-24T00:00:00",
          "2016-04-28T00:00:00",
          "2016-05-05T00:00:00",
          "2016-05-06T00:00:00",
          "2016-05-08T00:00:00",
          "2016-05-09T00:00:00",
          "2016-05-11T00:00:00",
          "2016-05-12T00:00:00",
          "2016-05-16T00:00:00",
          "2016-05-18T00:00:00",
          "2016-05-19T00:00:00",
          "2016-05-20T00:00:00",
          "2016-05-21T00:00:00",
          "2016-05-22T00:00:00",
          "2016-05-23T00:00:00",
          "2016-05-26T00:00:00",
          "2016-05-27T00:00:00",
          "2016-05-28T00:00:00",
          "2016-05-30T00:00:00",
          "2016-06-03T00:00:00",
          "2016-06-05T00:00:00",
          "2016-06-06T00:00:00",
          "2016-06-07T00:00:00",
          "2016-06-09T00:00:00",
          "2016-06-10T00:00:00",
          "2016-06-11T00:00:00",
          "2016-06-12T00:00:00",
          "2016-06-14T00:00:00",
          "2016-06-16T00:00:00",
          "2016-06-17T00:00:00",
          "2016-06-19T00:00:00",
          "2016-06-20T00:00:00",
          "2016-06-23T00:00:00",
          "2016-06-24T00:00:00",
          "2016-06-25T00:00:00",
          "2016-06-26T00:00:00",
          "2016-06-27T00:00:00",
          "2016-06-28T00:00:00",
          "2016-07-02T00:00:00",
          "2016-07-03T00:00:00",
          "2016-07-04T00:00:00",
          "2016-07-07T00:00:00",
          "2016-07-12T00:00:00",
          "2016-07-14T00:00:00",
          "2016-07-17T00:00:00",
          "2016-07-19T00:00:00",
          "2016-07-21T00:00:00",
          "2016-07-22T00:00:00",
          "2016-07-25T00:00:00",
          "2016-07-28T00:00:00",
          "2016-07-30T00:00:00",
          "2016-07-31T00:00:00",
          "2016-08-01T00:00:00",
          "2016-08-02T00:00:00",
          "2016-08-04T00:00:00",
          "2016-08-06T00:00:00",
          "2016-08-08T00:00:00",
          "2016-08-14T00:00:00",
          "2016-08-15T00:00:00",
          "2016-08-16T00:00:00",
          "2016-08-21T00:00:00",
          "2016-08-22T00:00:00",
          "2016-08-26T00:00:00",
          "2016-08-30T00:00:00",
          "2016-09-01T00:00:00",
          "2016-09-02T00:00:00",
          "2016-09-04T00:00:00",
          "2016-09-05T00:00:00",
          "2016-09-08T00:00:00",
          "2016-09-09T00:00:00",
          "2016-09-10T00:00:00",
          "2016-09-11T00:00:00",
          "2016-09-16T00:00:00",
          "2016-09-17T00:00:00",
          "2016-09-18T00:00:00",
          "2016-09-19T00:00:00",
          "2016-09-20T00:00:00",
          "2016-09-23T00:00:00",
          "2016-09-24T00:00:00",
          "2016-09-25T00:00:00",
          "2016-09-26T00:00:00",
          "2016-09-29T00:00:00",
          "2016-10-01T00:00:00",
          "2016-10-03T00:00:00",
          "2016-10-07T00:00:00",
          "2016-10-08T00:00:00",
          "2016-10-13T00:00:00",
          "2016-10-17T00:00:00",
          "2016-10-20T00:00:00",
          "2016-10-21T00:00:00",
          "2016-10-24T00:00:00",
          "2016-10-27T00:00:00",
          "2016-10-28T00:00:00",
          "2016-10-29T00:00:00",
          "2016-10-30T00:00:00",
          "2016-10-31T00:00:00",
          "2016-11-03T00:00:00",
          "2016-11-04T00:00:00",
          "2016-11-05T00:00:00",
          "2016-11-06T00:00:00",
          "2016-11-07T00:00:00",
          "2016-11-09T00:00:00",
          "2016-11-10T00:00:00",
          "2016-11-11T00:00:00",
          "2016-11-12T00:00:00",
          "2016-11-14T00:00:00",
          "2016-11-15T00:00:00",
          "2016-11-16T00:00:00",
          "2016-11-17T00:00:00",
          "2016-11-18T00:00:00",
          "2016-11-20T00:00:00",
          "2016-11-21T00:00:00",
          "2016-11-24T00:00:00",
          "2016-11-25T00:00:00",
          "2016-11-26T00:00:00",
          "2016-12-01T00:00:00",
          "2016-12-02T00:00:00",
          "2016-12-03T00:00:00",
          "2016-12-04T00:00:00",
          "2016-12-06T00:00:00",
          "2016-12-08T00:00:00",
          "2016-12-09T00:00:00",
          "2016-12-10T00:00:00",
          "2016-12-11T00:00:00",
          "2016-12-12T00:00:00",
          "2016-12-13T00:00:00",
          "2016-12-14T00:00:00",
          "2016-12-15T00:00:00",
          "2016-12-16T00:00:00",
          "2016-12-17T00:00:00",
          "2016-12-18T00:00:00",
          "2016-12-22T00:00:00",
          "2016-12-24T00:00:00",
          "2016-12-25T00:00:00",
          "2016-12-26T00:00:00",
          "2016-12-27T00:00:00",
          "2016-12-29T00:00:00",
          "2016-12-30T00:00:00",
          "2016-12-31T00:00:00",
          "2017-01-01T00:00:00",
          "2017-01-02T00:00:00",
          "2017-01-03T00:00:00",
          "2017-01-07T00:00:00",
          "2017-01-12T00:00:00",
          "2017-01-14T00:00:00",
          "2017-01-15T00:00:00",
          "2017-01-16T00:00:00",
          "2017-01-20T00:00:00",
          "2017-01-24T00:00:00",
          "2017-01-26T00:00:00",
          "2017-01-28T00:00:00",
          "2017-01-29T00:00:00",
          "2017-01-30T00:00:00",
          "2017-02-02T00:00:00",
          "2017-02-05T00:00:00",
          "2017-02-06T00:00:00",
          "2017-02-09T00:00:00",
          "2017-02-10T00:00:00",
          "2017-02-11T00:00:00",
          "2017-02-18T00:00:00",
          "2017-02-19T00:00:00",
          "2017-02-20T00:00:00",
          "2017-02-23T00:00:00",
          "2017-02-26T00:00:00",
          "2017-03-02T00:00:00",
          "2017-03-03T00:00:00",
          "2017-03-04T00:00:00",
          "2017-03-06T00:00:00",
          "2017-03-08T00:00:00",
          "2017-03-09T00:00:00",
          "2017-03-10T00:00:00",
          "2017-03-12T00:00:00",
          "2017-03-13T00:00:00",
          "2017-03-16T00:00:00",
          "2017-03-17T00:00:00",
          "2017-03-18T00:00:00",
          "2017-03-19T00:00:00",
          "2017-03-21T00:00:00",
          "2017-03-23T00:00:00",
          "2017-03-25T00:00:00",
          "2017-03-27T00:00:00",
          "2017-03-28T00:00:00",
          "2017-03-30T00:00:00",
          "2017-03-31T00:00:00",
          "2017-04-01T00:00:00",
          "2017-04-02T00:00:00",
          "2017-04-08T00:00:00",
          "2017-04-11T00:00:00",
          "2017-04-13T00:00:00",
          "2017-04-15T00:00:00",
          "2017-04-16T00:00:00",
          "2017-04-17T00:00:00",
          "2017-04-22T00:00:00",
          "2017-04-23T00:00:00",
          "2017-04-24T00:00:00",
          "2017-04-25T00:00:00",
          "2017-04-27T00:00:00",
          "2017-04-30T00:00:00",
          "2017-05-02T00:00:00",
          "2017-05-03T00:00:00",
          "2017-05-04T00:00:00",
          "2017-05-05T00:00:00",
          "2017-05-06T00:00:00",
          "2017-05-07T00:00:00",
          "2017-05-08T00:00:00",
          "2017-05-12T00:00:00",
          "2017-05-13T00:00:00",
          "2017-05-14T00:00:00",
          "2017-05-19T00:00:00",
          "2017-05-20T00:00:00",
          "2017-05-22T00:00:00",
          "2017-05-23T00:00:00",
          "2017-05-26T00:00:00",
          "2017-05-30T00:00:00",
          "2017-06-03T00:00:00",
          "2017-06-06T00:00:00",
          "2017-06-08T00:00:00",
          "2017-06-10T00:00:00",
          "2017-06-11T00:00:00",
          "2017-06-15T00:00:00",
          "2017-06-16T00:00:00",
          "2017-06-17T00:00:00",
          "2017-06-18T00:00:00",
          "2017-06-19T00:00:00",
          "2017-06-24T00:00:00",
          "2017-06-26T00:00:00",
          "2017-06-29T00:00:00",
          "2017-06-30T00:00:00",
          "2017-07-03T00:00:00",
          "2017-07-06T00:00:00",
          "2017-07-07T00:00:00",
          "2017-07-08T00:00:00",
          "2017-07-11T00:00:00",
          "2017-07-14T00:00:00",
          "2017-07-17T00:00:00",
          "2017-07-21T00:00:00",
          "2017-07-23T00:00:00",
          "2017-07-24T00:00:00",
          "2017-07-26T00:00:00",
          "2017-07-28T00:00:00",
          "2017-07-30T00:00:00",
          "2017-07-31T00:00:00",
          "2017-08-01T00:00:00",
          "2017-08-03T00:00:00",
          "2017-08-07T00:00:00",
          "2017-08-12T00:00:00",
          "2017-08-13T00:00:00",
          "2017-08-14T00:00:00",
          "2017-08-17T00:00:00",
          "2017-08-20T00:00:00",
          "2017-08-21T00:00:00",
          "2017-08-22T00:00:00",
          "2017-08-27T00:00:00",
          "2017-08-29T00:00:00",
          "2017-08-31T00:00:00",
          "2017-09-02T00:00:00",
          "2017-09-03T00:00:00",
          "2017-09-04T00:00:00",
          "2017-09-07T00:00:00",
          "2017-09-09T00:00:00",
          "2017-09-10T00:00:00",
          "2017-09-11T00:00:00",
          "2017-09-12T00:00:00",
          "2017-09-14T00:00:00",
          "2017-09-15T00:00:00",
          "2017-09-16T00:00:00",
          "2017-09-18T00:00:00",
          "2017-09-19T00:00:00",
          "2017-09-21T00:00:00",
          "2017-09-22T00:00:00",
          "2017-09-23T00:00:00",
          "2017-09-24T00:00:00",
          "2017-09-26T00:00:00",
          "2017-09-28T00:00:00",
          "2017-09-29T00:00:00",
          "2017-09-30T00:00:00",
          "2017-10-01T00:00:00",
          "2017-10-02T00:00:00",
          "2017-10-03T00:00:00",
          "2017-10-05T00:00:00",
          "2017-10-07T00:00:00",
          "2017-10-08T00:00:00",
          "2017-10-09T00:00:00",
          "2017-10-12T00:00:00",
          "2017-10-13T00:00:00",
          "2017-10-14T00:00:00",
          "2017-10-15T00:00:00",
          "2017-10-17T00:00:00",
          "2017-10-19T00:00:00",
          "2017-10-20T00:00:00",
          "2017-10-27T00:00:00",
          "2017-10-30T00:00:00",
          "2017-11-02T00:00:00",
          "2017-11-03T00:00:00",
          "2017-11-05T00:00:00",
          "2017-11-06T00:00:00",
          "2017-11-07T00:00:00",
          "2017-11-09T00:00:00",
          "2017-11-10T00:00:00",
          "2017-11-11T00:00:00",
          "2017-11-12T00:00:00",
          "2017-11-13T00:00:00",
          "2017-11-14T00:00:00",
          "2017-11-16T00:00:00",
          "2017-11-19T00:00:00",
          "2017-11-20T00:00:00",
          "2017-11-21T00:00:00",
          "2017-11-24T00:00:00",
          "2017-11-25T00:00:00",
          "2017-11-27T00:00:00",
          "2017-11-28T00:00:00",
          "2017-11-30T00:00:00",
          "2017-12-01T00:00:00",
          "2017-12-02T00:00:00",
          "2017-12-03T00:00:00",
          "2017-12-04T00:00:00",
          "2017-12-05T00:00:00",
          "2017-12-06T00:00:00",
          "2017-12-07T00:00:00",
          "2017-12-08T00:00:00",
          "2017-12-09T00:00:00",
          "2017-12-10T00:00:00",
          "2017-12-13T00:00:00",
          "2017-12-14T00:00:00",
          "2017-12-15T00:00:00",
          "2017-12-16T00:00:00",
          "2017-12-17T00:00:00",
          "2017-12-18T00:00:00",
          "2017-12-19T00:00:00",
          "2017-12-21T00:00:00",
          "2017-12-22T00:00:00",
          "2017-12-23T00:00:00",
          "2017-12-24T00:00:00",
          "2017-12-25T00:00:00",
          "2017-12-28T00:00:00",
          "2017-12-29T00:00:00",
          "2017-12-30T00:00:00"
         ],
         "y": [
          19.44,
          1679.749,
          38.66,
          426.67,
          290.666,
          12.35,
          134.38400000000001,
          129.568,
          12.96,
          19.44,
          626.352,
          7.98,
          13.940000000000001,
          4445.488,
          935.1519999999999,
          40.48,
          92.36,
          145.13,
          205.666,
          726.548,
          46.688,
          233.45,
          26.084,
          636.4780000000001,
          499.55199999999996,
          1879.723,
          294.71999999999997,
          323.458,
          76.14,
          59.92,
          16.52,
          48.91,
          2061.01,
          282.568,
          1679.96,
          254.456,
          235.76999999999998,
          1769.784,
          437.42600000000004,
          289.28,
          31.84,
          801.53,
          2139.9339999999997,
          3744.764,
          14.52,
          139.8,
          447.84,
          32.4,
          180.96,
          478.48,
          699.192,
          240.80100000000002,
          1211.75,
          351.216,
          891.4659999999999,
          1173.616,
          1155.772,
          992.828,
          8341.289999999999,
          514.28,
          19.752,
          550.164,
          2473.096,
          26.86,
          891.7760000000001,
          505.282,
          358.696,
          49.568,
          176.14,
          176.8,
          244.76,
          123.28,
          53.94,
          100.36,
          131.84,
          134.228,
          127.95,
          182.94,
          12.83,
          104.392,
          451.28400000000005,
          210.13,
          519.9830000000001,
          211.96,
          750.5600000000001,
          685.9,
          968.3,
          265.784,
          110.098,
          99.98,
          9.09,
          160.59199999999998,
          137.632,
          473.128,
          36.29,
          194.322,
          641.104,
          36.36,
          34.272,
          49.408,
          1252.602,
          1081.52,
          65.8,
          409.30400000000003,
          6.72,
          1767.6960000000001,
          20.04,
          123.144,
          333.576,
          1517.574,
          807.6859999999999,
          850.756,
          641.024,
          813.99,
          736.0725,
          1075.3700000000001,
          114.53,
          53.82,
          1037.19,
          272.432,
          1644.224,
          149.092,
          643.702,
          606.3199999999999,
          58.2,
          340.84,
          1261.33,
          173.51999999999998,
          119.32,
          34.68,
          4704.5405,
          90.24,
          6.16,
          2712.116,
          832.1379999999999,
          694.534,
          1897.92,
          11.76,
          1910.274,
          15.39,
          362.026,
          1049.97,
          1774.398,
          143.51999999999998,
          612.4580000000001,
          182.72,
          2803.92,
          2147.3360000000002,
          136.92,
          203.92,
          627.4800000000001,
          124.55,
          105.844,
          200.73600000000002,
          1555.244,
          1242.896,
          19.44,
          43.13,
          128.548,
          1701.44,
          466.05,
          199.64000000000001,
          295.68,
          71.976,
          892.224,
          369.912,
          12.832,
          692.728,
          2004.3760000000002,
          2572.5,
          1124.57,
          152.916,
          35.284,
          485.784,
          54.45,
          173.308,
          1140.572,
          38.519999999999996,
          2570.7075,
          10.86,
          3862.0980000000004,
          14.73,
          244.77999999999997,
          11.76,
          1109.95,
          7.52,
          36.624,
          225.576,
          51.98,
          205.73,
          383.616,
          366.99,
          618.792,
          22.848,
          170.352,
          39.92,
          2048.8559999999998,
          195.466,
          519.96,
          623.96,
          299.34000000000003,
          226.13,
          1011.696,
          19.152,
          158.672,
          82.36,
          497.59000000000003,
          1299.526,
          146.744,
          639.9739999999999,
          2017.532,
          2580.837,
          979.104,
          314.726,
          733.283,
          46.32,
          671.93,
          68.28,
          158.20000000000002,
          455.85,
          1336.352,
          170.136,
          32.4,
          684.84,
          83.80000000000001,
          609.4359999999999,
          266.03999999999996,
          1173.03,
          17.48,
          188.63,
          175.29,
          438.736,
          897.18,
          120.666,
          26.96,
          145.9,
          438.54600000000005,
          77.88,
          1910.7,
          695.5260000000001,
          1446.784,
          454.272,
          313.626,
          5.76,
          244.24,
          3058.149,
          1777.739,
          1345.418,
          62.8,
          190.72,
          496.87,
          2.48,
          79.9,
          15.7,
          723.164,
          18.9,
          1873.606,
          860.4119999999999,
          114.37,
          1218.7640000000001,
          505.71000000000004,
          45.28,
          60.604,
          2676.672,
          359.499,
          460.172,
          96.06,
          388.824,
          92.88,
          457.96000000000004,
          62.059999999999995,
          110.528,
          1287.986,
          966.0659999999999,
          472.116,
          450.19399999999996,
          1941.81,
          17.12,
          65.856,
          1240.46,
          1127.7,
          3251.34,
          114.46,
          34.58,
          727.8779999999999,
          102.21799999999999,
          1167.056,
          65.05,
          59.99,
          39.68,
          399.26,
          166.292,
          105.52,
          93.02,
          918.9659999999999,
          623.96,
          121.83,
          146.82,
          70.88,
          511.948,
          492.84999999999997,
          60.63,
          16.99,
          7558.262,
          1652.3419999999999,
          4992.054,
          41.904,
          1356.576,
          84.784,
          93.9,
          1199.976,
          122.65999999999998,
          556.665,
          928.1220000000001,
          901.912,
          6.12,
          383.8,
          1265.268,
          257.499,
          156.516,
          31.56,
          441.568,
          3.984,
          41.568,
          628.732,
          41.6,
          17.94,
          32.04,
          5.98,
          128.67,
          327.9,
          122.22,
          97.424,
          1064.624,
          121.436,
          222.384,
          37.05,
          1119.1480000000001,
          13.38,
          1157.6799999999998,
          206.72,
          71.088,
          79.792,
          3650.4379999999996,
          9.514,
          299.832,
          1388.7800000000002,
          902.712,
          213.46,
          1946.353,
          46.35,
          593.966,
          17.12,
          453.8,
          997.9340000000001,
          4861.33,
          60.81,
          284.24,
          201.584,
          41.32,
          195.184,
          16.92,
          1376.445,
          3352.518,
          95.76,
          292.796,
          77.88,
          425.954,
          423.04999999999995,
          6.3,
          744.894,
          18.9,
          715.64,
          863.128,
          1085.688,
          482.584,
          335.12,
          211.168,
          1016.184,
          121.09200000000001,
          608.2159999999999,
          204.54000000000002,
          3339.1220000000003,
          5.76,
          1776.526,
          387,
          34.66,
          1850.778,
          2824.23,
          228.12,
          557.06,
          55.36,
          276.784,
          3727.792,
          304.106,
          100.164,
          2295.9900000000002,
          187,
          475.694,
          22.979999999999997,
          1015,
          1553.314,
          562.4975,
          82.45,
          194.848,
          1027.676,
          37.824,
          61.96,
          256.19599999999997,
          138.826,
          406.432,
          792.7660000000001,
          1109.97,
          136.088,
          495.93199999999996,
          11.744,
          3.62,
          2489.34,
          2051.454,
          968.258,
          426.38599999999997,
          404.824,
          655.6700000000001,
          479.97,
          1778.298,
          531.576,
          878.328,
          17.22,
          1515.694,
          8.32,
          49.5,
          785.152,
          66.88,
          32.4,
          2948.032,
          194.352,
          4104.174,
          1255.5,
          303.358,
          3079.54,
          104.85,
          1037.742,
          1862.0140000000001,
          273.92,
          401.84799999999996,
          1937.924,
          440.15999999999997,
          1130.2079999999999,
          216.22400000000002,
          14.76,
          585.13,
          2003.52,
          1754.026,
          884.6800000000001,
          83.72,
          2875.544,
          1431.078,
          20.16,
          53.222,
          487.704,
          340.75199999999995,
          474.43,
          16.59,
          2070.272,
          332.8,
          9.78,
          154.9,
          21.4,
          427.59200000000004,
          544.952,
          412.996,
          11.84,
          277.71,
          136.526,
          271.644,
          753.624,
          2011.9,
          29.9,
          376.02,
          203.983,
          21.336,
          287.326,
          57.510000000000005,
          238.19799999999998,
          37.44,
          2847.6459999999997,
          784.364,
          1619.464,
          24.57,
          611.47,
          174.56,
          710.804,
          111.96,
          242.94,
          314.55,
          540.934,
          17.456,
          124.16,
          2128.398,
          745.2800000000001,
          211.84,
          1069.132,
          168.58,
          1435.96,
          265.072,
          29.7,
          5410.108,
          25.11,
          440.31,
          241.81,
          436.704,
          79.14,
          349.493,
          562.702,
          18.28,
          183.38,
          1.81,
          559.249,
          183.61,
          292.5,
          269.18,
          881.84,
          745.634,
          23.16,
          152.94,
          499.934,
          3441.032,
          551.038,
          58.48,
          1418.21,
          859.9480000000001,
          868.452,
          130.64,
          171.288,
          12.96,
          72.62,
          60.622,
          31.349999999999998,
          1515.186,
          854.8249999999999,
          184.41,
          172.196,
          1231.5,
          51.312,
          956.8035,
          74.88,
          520.22,
          83.76,
          2708.9519999999998,
          640.9490000000001,
          217.31,
          122.136,
          5.94,
          221.08,
          1565.9720000000002,
          988.204,
          1775.009,
          1921.7,
          73.512,
          2399.96,
          2012.3020000000001,
          1170.5639999999999,
          356.65,
          93.52000000000001,
          241.43599999999998,
          275.58,
          2981.584,
          597.86,
          242.69400000000002,
          440.736,
          3397.732,
          616.7,
          1520.15,
          210.008,
          2971.7920000000004,
          148.02,
          890.03,
          1249.322,
          613.156,
          4068.726,
          229.26800000000003,
          557.83,
          369.536,
          2691.7639999999997,
          174.8,
          56.7,
          4171.888,
          32.7,
          163.38,
          190.01,
          71.37,
          21.96,
          1065.6000000000001,
          1403.8600000000001,
          1065.2160000000001,
          9.24,
          500.546,
          159.98,
          518.534,
          2073.88,
          171.288,
          874.928,
          1632.24,
          419.832,
          35.2,
          544.55,
          5325.884,
          55.82,
          993.21,
          63.432,
          135.012,
          24.678,
          914.0409999999999,
          1993.772,
          1326.982,
          2395.1820000000002,
          12.96,
          219.73999999999998,
          1283.106,
          950.038,
          361.014,
          186.85,
          36.136,
          104.95,
          355.808,
          2953.146,
          355.678,
          410.576,
          792.232,
          694.288,
          449.17900000000003,
          604.606,
          62.65,
          25.83,
          685.1279999999999,
          2235.938,
          166.44,
          11.76,
          92.94,
          10.68,
          424.416,
          4487.381,
          1689.513,
          194.304,
          261.52,
          134.91,
          273.92600000000004,
          814.526,
          535.578,
          344.235,
          36.672,
          1136.8899999999999,
          474.95,
          13.48,
          2970.4320000000002,
          424.172,
          1066.544,
          797.064,
          34.623999999999995
         ]
        }
       ],
       "layout": {
        "template": {
         "data": {
          "bar": [
           {
            "error_x": {
             "color": "#2a3f5f"
            },
            "error_y": {
             "color": "#2a3f5f"
            },
            "marker": {
             "line": {
              "color": "#E5ECF6",
              "width": 0.5
             },
             "pattern": {
              "fillmode": "overlay",
              "size": 10,
              "solidity": 0.2
             }
            },
            "type": "bar"
           }
          ],
          "barpolar": [
           {
            "marker": {
             "line": {
              "color": "#E5ECF6",
              "width": 0.5
             },
             "pattern": {
              "fillmode": "overlay",
              "size": 10,
              "solidity": 0.2
             }
            },
            "type": "barpolar"
           }
          ],
          "carpet": [
           {
            "aaxis": {
             "endlinecolor": "#2a3f5f",
             "gridcolor": "white",
             "linecolor": "white",
             "minorgridcolor": "white",
             "startlinecolor": "#2a3f5f"
            },
            "baxis": {
             "endlinecolor": "#2a3f5f",
             "gridcolor": "white",
             "linecolor": "white",
             "minorgridcolor": "white",
             "startlinecolor": "#2a3f5f"
            },
            "type": "carpet"
           }
          ],
          "choropleth": [
           {
            "colorbar": {
             "outlinewidth": 0,
             "ticks": ""
            },
            "type": "choropleth"
           }
          ],
          "contour": [
           {
            "colorbar": {
             "outlinewidth": 0,
             "ticks": ""
            },
            "colorscale": [
             [
              0,
              "#0d0887"
             ],
             [
              0.1111111111111111,
              "#46039f"
             ],
             [
              0.2222222222222222,
              "#7201a8"
             ],
             [
              0.3333333333333333,
              "#9c179e"
             ],
             [
              0.4444444444444444,
              "#bd3786"
             ],
             [
              0.5555555555555556,
              "#d8576b"
             ],
             [
              0.6666666666666666,
              "#ed7953"
             ],
             [
              0.7777777777777778,
              "#fb9f3a"
             ],
             [
              0.8888888888888888,
              "#fdca26"
             ],
             [
              1,
              "#f0f921"
             ]
            ],
            "type": "contour"
           }
          ],
          "contourcarpet": [
           {
            "colorbar": {
             "outlinewidth": 0,
             "ticks": ""
            },
            "type": "contourcarpet"
           }
          ],
          "heatmap": [
           {
            "colorbar": {
             "outlinewidth": 0,
             "ticks": ""
            },
            "colorscale": [
             [
              0,
              "#0d0887"
             ],
             [
              0.1111111111111111,
              "#46039f"
             ],
             [
              0.2222222222222222,
              "#7201a8"
             ],
             [
              0.3333333333333333,
              "#9c179e"
             ],
             [
              0.4444444444444444,
              "#bd3786"
             ],
             [
              0.5555555555555556,
              "#d8576b"
             ],
             [
              0.6666666666666666,
              "#ed7953"
             ],
             [
              0.7777777777777778,
              "#fb9f3a"
             ],
             [
              0.8888888888888888,
              "#fdca26"
             ],
             [
              1,
              "#f0f921"
             ]
            ],
            "type": "heatmap"
           }
          ],
          "heatmapgl": [
           {
            "colorbar": {
             "outlinewidth": 0,
             "ticks": ""
            },
            "colorscale": [
             [
              0,
              "#0d0887"
             ],
             [
              0.1111111111111111,
              "#46039f"
             ],
             [
              0.2222222222222222,
              "#7201a8"
             ],
             [
              0.3333333333333333,
              "#9c179e"
             ],
             [
              0.4444444444444444,
              "#bd3786"
             ],
             [
              0.5555555555555556,
              "#d8576b"
             ],
             [
              0.6666666666666666,
              "#ed7953"
             ],
             [
              0.7777777777777778,
              "#fb9f3a"
             ],
             [
              0.8888888888888888,
              "#fdca26"
             ],
             [
              1,
              "#f0f921"
             ]
            ],
            "type": "heatmapgl"
           }
          ],
          "histogram": [
           {
            "marker": {
             "pattern": {
              "fillmode": "overlay",
              "size": 10,
              "solidity": 0.2
             }
            },
            "type": "histogram"
           }
          ],
          "histogram2d": [
           {
            "colorbar": {
             "outlinewidth": 0,
             "ticks": ""
            },
            "colorscale": [
             [
              0,
              "#0d0887"
             ],
             [
              0.1111111111111111,
              "#46039f"
             ],
             [
              0.2222222222222222,
              "#7201a8"
             ],
             [
              0.3333333333333333,
              "#9c179e"
             ],
             [
              0.4444444444444444,
              "#bd3786"
             ],
             [
              0.5555555555555556,
              "#d8576b"
             ],
             [
              0.6666666666666666,
              "#ed7953"
             ],
             [
              0.7777777777777778,
              "#fb9f3a"
             ],
             [
              0.8888888888888888,
              "#fdca26"
             ],
             [
              1,
              "#f0f921"
             ]
            ],
            "type": "histogram2d"
           }
          ],
          "histogram2dcontour": [
           {
            "colorbar": {
             "outlinewidth": 0,
             "ticks": ""
            },
            "colorscale": [
             [
              0,
              "#0d0887"
             ],
             [
              0.1111111111111111,
              "#46039f"
             ],
             [
              0.2222222222222222,
              "#7201a8"
             ],
             [
              0.3333333333333333,
              "#9c179e"
             ],
             [
              0.4444444444444444,
              "#bd3786"
             ],
             [
              0.5555555555555556,
              "#d8576b"
             ],
             [
              0.6666666666666666,
              "#ed7953"
             ],
             [
              0.7777777777777778,
              "#fb9f3a"
             ],
             [
              0.8888888888888888,
              "#fdca26"
             ],
             [
              1,
              "#f0f921"
             ]
            ],
            "type": "histogram2dcontour"
           }
          ],
          "mesh3d": [
           {
            "colorbar": {
             "outlinewidth": 0,
             "ticks": ""
            },
            "type": "mesh3d"
           }
          ],
          "parcoords": [
           {
            "line": {
             "colorbar": {
              "outlinewidth": 0,
              "ticks": ""
             }
            },
            "type": "parcoords"
           }
          ],
          "pie": [
           {
            "automargin": true,
            "type": "pie"
           }
          ],
          "scatter": [
           {
            "fillpattern": {
             "fillmode": "overlay",
             "size": 10,
             "solidity": 0.2
            },
            "type": "scatter"
           }
          ],
          "scatter3d": [
           {
            "line": {
             "colorbar": {
              "outlinewidth": 0,
              "ticks": ""
             }
            },
            "marker": {
             "colorbar": {
              "outlinewidth": 0,
              "ticks": ""
             }
            },
            "type": "scatter3d"
           }
          ],
          "scattercarpet": [
           {
            "marker": {
             "colorbar": {
              "outlinewidth": 0,
              "ticks": ""
             }
            },
            "type": "scattercarpet"
           }
          ],
          "scattergeo": [
           {
            "marker": {
             "colorbar": {
              "outlinewidth": 0,
              "ticks": ""
             }
            },
            "type": "scattergeo"
           }
          ],
          "scattergl": [
           {
            "marker": {
             "colorbar": {
              "outlinewidth": 0,
              "ticks": ""
             }
            },
            "type": "scattergl"
           }
          ],
          "scattermapbox": [
           {
            "marker": {
             "colorbar": {
              "outlinewidth": 0,
              "ticks": ""
             }
            },
            "type": "scattermapbox"
           }
          ],
          "scatterpolar": [
           {
            "marker": {
             "colorbar": {
              "outlinewidth": 0,
              "ticks": ""
             }
            },
            "type": "scatterpolar"
           }
          ],
          "scatterpolargl": [
           {
            "marker": {
             "colorbar": {
              "outlinewidth": 0,
              "ticks": ""
             }
            },
            "type": "scatterpolargl"
           }
          ],
          "scatterternary": [
           {
            "marker": {
             "colorbar": {
              "outlinewidth": 0,
              "ticks": ""
             }
            },
            "type": "scatterternary"
           }
          ],
          "surface": [
           {
            "colorbar": {
             "outlinewidth": 0,
             "ticks": ""
            },
            "colorscale": [
             [
              0,
              "#0d0887"
             ],
             [
              0.1111111111111111,
              "#46039f"
             ],
             [
              0.2222222222222222,
              "#7201a8"
             ],
             [
              0.3333333333333333,
              "#9c179e"
             ],
             [
              0.4444444444444444,
              "#bd3786"
             ],
             [
              0.5555555555555556,
              "#d8576b"
             ],
             [
              0.6666666666666666,
              "#ed7953"
             ],
             [
              0.7777777777777778,
              "#fb9f3a"
             ],
             [
              0.8888888888888888,
              "#fdca26"
             ],
             [
              1,
              "#f0f921"
             ]
            ],
            "type": "surface"
           }
          ],
          "table": [
           {
            "cells": {
             "fill": {
              "color": "#EBF0F8"
             },
             "line": {
              "color": "white"
             }
            },
            "header": {
             "fill": {
              "color": "#C8D4E3"
             },
             "line": {
              "color": "white"
             }
            },
            "type": "table"
           }
          ]
         },
         "layout": {
          "annotationdefaults": {
           "arrowcolor": "#2a3f5f",
           "arrowhead": 0,
           "arrowwidth": 1
          },
          "autotypenumbers": "strict",
          "coloraxis": {
           "colorbar": {
            "outlinewidth": 0,
            "ticks": ""
           }
          },
          "colorscale": {
           "diverging": [
            [
             0,
             "#8e0152"
            ],
            [
             0.1,
             "#c51b7d"
            ],
            [
             0.2,
             "#de77ae"
            ],
            [
             0.3,
             "#f1b6da"
            ],
            [
             0.4,
             "#fde0ef"
            ],
            [
             0.5,
             "#f7f7f7"
            ],
            [
             0.6,
             "#e6f5d0"
            ],
            [
             0.7,
             "#b8e186"
            ],
            [
             0.8,
             "#7fbc41"
            ],
            [
             0.9,
             "#4d9221"
            ],
            [
             1,
             "#276419"
            ]
           ],
           "sequential": [
            [
             0,
             "#0d0887"
            ],
            [
             0.1111111111111111,
             "#46039f"
            ],
            [
             0.2222222222222222,
             "#7201a8"
            ],
            [
             0.3333333333333333,
             "#9c179e"
            ],
            [
             0.4444444444444444,
             "#bd3786"
            ],
            [
             0.5555555555555556,
             "#d8576b"
            ],
            [
             0.6666666666666666,
             "#ed7953"
            ],
            [
             0.7777777777777778,
             "#fb9f3a"
            ],
            [
             0.8888888888888888,
             "#fdca26"
            ],
            [
             1,
             "#f0f921"
            ]
           ],
           "sequentialminus": [
            [
             0,
             "#0d0887"
            ],
            [
             0.1111111111111111,
             "#46039f"
            ],
            [
             0.2222222222222222,
             "#7201a8"
            ],
            [
             0.3333333333333333,
             "#9c179e"
            ],
            [
             0.4444444444444444,
             "#bd3786"
            ],
            [
             0.5555555555555556,
             "#d8576b"
            ],
            [
             0.6666666666666666,
             "#ed7953"
            ],
            [
             0.7777777777777778,
             "#fb9f3a"
            ],
            [
             0.8888888888888888,
             "#fdca26"
            ],
            [
             1,
             "#f0f921"
            ]
           ]
          },
          "colorway": [
           "#636efa",
           "#EF553B",
           "#00cc96",
           "#ab63fa",
           "#FFA15A",
           "#19d3f3",
           "#FF6692",
           "#B6E880",
           "#FF97FF",
           "#FECB52"
          ],
          "font": {
           "color": "#2a3f5f"
          },
          "geo": {
           "bgcolor": "white",
           "lakecolor": "white",
           "landcolor": "#E5ECF6",
           "showlakes": true,
           "showland": true,
           "subunitcolor": "white"
          },
          "hoverlabel": {
           "align": "left"
          },
          "hovermode": "closest",
          "mapbox": {
           "style": "light"
          },
          "paper_bgcolor": "white",
          "plot_bgcolor": "#E5ECF6",
          "polar": {
           "angularaxis": {
            "gridcolor": "white",
            "linecolor": "white",
            "ticks": ""
           },
           "bgcolor": "#E5ECF6",
           "radialaxis": {
            "gridcolor": "white",
            "linecolor": "white",
            "ticks": ""
           }
          },
          "scene": {
           "xaxis": {
            "backgroundcolor": "#E5ECF6",
            "gridcolor": "white",
            "gridwidth": 2,
            "linecolor": "white",
            "showbackground": true,
            "ticks": "",
            "zerolinecolor": "white"
           },
           "yaxis": {
            "backgroundcolor": "#E5ECF6",
            "gridcolor": "white",
            "gridwidth": 2,
            "linecolor": "white",
            "showbackground": true,
            "ticks": "",
            "zerolinecolor": "white"
           },
           "zaxis": {
            "backgroundcolor": "#E5ECF6",
            "gridcolor": "white",
            "gridwidth": 2,
            "linecolor": "white",
            "showbackground": true,
            "ticks": "",
            "zerolinecolor": "white"
           }
          },
          "shapedefaults": {
           "line": {
            "color": "#2a3f5f"
           }
          },
          "ternary": {
           "aaxis": {
            "gridcolor": "white",
            "linecolor": "white",
            "ticks": ""
           },
           "baxis": {
            "gridcolor": "white",
            "linecolor": "white",
            "ticks": ""
           },
           "bgcolor": "#E5ECF6",
           "caxis": {
            "gridcolor": "white",
            "linecolor": "white",
            "ticks": ""
           }
          },
          "title": {
           "x": 0.05
          },
          "xaxis": {
           "automargin": true,
           "gridcolor": "white",
           "linecolor": "white",
           "ticks": "",
           "title": {
            "standoff": 15
           },
           "zerolinecolor": "white",
           "zerolinewidth": 2
          },
          "yaxis": {
           "automargin": true,
           "gridcolor": "white",
           "linecolor": "white",
           "ticks": "",
           "title": {
            "standoff": 15
           },
           "zerolinecolor": "white",
           "zerolinewidth": 2
          }
         }
        },
        "title": {
         "text": "Profits California"
        },
        "xaxis": {
         "ticklen": 5,
         "title": {
          "text": "Order Date"
         }
        }
       }
      }
     },
     "metadata": {},
     "output_type": "display_data"
    }
   ],
   "source": [
    "trace1 = go.Scatter(x = cali['Order Date'],\n",
    "                    y = cali['Sales'],\n",
    "                    name = 'Order Date',\n",
    "                    mode= 'lines',  # tambien puede ser markers y lines+markers\n",
    "                    marker = dict(color = 'blue'),\n",
    "                    \n",
    "                )\n",
    "\n",
    "\n",
    "data = [trace1]\n",
    "\n",
    "layout = dict(title= 'Profits California',\n",
    "             xaxis= dict(title= 'Order Date',ticklen= 5) # El layout no es necesario poner, lo pone por defecto. \n",
    "           )\n",
    "\n",
    "fig = go.Figure(data = data, layout=layout)\n",
    "\n",
    "fig"
   ]
  }
 ],
 "metadata": {
  "colab": {
   "name": "widgets_plotly_superstore_enunciado.ipynb",
   "provenance": []
  },
  "kernelspec": {
   "display_name": "data_analisis_env",
   "language": "python",
   "name": "python3"
  },
  "language_info": {
   "codemirror_mode": {
    "name": "ipython",
    "version": 3
   },
   "file_extension": ".py",
   "mimetype": "text/x-python",
   "name": "python",
   "nbconvert_exporter": "python",
   "pygments_lexer": "ipython3",
   "version": "3.10.15"
  }
 },
 "nbformat": 4,
 "nbformat_minor": 4
}
